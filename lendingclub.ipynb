{
 "cells": [
  {
   "cell_type": "markdown",
   "metadata": {},
   "source": [
    "# Lending Club default prediction\n",
    "### Jay Zhu"
   ]
  },
  {
   "cell_type": "markdown",
   "metadata": {},
   "source": [
    "# Part 1. Read in and explore the data\n",
    "Read in data using pd.read_csv. \n",
    "List column information. \n",
    "List values of the first few rows. \n",
    "Identify important columns, e.g. loan amount, loan date, loan grade, loan status, etc. "
   ]
  },
  {
   "cell_type": "code",
   "execution_count": 1,
   "metadata": {},
   "outputs": [],
   "source": [
    "import pandas as pd\n",
    "import numpy as np\n",
    "data = pd.read_csv('LoanStats_2015_subset.csv', low_memory=False)"
   ]
  },
  {
   "cell_type": "code",
   "execution_count": 2,
   "metadata": {},
   "outputs": [
    {
     "name": "stdout",
     "output_type": "stream",
     "text": [
      "Index(['acc_now_delinq', 'acc_open_past_24mths', 'addr_state', 'all_util',\n",
      "       'annual_inc', 'annual_inc_joint', 'application_type', 'avg_cur_bal',\n",
      "       'bc_open_to_buy', 'bc_util',\n",
      "       ...\n",
      "       'sec_app_earliest_cr_line', 'sec_app_inq_last_6mths',\n",
      "       'sec_app_mort_acc', 'sec_app_open_acc', 'sec_app_revol_util',\n",
      "       'sec_app_open_act_il', 'sec_app_num_rev_accts',\n",
      "       'sec_app_chargeoff_within_12_mths',\n",
      "       'sec_app_collections_12_mths_ex_med',\n",
      "       'sec_app_mths_since_last_major_derog'],\n",
      "      dtype='object', length=105)\n",
      "(421097, 105)\n"
     ]
    }
   ],
   "source": [
    "# explore the data\n",
    "print(data.columns)\n",
    "print(data.shape)"
   ]
  },
  {
   "cell_type": "code",
   "execution_count": 3,
   "metadata": {},
   "outputs": [
    {
     "data": {
      "text/html": [
       "<div>\n",
       "<style scoped>\n",
       "    .dataframe tbody tr th:only-of-type {\n",
       "        vertical-align: middle;\n",
       "    }\n",
       "\n",
       "    .dataframe tbody tr th {\n",
       "        vertical-align: top;\n",
       "    }\n",
       "\n",
       "    .dataframe thead th {\n",
       "        text-align: right;\n",
       "    }\n",
       "</style>\n",
       "<table border=\"1\" class=\"dataframe\">\n",
       "  <thead>\n",
       "    <tr style=\"text-align: right;\">\n",
       "      <th></th>\n",
       "      <th>acc_now_delinq</th>\n",
       "      <th>acc_open_past_24mths</th>\n",
       "      <th>addr_state</th>\n",
       "      <th>all_util</th>\n",
       "      <th>annual_inc</th>\n",
       "      <th>annual_inc_joint</th>\n",
       "      <th>application_type</th>\n",
       "      <th>avg_cur_bal</th>\n",
       "      <th>bc_open_to_buy</th>\n",
       "      <th>bc_util</th>\n",
       "      <th>chargeoff_within_12_mths</th>\n",
       "      <th>collections_12_mths_ex_med</th>\n",
       "      <th>delinq_2yrs</th>\n",
       "      <th>delinq_amnt</th>\n",
       "      <th>desc</th>\n",
       "      <th>dti</th>\n",
       "      <th>dti_joint</th>\n",
       "      <th>earliest_cr_line</th>\n",
       "      <th>emp_length</th>\n",
       "      <th>emp_title</th>\n",
       "    </tr>\n",
       "  </thead>\n",
       "  <tbody>\n",
       "    <tr>\n",
       "      <th>0</th>\n",
       "      <td>0.0</td>\n",
       "      <td>8.0</td>\n",
       "      <td>KS</td>\n",
       "      <td>42.0</td>\n",
       "      <td>65000.0</td>\n",
       "      <td>NaN</td>\n",
       "      <td>Individual</td>\n",
       "      <td>10086.0</td>\n",
       "      <td>41055.0</td>\n",
       "      <td>17.1</td>\n",
       "      <td>0.0</td>\n",
       "      <td>0.0</td>\n",
       "      <td>0.0</td>\n",
       "      <td>0.0</td>\n",
       "      <td>NaN</td>\n",
       "      <td>23.84</td>\n",
       "      <td>NaN</td>\n",
       "      <td>Nov-2003</td>\n",
       "      <td>10+ years</td>\n",
       "      <td>Teacher</td>\n",
       "    </tr>\n",
       "    <tr>\n",
       "      <th>1</th>\n",
       "      <td>0.0</td>\n",
       "      <td>1.0</td>\n",
       "      <td>VT</td>\n",
       "      <td>34.0</td>\n",
       "      <td>150000.0</td>\n",
       "      <td>NaN</td>\n",
       "      <td>Individual</td>\n",
       "      <td>61551.0</td>\n",
       "      <td>24661.0</td>\n",
       "      <td>44.0</td>\n",
       "      <td>0.0</td>\n",
       "      <td>0.0</td>\n",
       "      <td>0.0</td>\n",
       "      <td>0.0</td>\n",
       "      <td>NaN</td>\n",
       "      <td>9.54</td>\n",
       "      <td>NaN</td>\n",
       "      <td>Feb-1996</td>\n",
       "      <td>1 year</td>\n",
       "      <td>Director</td>\n",
       "    </tr>\n",
       "    <tr>\n",
       "      <th>2</th>\n",
       "      <td>0.0</td>\n",
       "      <td>8.0</td>\n",
       "      <td>IN</td>\n",
       "      <td>50.0</td>\n",
       "      <td>75000.0</td>\n",
       "      <td>NaN</td>\n",
       "      <td>Individual</td>\n",
       "      <td>7176.0</td>\n",
       "      <td>23476.0</td>\n",
       "      <td>59.9</td>\n",
       "      <td>0.0</td>\n",
       "      <td>0.0</td>\n",
       "      <td>0.0</td>\n",
       "      <td>0.0</td>\n",
       "      <td>NaN</td>\n",
       "      <td>31.88</td>\n",
       "      <td>NaN</td>\n",
       "      <td>Oct-2002</td>\n",
       "      <td>10+ years</td>\n",
       "      <td>Engineer</td>\n",
       "    </tr>\n",
       "    <tr>\n",
       "      <th>3</th>\n",
       "      <td>0.0</td>\n",
       "      <td>7.0</td>\n",
       "      <td>OH</td>\n",
       "      <td>71.0</td>\n",
       "      <td>175000.0</td>\n",
       "      <td>NaN</td>\n",
       "      <td>Individual</td>\n",
       "      <td>51015.0</td>\n",
       "      <td>21569.0</td>\n",
       "      <td>50.3</td>\n",
       "      <td>0.0</td>\n",
       "      <td>0.0</td>\n",
       "      <td>0.0</td>\n",
       "      <td>0.0</td>\n",
       "      <td>NaN</td>\n",
       "      <td>18.50</td>\n",
       "      <td>NaN</td>\n",
       "      <td>Aug-1997</td>\n",
       "      <td>2 years</td>\n",
       "      <td>Vice-President</td>\n",
       "    </tr>\n",
       "    <tr>\n",
       "      <th>4</th>\n",
       "      <td>0.0</td>\n",
       "      <td>1.0</td>\n",
       "      <td>FL</td>\n",
       "      <td>91.0</td>\n",
       "      <td>44000.0</td>\n",
       "      <td>NaN</td>\n",
       "      <td>Individual</td>\n",
       "      <td>19041.0</td>\n",
       "      <td>0.0</td>\n",
       "      <td>102.4</td>\n",
       "      <td>0.0</td>\n",
       "      <td>0.0</td>\n",
       "      <td>0.0</td>\n",
       "      <td>0.0</td>\n",
       "      <td>NaN</td>\n",
       "      <td>17.56</td>\n",
       "      <td>NaN</td>\n",
       "      <td>Jun-2006</td>\n",
       "      <td>&lt; 1 year</td>\n",
       "      <td>RN</td>\n",
       "    </tr>\n",
       "    <tr>\n",
       "      <th>5</th>\n",
       "      <td>0.0</td>\n",
       "      <td>1.0</td>\n",
       "      <td>OH</td>\n",
       "      <td>52.0</td>\n",
       "      <td>104000.0</td>\n",
       "      <td>NaN</td>\n",
       "      <td>Individual</td>\n",
       "      <td>3068.0</td>\n",
       "      <td>8302.0</td>\n",
       "      <td>75.0</td>\n",
       "      <td>0.0</td>\n",
       "      <td>0.0</td>\n",
       "      <td>0.0</td>\n",
       "      <td>0.0</td>\n",
       "      <td>NaN</td>\n",
       "      <td>14.01</td>\n",
       "      <td>NaN</td>\n",
       "      <td>Nov-2000</td>\n",
       "      <td>8 years</td>\n",
       "      <td>Aviation Safety Inspector</td>\n",
       "    </tr>\n",
       "  </tbody>\n",
       "</table>\n",
       "</div>"
      ],
      "text/plain": [
       "   acc_now_delinq  acc_open_past_24mths addr_state  all_util  annual_inc  \\\n",
       "0             0.0                   8.0         KS      42.0     65000.0   \n",
       "1             0.0                   1.0         VT      34.0    150000.0   \n",
       "2             0.0                   8.0         IN      50.0     75000.0   \n",
       "3             0.0                   7.0         OH      71.0    175000.0   \n",
       "4             0.0                   1.0         FL      91.0     44000.0   \n",
       "5             0.0                   1.0         OH      52.0    104000.0   \n",
       "\n",
       "   annual_inc_joint application_type  avg_cur_bal  bc_open_to_buy  bc_util  \\\n",
       "0               NaN       Individual      10086.0         41055.0     17.1   \n",
       "1               NaN       Individual      61551.0         24661.0     44.0   \n",
       "2               NaN       Individual       7176.0         23476.0     59.9   \n",
       "3               NaN       Individual      51015.0         21569.0     50.3   \n",
       "4               NaN       Individual      19041.0             0.0    102.4   \n",
       "5               NaN       Individual       3068.0          8302.0     75.0   \n",
       "\n",
       "   chargeoff_within_12_mths  collections_12_mths_ex_med  delinq_2yrs  \\\n",
       "0                       0.0                         0.0          0.0   \n",
       "1                       0.0                         0.0          0.0   \n",
       "2                       0.0                         0.0          0.0   \n",
       "3                       0.0                         0.0          0.0   \n",
       "4                       0.0                         0.0          0.0   \n",
       "5                       0.0                         0.0          0.0   \n",
       "\n",
       "   delinq_amnt desc    dti  dti_joint earliest_cr_line emp_length  \\\n",
       "0          0.0  NaN  23.84        NaN         Nov-2003  10+ years   \n",
       "1          0.0  NaN   9.54        NaN         Feb-1996     1 year   \n",
       "2          0.0  NaN  31.88        NaN         Oct-2002  10+ years   \n",
       "3          0.0  NaN  18.50        NaN         Aug-1997    2 years   \n",
       "4          0.0  NaN  17.56        NaN         Jun-2006   < 1 year   \n",
       "5          0.0  NaN  14.01        NaN         Nov-2000    8 years   \n",
       "\n",
       "                   emp_title  \n",
       "0                    Teacher  \n",
       "1                   Director  \n",
       "2                   Engineer  \n",
       "3             Vice-President  \n",
       "4                         RN  \n",
       "5  Aviation Safety Inspector  "
      ]
     },
     "execution_count": 3,
     "metadata": {},
     "output_type": "execute_result"
    }
   ],
   "source": [
    "data.iloc[:,:20].head(6)"
   ]
  },
  {
   "cell_type": "code",
   "execution_count": 4,
   "metadata": {},
   "outputs": [
    {
     "data": {
      "text/html": [
       "<div>\n",
       "<style scoped>\n",
       "    .dataframe tbody tr th:only-of-type {\n",
       "        vertical-align: middle;\n",
       "    }\n",
       "\n",
       "    .dataframe tbody tr th {\n",
       "        vertical-align: top;\n",
       "    }\n",
       "\n",
       "    .dataframe thead th {\n",
       "        text-align: right;\n",
       "    }\n",
       "</style>\n",
       "<table border=\"1\" class=\"dataframe\">\n",
       "  <thead>\n",
       "    <tr style=\"text-align: right;\">\n",
       "      <th></th>\n",
       "      <th>funded_amnt</th>\n",
       "      <th>funded_amnt_inv</th>\n",
       "      <th>grade</th>\n",
       "      <th>home_ownership</th>\n",
       "      <th>id</th>\n",
       "      <th>il_util</th>\n",
       "      <th>initial_list_status</th>\n",
       "      <th>inq_fi</th>\n",
       "      <th>inq_last_12m</th>\n",
       "      <th>inq_last_6mths</th>\n",
       "      <th>installment</th>\n",
       "      <th>int_rate</th>\n",
       "      <th>issue_d</th>\n",
       "      <th>loan_amnt</th>\n",
       "      <th>loan_status</th>\n",
       "      <th>max_bal_bc</th>\n",
       "      <th>member_id</th>\n",
       "      <th>mo_sin_old_il_acct</th>\n",
       "      <th>mo_sin_old_rev_tl_op</th>\n",
       "      <th>mo_sin_rcnt_rev_tl_op</th>\n",
       "    </tr>\n",
       "  </thead>\n",
       "  <tbody>\n",
       "    <tr>\n",
       "      <th>0</th>\n",
       "      <td>12000.0</td>\n",
       "      <td>12000.0</td>\n",
       "      <td>B</td>\n",
       "      <td>MORTGAGE</td>\n",
       "      <td>NaN</td>\n",
       "      <td>61.0</td>\n",
       "      <td>w</td>\n",
       "      <td>0.0</td>\n",
       "      <td>0.0</td>\n",
       "      <td>0.0</td>\n",
       "      <td>253.79</td>\n",
       "      <td>9.80%</td>\n",
       "      <td>Dec-2015</td>\n",
       "      <td>12000.0</td>\n",
       "      <td>Fully Paid</td>\n",
       "      <td>7909.0</td>\n",
       "      <td>NaN</td>\n",
       "      <td>127.0</td>\n",
       "      <td>145.0</td>\n",
       "      <td>4.0</td>\n",
       "    </tr>\n",
       "    <tr>\n",
       "      <th>1</th>\n",
       "      <td>25000.0</td>\n",
       "      <td>25000.0</td>\n",
       "      <td>A</td>\n",
       "      <td>MORTGAGE</td>\n",
       "      <td>NaN</td>\n",
       "      <td>6.0</td>\n",
       "      <td>w</td>\n",
       "      <td>0.0</td>\n",
       "      <td>0.0</td>\n",
       "      <td>0.0</td>\n",
       "      <td>752.87</td>\n",
       "      <td>5.32%</td>\n",
       "      <td>Dec-2015</td>\n",
       "      <td>25000.0</td>\n",
       "      <td>Current</td>\n",
       "      <td>19339.0</td>\n",
       "      <td>NaN</td>\n",
       "      <td>166.0</td>\n",
       "      <td>238.0</td>\n",
       "      <td>4.0</td>\n",
       "    </tr>\n",
       "    <tr>\n",
       "      <th>2</th>\n",
       "      <td>28000.0</td>\n",
       "      <td>28000.0</td>\n",
       "      <td>D</td>\n",
       "      <td>MORTGAGE</td>\n",
       "      <td>NaN</td>\n",
       "      <td>44.0</td>\n",
       "      <td>w</td>\n",
       "      <td>1.0</td>\n",
       "      <td>0.0</td>\n",
       "      <td>0.0</td>\n",
       "      <td>718.51</td>\n",
       "      <td>18.49%</td>\n",
       "      <td>Dec-2015</td>\n",
       "      <td>28000.0</td>\n",
       "      <td>Current</td>\n",
       "      <td>7213.0</td>\n",
       "      <td>NaN</td>\n",
       "      <td>143.0</td>\n",
       "      <td>158.0</td>\n",
       "      <td>4.0</td>\n",
       "    </tr>\n",
       "    <tr>\n",
       "      <th>3</th>\n",
       "      <td>30000.0</td>\n",
       "      <td>30000.0</td>\n",
       "      <td>D</td>\n",
       "      <td>MORTGAGE</td>\n",
       "      <td>NaN</td>\n",
       "      <td>84.0</td>\n",
       "      <td>w</td>\n",
       "      <td>4.0</td>\n",
       "      <td>3.0</td>\n",
       "      <td>1.0</td>\n",
       "      <td>1051.31</td>\n",
       "      <td>15.77%</td>\n",
       "      <td>Dec-2015</td>\n",
       "      <td>30000.0</td>\n",
       "      <td>Fully Paid</td>\n",
       "      <td>12141.0</td>\n",
       "      <td>NaN</td>\n",
       "      <td>118.0</td>\n",
       "      <td>220.0</td>\n",
       "      <td>16.0</td>\n",
       "    </tr>\n",
       "    <tr>\n",
       "      <th>4</th>\n",
       "      <td>17600.0</td>\n",
       "      <td>17600.0</td>\n",
       "      <td>E</td>\n",
       "      <td>RENT</td>\n",
       "      <td>NaN</td>\n",
       "      <td>83.0</td>\n",
       "      <td>w</td>\n",
       "      <td>0.0</td>\n",
       "      <td>0.0</td>\n",
       "      <td>0.0</td>\n",
       "      <td>465.22</td>\n",
       "      <td>19.89%</td>\n",
       "      <td>Dec-2015</td>\n",
       "      <td>17600.0</td>\n",
       "      <td>Current</td>\n",
       "      <td>5998.0</td>\n",
       "      <td>NaN</td>\n",
       "      <td>112.0</td>\n",
       "      <td>114.0</td>\n",
       "      <td>25.0</td>\n",
       "    </tr>\n",
       "    <tr>\n",
       "      <th>5</th>\n",
       "      <td>33600.0</td>\n",
       "      <td>33600.0</td>\n",
       "      <td>B</td>\n",
       "      <td>RENT</td>\n",
       "      <td>NaN</td>\n",
       "      <td>NaN</td>\n",
       "      <td>w</td>\n",
       "      <td>1.0</td>\n",
       "      <td>5.0</td>\n",
       "      <td>2.0</td>\n",
       "      <td>1096.53</td>\n",
       "      <td>10.78%</td>\n",
       "      <td>Dec-2015</td>\n",
       "      <td>33600.0</td>\n",
       "      <td>Fully Paid</td>\n",
       "      <td>12992.0</td>\n",
       "      <td>NaN</td>\n",
       "      <td>156.0</td>\n",
       "      <td>181.0</td>\n",
       "      <td>8.0</td>\n",
       "    </tr>\n",
       "  </tbody>\n",
       "</table>\n",
       "</div>"
      ],
      "text/plain": [
       "   funded_amnt  funded_amnt_inv grade home_ownership   id  il_util  \\\n",
       "0      12000.0          12000.0     B       MORTGAGE  NaN     61.0   \n",
       "1      25000.0          25000.0     A       MORTGAGE  NaN      6.0   \n",
       "2      28000.0          28000.0     D       MORTGAGE  NaN     44.0   \n",
       "3      30000.0          30000.0     D       MORTGAGE  NaN     84.0   \n",
       "4      17600.0          17600.0     E           RENT  NaN     83.0   \n",
       "5      33600.0          33600.0     B           RENT  NaN      NaN   \n",
       "\n",
       "  initial_list_status  inq_fi  inq_last_12m  inq_last_6mths  installment  \\\n",
       "0                   w     0.0           0.0             0.0       253.79   \n",
       "1                   w     0.0           0.0             0.0       752.87   \n",
       "2                   w     1.0           0.0             0.0       718.51   \n",
       "3                   w     4.0           3.0             1.0      1051.31   \n",
       "4                   w     0.0           0.0             0.0       465.22   \n",
       "5                   w     1.0           5.0             2.0      1096.53   \n",
       "\n",
       "  int_rate   issue_d  loan_amnt loan_status  max_bal_bc  member_id  \\\n",
       "0    9.80%  Dec-2015    12000.0  Fully Paid      7909.0        NaN   \n",
       "1    5.32%  Dec-2015    25000.0     Current     19339.0        NaN   \n",
       "2   18.49%  Dec-2015    28000.0     Current      7213.0        NaN   \n",
       "3   15.77%  Dec-2015    30000.0  Fully Paid     12141.0        NaN   \n",
       "4   19.89%  Dec-2015    17600.0     Current      5998.0        NaN   \n",
       "5   10.78%  Dec-2015    33600.0  Fully Paid     12992.0        NaN   \n",
       "\n",
       "   mo_sin_old_il_acct  mo_sin_old_rev_tl_op  mo_sin_rcnt_rev_tl_op  \n",
       "0               127.0                 145.0                    4.0  \n",
       "1               166.0                 238.0                    4.0  \n",
       "2               143.0                 158.0                    4.0  \n",
       "3               118.0                 220.0                   16.0  \n",
       "4               112.0                 114.0                   25.0  \n",
       "5               156.0                 181.0                    8.0  "
      ]
     },
     "execution_count": 4,
     "metadata": {},
     "output_type": "execute_result"
    }
   ],
   "source": [
    "data.iloc[:,20:40].head(6)"
   ]
  },
  {
   "cell_type": "code",
   "execution_count": 5,
   "metadata": {},
   "outputs": [
    {
     "data": {
      "text/html": [
       "<div>\n",
       "<style scoped>\n",
       "    .dataframe tbody tr th:only-of-type {\n",
       "        vertical-align: middle;\n",
       "    }\n",
       "\n",
       "    .dataframe tbody tr th {\n",
       "        vertical-align: top;\n",
       "    }\n",
       "\n",
       "    .dataframe thead th {\n",
       "        text-align: right;\n",
       "    }\n",
       "</style>\n",
       "<table border=\"1\" class=\"dataframe\">\n",
       "  <thead>\n",
       "    <tr style=\"text-align: right;\">\n",
       "      <th></th>\n",
       "      <th>mo_sin_rcnt_tl</th>\n",
       "      <th>mort_acc</th>\n",
       "      <th>mths_since_last_delinq</th>\n",
       "      <th>mths_since_last_major_derog</th>\n",
       "      <th>mths_since_last_record</th>\n",
       "      <th>mths_since_rcnt_il</th>\n",
       "      <th>mths_since_recent_bc</th>\n",
       "      <th>mths_since_recent_bc_dlq</th>\n",
       "      <th>mths_since_recent_inq</th>\n",
       "      <th>mths_since_recent_revol_delinq</th>\n",
       "      <th>num_accts_ever_120_pd</th>\n",
       "      <th>num_actv_bc_tl</th>\n",
       "      <th>num_actv_rev_tl</th>\n",
       "      <th>num_bc_sats</th>\n",
       "      <th>num_bc_tl</th>\n",
       "      <th>num_il_tl</th>\n",
       "      <th>num_op_rev_tl</th>\n",
       "      <th>num_rev_accts</th>\n",
       "      <th>num_rev_tl_bal_gt_0</th>\n",
       "      <th>num_sats</th>\n",
       "    </tr>\n",
       "  </thead>\n",
       "  <tbody>\n",
       "    <tr>\n",
       "      <th>0</th>\n",
       "      <td>1.0</td>\n",
       "      <td>2.0</td>\n",
       "      <td>NaN</td>\n",
       "      <td>NaN</td>\n",
       "      <td>NaN</td>\n",
       "      <td>1.0</td>\n",
       "      <td>4.0</td>\n",
       "      <td>NaN</td>\n",
       "      <td>14.0</td>\n",
       "      <td>NaN</td>\n",
       "      <td>0.0</td>\n",
       "      <td>2.0</td>\n",
       "      <td>4.0</td>\n",
       "      <td>5.0</td>\n",
       "      <td>10.0</td>\n",
       "      <td>13.0</td>\n",
       "      <td>11.0</td>\n",
       "      <td>22.0</td>\n",
       "      <td>4.0</td>\n",
       "      <td>18.0</td>\n",
       "    </tr>\n",
       "    <tr>\n",
       "      <th>1</th>\n",
       "      <td>4.0</td>\n",
       "      <td>7.0</td>\n",
       "      <td>NaN</td>\n",
       "      <td>NaN</td>\n",
       "      <td>NaN</td>\n",
       "      <td>28.0</td>\n",
       "      <td>73.0</td>\n",
       "      <td>NaN</td>\n",
       "      <td>NaN</td>\n",
       "      <td>NaN</td>\n",
       "      <td>0.0</td>\n",
       "      <td>1.0</td>\n",
       "      <td>1.0</td>\n",
       "      <td>3.0</td>\n",
       "      <td>3.0</td>\n",
       "      <td>4.0</td>\n",
       "      <td>4.0</td>\n",
       "      <td>7.0</td>\n",
       "      <td>1.0</td>\n",
       "      <td>7.0</td>\n",
       "    </tr>\n",
       "    <tr>\n",
       "      <th>2</th>\n",
       "      <td>4.0</td>\n",
       "      <td>2.0</td>\n",
       "      <td>NaN</td>\n",
       "      <td>NaN</td>\n",
       "      <td>NaN</td>\n",
       "      <td>22.0</td>\n",
       "      <td>10.0</td>\n",
       "      <td>NaN</td>\n",
       "      <td>16.0</td>\n",
       "      <td>NaN</td>\n",
       "      <td>0.0</td>\n",
       "      <td>14.0</td>\n",
       "      <td>20.0</td>\n",
       "      <td>14.0</td>\n",
       "      <td>18.0</td>\n",
       "      <td>9.0</td>\n",
       "      <td>24.0</td>\n",
       "      <td>34.0</td>\n",
       "      <td>20.0</td>\n",
       "      <td>27.0</td>\n",
       "    </tr>\n",
       "    <tr>\n",
       "      <th>3</th>\n",
       "      <td>6.0</td>\n",
       "      <td>3.0</td>\n",
       "      <td>61.0</td>\n",
       "      <td>NaN</td>\n",
       "      <td>NaN</td>\n",
       "      <td>6.0</td>\n",
       "      <td>16.0</td>\n",
       "      <td>NaN</td>\n",
       "      <td>0.0</td>\n",
       "      <td>61.0</td>\n",
       "      <td>0.0</td>\n",
       "      <td>2.0</td>\n",
       "      <td>2.0</td>\n",
       "      <td>3.0</td>\n",
       "      <td>7.0</td>\n",
       "      <td>9.0</td>\n",
       "      <td>4.0</td>\n",
       "      <td>11.0</td>\n",
       "      <td>2.0</td>\n",
       "      <td>9.0</td>\n",
       "    </tr>\n",
       "    <tr>\n",
       "      <th>4</th>\n",
       "      <td>13.0</td>\n",
       "      <td>0.0</td>\n",
       "      <td>NaN</td>\n",
       "      <td>NaN</td>\n",
       "      <td>NaN</td>\n",
       "      <td>13.0</td>\n",
       "      <td>25.0</td>\n",
       "      <td>NaN</td>\n",
       "      <td>NaN</td>\n",
       "      <td>NaN</td>\n",
       "      <td>0.0</td>\n",
       "      <td>3.0</td>\n",
       "      <td>3.0</td>\n",
       "      <td>3.0</td>\n",
       "      <td>3.0</td>\n",
       "      <td>21.0</td>\n",
       "      <td>3.0</td>\n",
       "      <td>4.0</td>\n",
       "      <td>3.0</td>\n",
       "      <td>7.0</td>\n",
       "    </tr>\n",
       "    <tr>\n",
       "      <th>5</th>\n",
       "      <td>8.0</td>\n",
       "      <td>1.0</td>\n",
       "      <td>29.0</td>\n",
       "      <td>29.0</td>\n",
       "      <td>NaN</td>\n",
       "      <td>50.0</td>\n",
       "      <td>8.0</td>\n",
       "      <td>NaN</td>\n",
       "      <td>1.0</td>\n",
       "      <td>NaN</td>\n",
       "      <td>1.0</td>\n",
       "      <td>5.0</td>\n",
       "      <td>9.0</td>\n",
       "      <td>6.0</td>\n",
       "      <td>12.0</td>\n",
       "      <td>7.0</td>\n",
       "      <td>13.0</td>\n",
       "      <td>23.0</td>\n",
       "      <td>10.0</td>\n",
       "      <td>14.0</td>\n",
       "    </tr>\n",
       "  </tbody>\n",
       "</table>\n",
       "</div>"
      ],
      "text/plain": [
       "   mo_sin_rcnt_tl  mort_acc  mths_since_last_delinq  \\\n",
       "0             1.0       2.0                     NaN   \n",
       "1             4.0       7.0                     NaN   \n",
       "2             4.0       2.0                     NaN   \n",
       "3             6.0       3.0                    61.0   \n",
       "4            13.0       0.0                     NaN   \n",
       "5             8.0       1.0                    29.0   \n",
       "\n",
       "   mths_since_last_major_derog  mths_since_last_record  mths_since_rcnt_il  \\\n",
       "0                          NaN                     NaN                 1.0   \n",
       "1                          NaN                     NaN                28.0   \n",
       "2                          NaN                     NaN                22.0   \n",
       "3                          NaN                     NaN                 6.0   \n",
       "4                          NaN                     NaN                13.0   \n",
       "5                         29.0                     NaN                50.0   \n",
       "\n",
       "   mths_since_recent_bc  mths_since_recent_bc_dlq  mths_since_recent_inq  \\\n",
       "0                   4.0                       NaN                   14.0   \n",
       "1                  73.0                       NaN                    NaN   \n",
       "2                  10.0                       NaN                   16.0   \n",
       "3                  16.0                       NaN                    0.0   \n",
       "4                  25.0                       NaN                    NaN   \n",
       "5                   8.0                       NaN                    1.0   \n",
       "\n",
       "   mths_since_recent_revol_delinq  num_accts_ever_120_pd  num_actv_bc_tl  \\\n",
       "0                             NaN                    0.0             2.0   \n",
       "1                             NaN                    0.0             1.0   \n",
       "2                             NaN                    0.0            14.0   \n",
       "3                            61.0                    0.0             2.0   \n",
       "4                             NaN                    0.0             3.0   \n",
       "5                             NaN                    1.0             5.0   \n",
       "\n",
       "   num_actv_rev_tl  num_bc_sats  num_bc_tl  num_il_tl  num_op_rev_tl  \\\n",
       "0              4.0          5.0       10.0       13.0           11.0   \n",
       "1              1.0          3.0        3.0        4.0            4.0   \n",
       "2             20.0         14.0       18.0        9.0           24.0   \n",
       "3              2.0          3.0        7.0        9.0            4.0   \n",
       "4              3.0          3.0        3.0       21.0            3.0   \n",
       "5              9.0          6.0       12.0        7.0           13.0   \n",
       "\n",
       "   num_rev_accts  num_rev_tl_bal_gt_0  num_sats  \n",
       "0           22.0                  4.0      18.0  \n",
       "1            7.0                  1.0       7.0  \n",
       "2           34.0                 20.0      27.0  \n",
       "3           11.0                  2.0       9.0  \n",
       "4            4.0                  3.0       7.0  \n",
       "5           23.0                 10.0      14.0  "
      ]
     },
     "execution_count": 5,
     "metadata": {},
     "output_type": "execute_result"
    }
   ],
   "source": [
    "data.iloc[:,40:60].head(6)"
   ]
  },
  {
   "cell_type": "code",
   "execution_count": 6,
   "metadata": {},
   "outputs": [
    {
     "data": {
      "text/html": [
       "<div>\n",
       "<style scoped>\n",
       "    .dataframe tbody tr th:only-of-type {\n",
       "        vertical-align: middle;\n",
       "    }\n",
       "\n",
       "    .dataframe tbody tr th {\n",
       "        vertical-align: top;\n",
       "    }\n",
       "\n",
       "    .dataframe thead th {\n",
       "        text-align: right;\n",
       "    }\n",
       "</style>\n",
       "<table border=\"1\" class=\"dataframe\">\n",
       "  <thead>\n",
       "    <tr style=\"text-align: right;\">\n",
       "      <th></th>\n",
       "      <th>num_tl_120dpd_2m</th>\n",
       "      <th>num_tl_30dpd</th>\n",
       "      <th>num_tl_90g_dpd_24m</th>\n",
       "      <th>num_tl_op_past_12m</th>\n",
       "      <th>open_acc</th>\n",
       "      <th>open_acc_6m</th>\n",
       "      <th>open_il_12m</th>\n",
       "      <th>open_il_24m</th>\n",
       "      <th>open_act_il</th>\n",
       "      <th>open_rv_12m</th>\n",
       "      <th>open_rv_24m</th>\n",
       "      <th>pct_tl_nvr_dlq</th>\n",
       "      <th>percent_bc_gt_75</th>\n",
       "      <th>policy_code</th>\n",
       "      <th>pub_rec</th>\n",
       "      <th>pub_rec_bankruptcies</th>\n",
       "      <th>purpose</th>\n",
       "      <th>revol_bal</th>\n",
       "      <th>revol_util</th>\n",
       "      <th>sub_grade</th>\n",
       "    </tr>\n",
       "  </thead>\n",
       "  <tbody>\n",
       "    <tr>\n",
       "      <th>0</th>\n",
       "      <td>0.0</td>\n",
       "      <td>0.0</td>\n",
       "      <td>0.0</td>\n",
       "      <td>3.0</td>\n",
       "      <td>18.0</td>\n",
       "      <td>2.0</td>\n",
       "      <td>2.0</td>\n",
       "      <td>3.0</td>\n",
       "      <td>6.0</td>\n",
       "      <td>1.0</td>\n",
       "      <td>5.0</td>\n",
       "      <td>100.0</td>\n",
       "      <td>0.0</td>\n",
       "      <td>1.0</td>\n",
       "      <td>0.0</td>\n",
       "      <td>0.0</td>\n",
       "      <td>debt_consolidation</td>\n",
       "      <td>9786.0</td>\n",
       "      <td>13.4%</td>\n",
       "      <td>B3</td>\n",
       "    </tr>\n",
       "    <tr>\n",
       "      <th>1</th>\n",
       "      <td>0.0</td>\n",
       "      <td>0.0</td>\n",
       "      <td>0.0</td>\n",
       "      <td>1.0</td>\n",
       "      <td>7.0</td>\n",
       "      <td>1.0</td>\n",
       "      <td>0.0</td>\n",
       "      <td>0.0</td>\n",
       "      <td>2.0</td>\n",
       "      <td>1.0</td>\n",
       "      <td>1.0</td>\n",
       "      <td>100.0</td>\n",
       "      <td>0.0</td>\n",
       "      <td>1.0</td>\n",
       "      <td>0.0</td>\n",
       "      <td>0.0</td>\n",
       "      <td>credit_card</td>\n",
       "      <td>19339.0</td>\n",
       "      <td>42.5%</td>\n",
       "      <td>A1</td>\n",
       "    </tr>\n",
       "    <tr>\n",
       "      <th>2</th>\n",
       "      <td>0.0</td>\n",
       "      <td>0.0</td>\n",
       "      <td>0.0</td>\n",
       "      <td>2.0</td>\n",
       "      <td>27.0</td>\n",
       "      <td>1.0</td>\n",
       "      <td>0.0</td>\n",
       "      <td>2.0</td>\n",
       "      <td>2.0</td>\n",
       "      <td>2.0</td>\n",
       "      <td>6.0</td>\n",
       "      <td>100.0</td>\n",
       "      <td>50.0</td>\n",
       "      <td>1.0</td>\n",
       "      <td>0.0</td>\n",
       "      <td>0.0</td>\n",
       "      <td>debt_consolidation</td>\n",
       "      <td>43413.0</td>\n",
       "      <td>51.9%</td>\n",
       "      <td>D5</td>\n",
       "    </tr>\n",
       "    <tr>\n",
       "      <th>3</th>\n",
       "      <td>0.0</td>\n",
       "      <td>0.0</td>\n",
       "      <td>0.0</td>\n",
       "      <td>3.0</td>\n",
       "      <td>9.0</td>\n",
       "      <td>2.0</td>\n",
       "      <td>2.0</td>\n",
       "      <td>4.0</td>\n",
       "      <td>4.0</td>\n",
       "      <td>0.0</td>\n",
       "      <td>1.0</td>\n",
       "      <td>95.7</td>\n",
       "      <td>33.3</td>\n",
       "      <td>1.0</td>\n",
       "      <td>0.0</td>\n",
       "      <td>0.0</td>\n",
       "      <td>home_improvement</td>\n",
       "      <td>21831.0</td>\n",
       "      <td>50.3%</td>\n",
       "      <td>D1</td>\n",
       "    </tr>\n",
       "    <tr>\n",
       "      <th>4</th>\n",
       "      <td>0.0</td>\n",
       "      <td>0.0</td>\n",
       "      <td>0.0</td>\n",
       "      <td>0.0</td>\n",
       "      <td>7.0</td>\n",
       "      <td>0.0</td>\n",
       "      <td>0.0</td>\n",
       "      <td>1.0</td>\n",
       "      <td>4.0</td>\n",
       "      <td>0.0</td>\n",
       "      <td>0.0</td>\n",
       "      <td>100.0</td>\n",
       "      <td>100.0</td>\n",
       "      <td>1.0</td>\n",
       "      <td>0.0</td>\n",
       "      <td>0.0</td>\n",
       "      <td>credit_card</td>\n",
       "      <td>12900.0</td>\n",
       "      <td>102.4%</td>\n",
       "      <td>E3</td>\n",
       "    </tr>\n",
       "    <tr>\n",
       "      <th>5</th>\n",
       "      <td>0.0</td>\n",
       "      <td>0.0</td>\n",
       "      <td>0.0</td>\n",
       "      <td>1.0</td>\n",
       "      <td>14.0</td>\n",
       "      <td>0.0</td>\n",
       "      <td>0.0</td>\n",
       "      <td>0.0</td>\n",
       "      <td>1.0</td>\n",
       "      <td>1.0</td>\n",
       "      <td>1.0</td>\n",
       "      <td>96.8</td>\n",
       "      <td>33.3</td>\n",
       "      <td>1.0</td>\n",
       "      <td>0.0</td>\n",
       "      <td>0.0</td>\n",
       "      <td>debt_consolidation</td>\n",
       "      <td>28475.0</td>\n",
       "      <td>51.8%</td>\n",
       "      <td>B4</td>\n",
       "    </tr>\n",
       "  </tbody>\n",
       "</table>\n",
       "</div>"
      ],
      "text/plain": [
       "   num_tl_120dpd_2m  num_tl_30dpd  num_tl_90g_dpd_24m  num_tl_op_past_12m  \\\n",
       "0               0.0           0.0                 0.0                 3.0   \n",
       "1               0.0           0.0                 0.0                 1.0   \n",
       "2               0.0           0.0                 0.0                 2.0   \n",
       "3               0.0           0.0                 0.0                 3.0   \n",
       "4               0.0           0.0                 0.0                 0.0   \n",
       "5               0.0           0.0                 0.0                 1.0   \n",
       "\n",
       "   open_acc  open_acc_6m  open_il_12m  open_il_24m  open_act_il  open_rv_12m  \\\n",
       "0      18.0          2.0          2.0          3.0          6.0          1.0   \n",
       "1       7.0          1.0          0.0          0.0          2.0          1.0   \n",
       "2      27.0          1.0          0.0          2.0          2.0          2.0   \n",
       "3       9.0          2.0          2.0          4.0          4.0          0.0   \n",
       "4       7.0          0.0          0.0          1.0          4.0          0.0   \n",
       "5      14.0          0.0          0.0          0.0          1.0          1.0   \n",
       "\n",
       "   open_rv_24m  pct_tl_nvr_dlq  percent_bc_gt_75  policy_code  pub_rec  \\\n",
       "0          5.0           100.0               0.0          1.0      0.0   \n",
       "1          1.0           100.0               0.0          1.0      0.0   \n",
       "2          6.0           100.0              50.0          1.0      0.0   \n",
       "3          1.0            95.7              33.3          1.0      0.0   \n",
       "4          0.0           100.0             100.0          1.0      0.0   \n",
       "5          1.0            96.8              33.3          1.0      0.0   \n",
       "\n",
       "   pub_rec_bankruptcies             purpose  revol_bal revol_util sub_grade  \n",
       "0                   0.0  debt_consolidation     9786.0      13.4%        B3  \n",
       "1                   0.0         credit_card    19339.0      42.5%        A1  \n",
       "2                   0.0  debt_consolidation    43413.0      51.9%        D5  \n",
       "3                   0.0    home_improvement    21831.0      50.3%        D1  \n",
       "4                   0.0         credit_card    12900.0     102.4%        E3  \n",
       "5                   0.0  debt_consolidation    28475.0      51.8%        B4  "
      ]
     },
     "execution_count": 6,
     "metadata": {},
     "output_type": "execute_result"
    }
   ],
   "source": [
    "data.iloc[:,60:80].head(6)"
   ]
  },
  {
   "cell_type": "code",
   "execution_count": 7,
   "metadata": {},
   "outputs": [
    {
     "data": {
      "text/html": [
       "<div>\n",
       "<style scoped>\n",
       "    .dataframe tbody tr th:only-of-type {\n",
       "        vertical-align: middle;\n",
       "    }\n",
       "\n",
       "    .dataframe tbody tr th {\n",
       "        vertical-align: top;\n",
       "    }\n",
       "\n",
       "    .dataframe thead th {\n",
       "        text-align: right;\n",
       "    }\n",
       "</style>\n",
       "<table border=\"1\" class=\"dataframe\">\n",
       "  <thead>\n",
       "    <tr style=\"text-align: right;\">\n",
       "      <th></th>\n",
       "      <th>tax_liens</th>\n",
       "      <th>term</th>\n",
       "      <th>title</th>\n",
       "      <th>tot_cur_bal</th>\n",
       "      <th>tot_hi_cred_lim</th>\n",
       "      <th>total_acc</th>\n",
       "      <th>total_bal_ex_mort</th>\n",
       "      <th>total_bal_il</th>\n",
       "      <th>total_bc_limit</th>\n",
       "      <th>total_cu_tl</th>\n",
       "      <th>total_il_high_credit_limit</th>\n",
       "      <th>total_rev_hi_lim</th>\n",
       "      <th>verification_status</th>\n",
       "      <th>zip_code</th>\n",
       "      <th>revol_bal_joint</th>\n",
       "      <th>sec_app_earliest_cr_line</th>\n",
       "      <th>sec_app_inq_last_6mths</th>\n",
       "      <th>sec_app_mort_acc</th>\n",
       "      <th>sec_app_open_acc</th>\n",
       "      <th>sec_app_revol_util</th>\n",
       "    </tr>\n",
       "  </thead>\n",
       "  <tbody>\n",
       "    <tr>\n",
       "      <th>0</th>\n",
       "      <td>0.0</td>\n",
       "      <td>60 months</td>\n",
       "      <td>Debt consolidation</td>\n",
       "      <td>181540.0</td>\n",
       "      <td>291626.0</td>\n",
       "      <td>37.0</td>\n",
       "      <td>74787.0</td>\n",
       "      <td>65001.0</td>\n",
       "      <td>49500.0</td>\n",
       "      <td>0.0</td>\n",
       "      <td>105910.0</td>\n",
       "      <td>73200.0</td>\n",
       "      <td>Not Verified</td>\n",
       "      <td>660xx</td>\n",
       "      <td>NaN</td>\n",
       "      <td>NaN</td>\n",
       "      <td>NaN</td>\n",
       "      <td>NaN</td>\n",
       "      <td>NaN</td>\n",
       "      <td>NaN</td>\n",
       "    </tr>\n",
       "    <tr>\n",
       "      <th>1</th>\n",
       "      <td>0.0</td>\n",
       "      <td>36 months</td>\n",
       "      <td>Credit card refinancing</td>\n",
       "      <td>430856.0</td>\n",
       "      <td>512381.0</td>\n",
       "      <td>18.0</td>\n",
       "      <td>44786.0</td>\n",
       "      <td>25447.0</td>\n",
       "      <td>44000.0</td>\n",
       "      <td>7.0</td>\n",
       "      <td>51081.0</td>\n",
       "      <td>45500.0</td>\n",
       "      <td>Not Verified</td>\n",
       "      <td>054xx</td>\n",
       "      <td>NaN</td>\n",
       "      <td>NaN</td>\n",
       "      <td>NaN</td>\n",
       "      <td>NaN</td>\n",
       "      <td>NaN</td>\n",
       "      <td>NaN</td>\n",
       "    </tr>\n",
       "    <tr>\n",
       "      <th>2</th>\n",
       "      <td>0.0</td>\n",
       "      <td>60 months</td>\n",
       "      <td>Debt consolidation</td>\n",
       "      <td>193745.0</td>\n",
       "      <td>267312.0</td>\n",
       "      <td>46.0</td>\n",
       "      <td>57302.0</td>\n",
       "      <td>13889.0</td>\n",
       "      <td>58500.0</td>\n",
       "      <td>0.0</td>\n",
       "      <td>31758.0</td>\n",
       "      <td>83600.0</td>\n",
       "      <td>Verified</td>\n",
       "      <td>471xx</td>\n",
       "      <td>NaN</td>\n",
       "      <td>NaN</td>\n",
       "      <td>NaN</td>\n",
       "      <td>NaN</td>\n",
       "      <td>NaN</td>\n",
       "      <td>NaN</td>\n",
       "    </tr>\n",
       "    <tr>\n",
       "      <th>3</th>\n",
       "      <td>0.0</td>\n",
       "      <td>36 months</td>\n",
       "      <td>Home improvement</td>\n",
       "      <td>408118.0</td>\n",
       "      <td>447599.0</td>\n",
       "      <td>23.0</td>\n",
       "      <td>152571.0</td>\n",
       "      <td>130740.0</td>\n",
       "      <td>43400.0</td>\n",
       "      <td>3.0</td>\n",
       "      <td>146568.0</td>\n",
       "      <td>43400.0</td>\n",
       "      <td>Not Verified</td>\n",
       "      <td>430xx</td>\n",
       "      <td>NaN</td>\n",
       "      <td>NaN</td>\n",
       "      <td>NaN</td>\n",
       "      <td>NaN</td>\n",
       "      <td>NaN</td>\n",
       "      <td>NaN</td>\n",
       "    </tr>\n",
       "    <tr>\n",
       "      <th>4</th>\n",
       "      <td>0.0</td>\n",
       "      <td>60 months</td>\n",
       "      <td>NaN</td>\n",
       "      <td>133285.0</td>\n",
       "      <td>139633.0</td>\n",
       "      <td>25.0</td>\n",
       "      <td>133285.0</td>\n",
       "      <td>120385.0</td>\n",
       "      <td>12600.0</td>\n",
       "      <td>1.0</td>\n",
       "      <td>127033.0</td>\n",
       "      <td>12600.0</td>\n",
       "      <td>Verified</td>\n",
       "      <td>322xx</td>\n",
       "      <td>NaN</td>\n",
       "      <td>NaN</td>\n",
       "      <td>NaN</td>\n",
       "      <td>NaN</td>\n",
       "      <td>NaN</td>\n",
       "      <td>NaN</td>\n",
       "    </tr>\n",
       "    <tr>\n",
       "      <th>5</th>\n",
       "      <td>0.0</td>\n",
       "      <td>36 months</td>\n",
       "      <td>Debt consolidation</td>\n",
       "      <td>42952.0</td>\n",
       "      <td>92909.0</td>\n",
       "      <td>31.0</td>\n",
       "      <td>42952.0</td>\n",
       "      <td>14477.0</td>\n",
       "      <td>33200.0</td>\n",
       "      <td>0.0</td>\n",
       "      <td>37909.0</td>\n",
       "      <td>55000.0</td>\n",
       "      <td>Source Verified</td>\n",
       "      <td>441xx</td>\n",
       "      <td>NaN</td>\n",
       "      <td>NaN</td>\n",
       "      <td>NaN</td>\n",
       "      <td>NaN</td>\n",
       "      <td>NaN</td>\n",
       "      <td>NaN</td>\n",
       "    </tr>\n",
       "  </tbody>\n",
       "</table>\n",
       "</div>"
      ],
      "text/plain": [
       "   tax_liens        term                    title  tot_cur_bal  \\\n",
       "0        0.0   60 months       Debt consolidation     181540.0   \n",
       "1        0.0   36 months  Credit card refinancing     430856.0   \n",
       "2        0.0   60 months       Debt consolidation     193745.0   \n",
       "3        0.0   36 months         Home improvement     408118.0   \n",
       "4        0.0   60 months                      NaN     133285.0   \n",
       "5        0.0   36 months       Debt consolidation      42952.0   \n",
       "\n",
       "   tot_hi_cred_lim  total_acc  total_bal_ex_mort  total_bal_il  \\\n",
       "0         291626.0       37.0            74787.0       65001.0   \n",
       "1         512381.0       18.0            44786.0       25447.0   \n",
       "2         267312.0       46.0            57302.0       13889.0   \n",
       "3         447599.0       23.0           152571.0      130740.0   \n",
       "4         139633.0       25.0           133285.0      120385.0   \n",
       "5          92909.0       31.0            42952.0       14477.0   \n",
       "\n",
       "   total_bc_limit  total_cu_tl  total_il_high_credit_limit  total_rev_hi_lim  \\\n",
       "0         49500.0          0.0                    105910.0           73200.0   \n",
       "1         44000.0          7.0                     51081.0           45500.0   \n",
       "2         58500.0          0.0                     31758.0           83600.0   \n",
       "3         43400.0          3.0                    146568.0           43400.0   \n",
       "4         12600.0          1.0                    127033.0           12600.0   \n",
       "5         33200.0          0.0                     37909.0           55000.0   \n",
       "\n",
       "  verification_status zip_code  revol_bal_joint  sec_app_earliest_cr_line  \\\n",
       "0        Not Verified    660xx              NaN                       NaN   \n",
       "1        Not Verified    054xx              NaN                       NaN   \n",
       "2            Verified    471xx              NaN                       NaN   \n",
       "3        Not Verified    430xx              NaN                       NaN   \n",
       "4            Verified    322xx              NaN                       NaN   \n",
       "5     Source Verified    441xx              NaN                       NaN   \n",
       "\n",
       "   sec_app_inq_last_6mths  sec_app_mort_acc  sec_app_open_acc  \\\n",
       "0                     NaN               NaN               NaN   \n",
       "1                     NaN               NaN               NaN   \n",
       "2                     NaN               NaN               NaN   \n",
       "3                     NaN               NaN               NaN   \n",
       "4                     NaN               NaN               NaN   \n",
       "5                     NaN               NaN               NaN   \n",
       "\n",
       "   sec_app_revol_util  \n",
       "0                 NaN  \n",
       "1                 NaN  \n",
       "2                 NaN  \n",
       "3                 NaN  \n",
       "4                 NaN  \n",
       "5                 NaN  "
      ]
     },
     "execution_count": 7,
     "metadata": {},
     "output_type": "execute_result"
    }
   ],
   "source": [
    "data.iloc[:,80:100].head(6)"
   ]
  },
  {
   "cell_type": "code",
   "execution_count": 8,
   "metadata": {},
   "outputs": [
    {
     "data": {
      "text/html": [
       "<div>\n",
       "<style scoped>\n",
       "    .dataframe tbody tr th:only-of-type {\n",
       "        vertical-align: middle;\n",
       "    }\n",
       "\n",
       "    .dataframe tbody tr th {\n",
       "        vertical-align: top;\n",
       "    }\n",
       "\n",
       "    .dataframe thead th {\n",
       "        text-align: right;\n",
       "    }\n",
       "</style>\n",
       "<table border=\"1\" class=\"dataframe\">\n",
       "  <thead>\n",
       "    <tr style=\"text-align: right;\">\n",
       "      <th></th>\n",
       "      <th>sec_app_open_act_il</th>\n",
       "      <th>sec_app_num_rev_accts</th>\n",
       "      <th>sec_app_chargeoff_within_12_mths</th>\n",
       "      <th>sec_app_collections_12_mths_ex_med</th>\n",
       "      <th>sec_app_mths_since_last_major_derog</th>\n",
       "    </tr>\n",
       "  </thead>\n",
       "  <tbody>\n",
       "    <tr>\n",
       "      <th>0</th>\n",
       "      <td>NaN</td>\n",
       "      <td>NaN</td>\n",
       "      <td>NaN</td>\n",
       "      <td>NaN</td>\n",
       "      <td>NaN</td>\n",
       "    </tr>\n",
       "    <tr>\n",
       "      <th>1</th>\n",
       "      <td>NaN</td>\n",
       "      <td>NaN</td>\n",
       "      <td>NaN</td>\n",
       "      <td>NaN</td>\n",
       "      <td>NaN</td>\n",
       "    </tr>\n",
       "    <tr>\n",
       "      <th>2</th>\n",
       "      <td>NaN</td>\n",
       "      <td>NaN</td>\n",
       "      <td>NaN</td>\n",
       "      <td>NaN</td>\n",
       "      <td>NaN</td>\n",
       "    </tr>\n",
       "    <tr>\n",
       "      <th>3</th>\n",
       "      <td>NaN</td>\n",
       "      <td>NaN</td>\n",
       "      <td>NaN</td>\n",
       "      <td>NaN</td>\n",
       "      <td>NaN</td>\n",
       "    </tr>\n",
       "    <tr>\n",
       "      <th>4</th>\n",
       "      <td>NaN</td>\n",
       "      <td>NaN</td>\n",
       "      <td>NaN</td>\n",
       "      <td>NaN</td>\n",
       "      <td>NaN</td>\n",
       "    </tr>\n",
       "    <tr>\n",
       "      <th>5</th>\n",
       "      <td>NaN</td>\n",
       "      <td>NaN</td>\n",
       "      <td>NaN</td>\n",
       "      <td>NaN</td>\n",
       "      <td>NaN</td>\n",
       "    </tr>\n",
       "  </tbody>\n",
       "</table>\n",
       "</div>"
      ],
      "text/plain": [
       "   sec_app_open_act_il  sec_app_num_rev_accts  \\\n",
       "0                  NaN                    NaN   \n",
       "1                  NaN                    NaN   \n",
       "2                  NaN                    NaN   \n",
       "3                  NaN                    NaN   \n",
       "4                  NaN                    NaN   \n",
       "5                  NaN                    NaN   \n",
       "\n",
       "   sec_app_chargeoff_within_12_mths  sec_app_collections_12_mths_ex_med  \\\n",
       "0                               NaN                                 NaN   \n",
       "1                               NaN                                 NaN   \n",
       "2                               NaN                                 NaN   \n",
       "3                               NaN                                 NaN   \n",
       "4                               NaN                                 NaN   \n",
       "5                               NaN                                 NaN   \n",
       "\n",
       "   sec_app_mths_since_last_major_derog  \n",
       "0                                  NaN  \n",
       "1                                  NaN  \n",
       "2                                  NaN  \n",
       "3                                  NaN  \n",
       "4                                  NaN  \n",
       "5                                  NaN  "
      ]
     },
     "execution_count": 8,
     "metadata": {},
     "output_type": "execute_result"
    }
   ],
   "source": [
    "data.iloc[:,100:].head(6)"
   ]
  },
  {
   "cell_type": "code",
   "execution_count": 9,
   "metadata": {},
   "outputs": [
    {
     "data": {
      "text/plain": [
       "Fully Paid            196814\n",
       "Current               151713\n",
       "Charged Off            63845\n",
       "Late (31-120 days)      4905\n",
       "In Grace Period         2757\n",
       "Late (16-30 days)       1052\n",
       "Default                    9\n",
       "Name: loan_status, dtype: int64"
      ]
     },
     "execution_count": 9,
     "metadata": {},
     "output_type": "execute_result"
    }
   ],
   "source": [
    "data['loan_status'].value_counts()"
   ]
  },
  {
   "cell_type": "markdown",
   "metadata": {},
   "source": [
    "### Observation: \n",
    "It appears that two categories: Fully paid, and Charged off can be used to describe the final status (default) of a loan."
   ]
  },
  {
   "cell_type": "code",
   "execution_count": 10,
   "metadata": {},
   "outputs": [
    {
     "data": {
      "text/plain": [
       "Oct-2015    48631\n",
       "Jul-2015    45962\n",
       "Dec-2015    44343\n",
       "Nov-2015    37530\n",
       "Aug-2015    35886\n",
       "Apr-2015    35427\n",
       "Jan-2015    35107\n",
       "May-2015    31913\n",
       "Sep-2015    28641\n",
       "Jun-2015    28485\n",
       "Mar-2015    25400\n",
       "Feb-2015    23770\n",
       "Name: issue_d, dtype: int64"
      ]
     },
     "execution_count": 10,
     "metadata": {},
     "output_type": "execute_result"
    }
   ],
   "source": [
    "data['issue_d'].value_counts()"
   ]
  },
  {
   "cell_type": "markdown",
   "metadata": {},
   "source": [
    "### Observation:\n",
    "It appears that the current dataset only covers loans in 2015"
   ]
  },
  {
   "cell_type": "code",
   "execution_count": 11,
   "metadata": {},
   "outputs": [
    {
     "data": {
      "text/plain": [
       "A     73336\n",
       "B    117606\n",
       "C    120567\n",
       "D     62654\n",
       "E     34948\n",
       "F      9817\n",
       "G      2167\n",
       "Name: grade, dtype: int64"
      ]
     },
     "execution_count": 11,
     "metadata": {},
     "output_type": "execute_result"
    }
   ],
   "source": [
    "data['grade'].value_counts().sort_index()"
   ]
  },
  {
   "cell_type": "code",
   "execution_count": 12,
   "metadata": {},
   "outputs": [
    {
     "data": {
      "text/plain": [
       "Text(0,0.5,'Loan grade')"
      ]
     },
     "execution_count": 12,
     "metadata": {},
     "output_type": "execute_result"
    },
    {
     "data": {
      "image/png": "[encoded data removed]",
      "text/plain": [
       "<Figure size 720x360 with 1 Axes>"
      ]
     },
     "metadata": {},
     "output_type": "display_data"
    }
   ],
   "source": [
    "# Plot the number of loans for each grade\n",
    "\n",
    "import matplotlib.pyplot as plt\n",
    "%matplotlib inline\n",
    "fig2a = plt.figure(figsize=(10,5))\n",
    "data['grade'].value_counts().sort_index().plot.barh(fontsize=18)\n",
    "plt.xlabel('Number of loans', fontsize=18)\n",
    "plt.ylabel('Loan grade', fontsize=18)"
   ]
  },
  {
   "cell_type": "markdown",
   "metadata": {},
   "source": [
    "### Observation:\n",
    "C and B grade loans are the most common "
   ]
  },
  {
   "cell_type": "code",
   "execution_count": 13,
   "metadata": {},
   "outputs": [
    {
     "data": {
      "text/plain": [
       "count      421095\n",
       "unique        111\n",
       "top         7.89%\n",
       "freq        20305\n",
       "Name: int_rate, dtype: object"
      ]
     },
     "execution_count": 13,
     "metadata": {},
     "output_type": "execute_result"
    }
   ],
   "source": [
    "data['int_rate'].describe()"
   ]
  },
  {
   "cell_type": "markdown",
   "metadata": {},
   "source": [
    "### Observation: \n",
    "Interest rate needs to be converted to numeric"
   ]
  },
  {
   "cell_type": "code",
   "execution_count": 14,
   "metadata": {},
   "outputs": [
    {
     "data": {
      "image/png": "[encoded data removed]",
      "text/plain": [
       "<Figure size 1080x360 with 1 Axes>"
      ]
     },
     "metadata": {},
     "output_type": "display_data"
    }
   ],
   "source": [
    "# Plot histogram of the loan amount\n",
    "fig1 = plt.figure()\n",
    "data['loan_amnt'].hist(bins=50, figsize=(15,5))\n",
    "plt.title('Loan Amount', fontsize=18)\n",
    "plt.xlabel('USD', fontsize=18)\n",
    "plt.ylabel('Num of Loans', fontsize=18)\n",
    "plt.show()"
   ]
  },
  {
   "cell_type": "markdown",
   "metadata": {},
   "source": [
    "\n"
   ]
  },
  {
   "cell_type": "markdown",
   "metadata": {},
   "source": [
    "# Part 2. KPI Reporting"
   ]
  },
  {
   "cell_type": "markdown",
   "metadata": {},
   "source": [
    "## 2.1. What is the monthly total loan volume in dollars and what is the monthly average loan size?"
   ]
  },
  {
   "cell_type": "code",
   "execution_count": 15,
   "metadata": {},
   "outputs": [
    {
     "name": "stdout",
     "output_type": "stream",
     "text": [
      "<class 'pandas.core.frame.DataFrame'>\n",
      "RangeIndex: 421097 entries, 0 to 421096\n",
      "Data columns (total 2 columns):\n",
      "issue_d      421095 non-null object\n",
      "loan_amnt    421095 non-null float64\n",
      "dtypes: float64(1), object(1)\n",
      "memory usage: 6.4+ MB\n",
      "None\n",
      "issue_d      2\n",
      "loan_amnt    2\n",
      "dtype: int64\n"
     ]
    },
    {
     "data": {
      "text/html": [
       "<div>\n",
       "<style scoped>\n",
       "    .dataframe tbody tr th:only-of-type {\n",
       "        vertical-align: middle;\n",
       "    }\n",
       "\n",
       "    .dataframe tbody tr th {\n",
       "        vertical-align: top;\n",
       "    }\n",
       "\n",
       "    .dataframe thead th {\n",
       "        text-align: right;\n",
       "    }\n",
       "</style>\n",
       "<table border=\"1\" class=\"dataframe\">\n",
       "  <thead>\n",
       "    <tr style=\"text-align: right;\">\n",
       "      <th></th>\n",
       "      <th>issue_d</th>\n",
       "      <th>loan_amnt</th>\n",
       "    </tr>\n",
       "  </thead>\n",
       "  <tbody>\n",
       "    <tr>\n",
       "      <th>0</th>\n",
       "      <td>Dec-2015</td>\n",
       "      <td>12000.0</td>\n",
       "    </tr>\n",
       "    <tr>\n",
       "      <th>1</th>\n",
       "      <td>Dec-2015</td>\n",
       "      <td>25000.0</td>\n",
       "    </tr>\n",
       "    <tr>\n",
       "      <th>2</th>\n",
       "      <td>Dec-2015</td>\n",
       "      <td>28000.0</td>\n",
       "    </tr>\n",
       "    <tr>\n",
       "      <th>3</th>\n",
       "      <td>Dec-2015</td>\n",
       "      <td>30000.0</td>\n",
       "    </tr>\n",
       "    <tr>\n",
       "      <th>4</th>\n",
       "      <td>Dec-2015</td>\n",
       "      <td>17600.0</td>\n",
       "    </tr>\n",
       "  </tbody>\n",
       "</table>\n",
       "</div>"
      ],
      "text/plain": [
       "    issue_d  loan_amnt\n",
       "0  Dec-2015    12000.0\n",
       "1  Dec-2015    25000.0\n",
       "2  Dec-2015    28000.0\n",
       "3  Dec-2015    30000.0\n",
       "4  Dec-2015    17600.0"
      ]
     },
     "execution_count": 15,
     "metadata": {},
     "output_type": "execute_result"
    }
   ],
   "source": [
    "# Aggregate loan amount by month. \n",
    "# First, let's look into 2 columns: issue_date, and loan_amount\n",
    "print(data[['issue_d', 'loan_amnt']].info())\n",
    "print(data[['issue_d', 'loan_amnt']].isnull().sum())\n",
    "data[['issue_d', 'loan_amnt']].head()"
   ]
  },
  {
   "cell_type": "code",
   "execution_count": 16,
   "metadata": {},
   "outputs": [
    {
     "data": {
      "text/plain": [
       "issue_d      0\n",
       "loan_amnt    0\n",
       "dtype: int64"
      ]
     },
     "execution_count": 16,
     "metadata": {},
     "output_type": "execute_result"
    }
   ],
   "source": [
    "# Copy these two columns into a new dataframe and drop the NaN values. \n",
    "data1 = data[['issue_d', 'loan_amnt']].copy()\n",
    "data1.dropna(axis=0, inplace=True)\n",
    "data1[['issue_d', 'loan_amnt']].isnull().sum()"
   ]
  },
  {
   "cell_type": "code",
   "execution_count": 17,
   "metadata": {},
   "outputs": [
    {
     "name": "stdout",
     "output_type": "stream",
     "text": [
      "{'Oct-2015': '10/2015', 'Jul-2015': '07/2015', 'Dec-2015': '12/2015', 'Nov-2015': '11/2015', 'Aug-2015': '08/2015', 'Apr-2015': '04/2015', 'Jan-2015': '01/2015', 'May-2015': '05/2015', 'Sep-2015': '09/2015', 'Jun-2015': '06/2015', 'Mar-2015': '03/2015', 'Feb-2015': '02/2015'}\n"
     ]
    },
    {
     "data": {
      "text/html": [
       "<div>\n",
       "<style scoped>\n",
       "    .dataframe tbody tr th:only-of-type {\n",
       "        vertical-align: middle;\n",
       "    }\n",
       "\n",
       "    .dataframe tbody tr th {\n",
       "        vertical-align: top;\n",
       "    }\n",
       "\n",
       "    .dataframe thead th {\n",
       "        text-align: right;\n",
       "    }\n",
       "</style>\n",
       "<table border=\"1\" class=\"dataframe\">\n",
       "  <thead>\n",
       "    <tr style=\"text-align: right;\">\n",
       "      <th></th>\n",
       "      <th>issue_d</th>\n",
       "      <th>loan_amnt</th>\n",
       "    </tr>\n",
       "  </thead>\n",
       "  <tbody>\n",
       "    <tr>\n",
       "      <th>0</th>\n",
       "      <td>12/2015</td>\n",
       "      <td>12000.0</td>\n",
       "    </tr>\n",
       "    <tr>\n",
       "      <th>1</th>\n",
       "      <td>12/2015</td>\n",
       "      <td>25000.0</td>\n",
       "    </tr>\n",
       "    <tr>\n",
       "      <th>2</th>\n",
       "      <td>12/2015</td>\n",
       "      <td>28000.0</td>\n",
       "    </tr>\n",
       "    <tr>\n",
       "      <th>3</th>\n",
       "      <td>12/2015</td>\n",
       "      <td>30000.0</td>\n",
       "    </tr>\n",
       "    <tr>\n",
       "      <th>4</th>\n",
       "      <td>12/2015</td>\n",
       "      <td>17600.0</td>\n",
       "    </tr>\n",
       "  </tbody>\n",
       "</table>\n",
       "</div>"
      ],
      "text/plain": [
       "   issue_d  loan_amnt\n",
       "0  12/2015    12000.0\n",
       "1  12/2015    25000.0\n",
       "2  12/2015    28000.0\n",
       "3  12/2015    30000.0\n",
       "4  12/2015    17600.0"
      ]
     },
     "execution_count": 17,
     "metadata": {},
     "output_type": "execute_result"
    }
   ],
   "source": [
    "# Convert month to digit format in order to sort by date. \n",
    "import datetime\n",
    "def conv_date(datestr):\n",
    "    return datetime.datetime.strptime(datestr, '%b-%Y').strftime(\"%m/%Y\")\n",
    "\n",
    "mapping = {}\n",
    "for item in data1['issue_d'].value_counts().index:\n",
    "    mapping[item] = conv_date(item)\n",
    "print(mapping)\n",
    "\n",
    "data1['issue_d'] = data1['issue_d'].map(mapping)\n",
    "data1.head()"
   ]
  },
  {
   "cell_type": "code",
   "execution_count": 18,
   "metadata": {},
   "outputs": [
    {
     "name": "stdout",
     "output_type": "stream",
     "text": [
      "Monthly Total Loan Volumns Are As Below\n"
     ]
    },
    {
     "data": {
      "text/html": [
       "<div>\n",
       "<style scoped>\n",
       "    .dataframe tbody tr th:only-of-type {\n",
       "        vertical-align: middle;\n",
       "    }\n",
       "\n",
       "    .dataframe tbody tr th {\n",
       "        vertical-align: top;\n",
       "    }\n",
       "\n",
       "    .dataframe thead th {\n",
       "        text-align: right;\n",
       "    }\n",
       "</style>\n",
       "<table border=\"1\" class=\"dataframe\">\n",
       "  <thead>\n",
       "    <tr style=\"text-align: right;\">\n",
       "      <th></th>\n",
       "      <th>issue_d</th>\n",
       "      <th>loan_amnt</th>\n",
       "    </tr>\n",
       "  </thead>\n",
       "  <tbody>\n",
       "    <tr>\n",
       "      <th>0</th>\n",
       "      <td>01/2015</td>\n",
       "      <td>533132575.0</td>\n",
       "    </tr>\n",
       "    <tr>\n",
       "      <th>1</th>\n",
       "      <td>02/2015</td>\n",
       "      <td>366908525.0</td>\n",
       "    </tr>\n",
       "    <tr>\n",
       "      <th>2</th>\n",
       "      <td>03/2015</td>\n",
       "      <td>390003275.0</td>\n",
       "    </tr>\n",
       "    <tr>\n",
       "      <th>3</th>\n",
       "      <td>04/2015</td>\n",
       "      <td>539401075.0</td>\n",
       "    </tr>\n",
       "    <tr>\n",
       "      <th>4</th>\n",
       "      <td>05/2015</td>\n",
       "      <td>483189475.0</td>\n",
       "    </tr>\n",
       "    <tr>\n",
       "      <th>5</th>\n",
       "      <td>06/2015</td>\n",
       "      <td>429777175.0</td>\n",
       "    </tr>\n",
       "    <tr>\n",
       "      <th>6</th>\n",
       "      <td>07/2015</td>\n",
       "      <td>696238600.0</td>\n",
       "    </tr>\n",
       "    <tr>\n",
       "      <th>7</th>\n",
       "      <td>08/2015</td>\n",
       "      <td>555331400.0</td>\n",
       "    </tr>\n",
       "    <tr>\n",
       "      <th>8</th>\n",
       "      <td>09/2015</td>\n",
       "      <td>450246800.0</td>\n",
       "    </tr>\n",
       "    <tr>\n",
       "      <th>9</th>\n",
       "      <td>10/2015</td>\n",
       "      <td>738221400.0</td>\n",
       "    </tr>\n",
       "    <tr>\n",
       "      <th>10</th>\n",
       "      <td>11/2015</td>\n",
       "      <td>567247325.0</td>\n",
       "    </tr>\n",
       "    <tr>\n",
       "      <th>11</th>\n",
       "      <td>12/2015</td>\n",
       "      <td>667910550.0</td>\n",
       "    </tr>\n",
       "  </tbody>\n",
       "</table>\n",
       "</div>"
      ],
      "text/plain": [
       "    issue_d    loan_amnt\n",
       "0   01/2015  533132575.0\n",
       "1   02/2015  366908525.0\n",
       "2   03/2015  390003275.0\n",
       "3   04/2015  539401075.0\n",
       "4   05/2015  483189475.0\n",
       "5   06/2015  429777175.0\n",
       "6   07/2015  696238600.0\n",
       "7   08/2015  555331400.0\n",
       "8   09/2015  450246800.0\n",
       "9   10/2015  738221400.0\n",
       "10  11/2015  567247325.0\n",
       "11  12/2015  667910550.0"
      ]
     },
     "execution_count": 18,
     "metadata": {},
     "output_type": "execute_result"
    }
   ],
   "source": [
    "# Calculate sum loan amount by month. \n",
    "data1_monthly_sum = pd.pivot_table(data1, values='loan_amnt', index='issue_d', aggfunc=np.sum).reset_index()\n",
    "print('Monthly Total Loan Volumns Are As Below')\n",
    "data1_monthly_sum"
   ]
  },
  {
   "cell_type": "code",
   "execution_count": 19,
   "metadata": {},
   "outputs": [
    {
     "name": "stdout",
     "output_type": "stream",
     "text": [
      "Monthly Average Loan Sizes Are As Below\n"
     ]
    },
    {
     "data": {
      "text/html": [
       "<div>\n",
       "<style scoped>\n",
       "    .dataframe tbody tr th:only-of-type {\n",
       "        vertical-align: middle;\n",
       "    }\n",
       "\n",
       "    .dataframe tbody tr th {\n",
       "        vertical-align: top;\n",
       "    }\n",
       "\n",
       "    .dataframe thead th {\n",
       "        text-align: right;\n",
       "    }\n",
       "</style>\n",
       "<table border=\"1\" class=\"dataframe\">\n",
       "  <thead>\n",
       "    <tr style=\"text-align: right;\">\n",
       "      <th></th>\n",
       "      <th>issue_d</th>\n",
       "      <th>loan_amnt</th>\n",
       "    </tr>\n",
       "  </thead>\n",
       "  <tbody>\n",
       "    <tr>\n",
       "      <th>0</th>\n",
       "      <td>01/2015</td>\n",
       "      <td>15185.933717</td>\n",
       "    </tr>\n",
       "    <tr>\n",
       "      <th>1</th>\n",
       "      <td>02/2015</td>\n",
       "      <td>15435.781447</td>\n",
       "    </tr>\n",
       "    <tr>\n",
       "      <th>2</th>\n",
       "      <td>03/2015</td>\n",
       "      <td>15354.459646</td>\n",
       "    </tr>\n",
       "    <tr>\n",
       "      <th>3</th>\n",
       "      <td>04/2015</td>\n",
       "      <td>15225.705676</td>\n",
       "    </tr>\n",
       "    <tr>\n",
       "      <th>4</th>\n",
       "      <td>05/2015</td>\n",
       "      <td>15140.835240</td>\n",
       "    </tr>\n",
       "    <tr>\n",
       "      <th>5</th>\n",
       "      <td>06/2015</td>\n",
       "      <td>15087.841847</td>\n",
       "    </tr>\n",
       "    <tr>\n",
       "      <th>6</th>\n",
       "      <td>07/2015</td>\n",
       "      <td>15148.135416</td>\n",
       "    </tr>\n",
       "    <tr>\n",
       "      <th>7</th>\n",
       "      <td>08/2015</td>\n",
       "      <td>15474.875996</td>\n",
       "    </tr>\n",
       "    <tr>\n",
       "      <th>8</th>\n",
       "      <td>09/2015</td>\n",
       "      <td>15720.358926</td>\n",
       "    </tr>\n",
       "    <tr>\n",
       "      <th>9</th>\n",
       "      <td>10/2015</td>\n",
       "      <td>15180.057988</td>\n",
       "    </tr>\n",
       "    <tr>\n",
       "      <th>10</th>\n",
       "      <td>11/2015</td>\n",
       "      <td>15114.503730</td>\n",
       "    </tr>\n",
       "    <tr>\n",
       "      <th>11</th>\n",
       "      <td>12/2015</td>\n",
       "      <td>15062.367228</td>\n",
       "    </tr>\n",
       "  </tbody>\n",
       "</table>\n",
       "</div>"
      ],
      "text/plain": [
       "    issue_d     loan_amnt\n",
       "0   01/2015  15185.933717\n",
       "1   02/2015  15435.781447\n",
       "2   03/2015  15354.459646\n",
       "3   04/2015  15225.705676\n",
       "4   05/2015  15140.835240\n",
       "5   06/2015  15087.841847\n",
       "6   07/2015  15148.135416\n",
       "7   08/2015  15474.875996\n",
       "8   09/2015  15720.358926\n",
       "9   10/2015  15180.057988\n",
       "10  11/2015  15114.503730\n",
       "11  12/2015  15062.367228"
      ]
     },
     "execution_count": 19,
     "metadata": {},
     "output_type": "execute_result"
    }
   ],
   "source": [
    "# Calculate average loan amount by month. \n",
    "data1_monthly_ave = pd.pivot_table(data1, values='loan_amnt', index='issue_d', aggfunc=np.mean).reset_index()\n",
    "print('Monthly Average Loan Sizes Are As Below')\n",
    "data1_monthly_ave"
   ]
  },
  {
   "cell_type": "code",
   "execution_count": 20,
   "metadata": {},
   "outputs": [
    {
     "data": {
      "text/plain": [
       "Text(0.5,1,'Monthly Average Loan Size')"
      ]
     },
     "execution_count": 20,
     "metadata": {},
     "output_type": "execute_result"
    },
    {
     "data": {
      "image/png": "[encoded data removed]",
      "text/plain": [
       "<Figure size 1440x360 with 2 Axes>"
      ]
     },
     "metadata": {},
     "output_type": "display_data"
    }
   ],
   "source": [
    "# Plot the monthly total loan volumn, and monthly average loan size\n",
    "fig3, axis = plt.subplots(1,2, figsize=(20,5))\n",
    "data1_monthly_sum['loan_million'] = data1_monthly_sum['loan_amnt']/1e6\n",
    "data1_monthly_sum.plot.bar(x='issue_d', y='loan_million', rot=45, color='blue', legend=False, fontsize=14, ax=axis[0])\n",
    "data1_monthly_ave.plot.bar(x='issue_d', y='loan_amnt', rot=45, color='orange', legend=False, fontsize=14, ax=axis[1])\n",
    "axis[0].set_ylabel('USD (Millions)', fontsize=18)\n",
    "axis[1].set_ylabel('USD', fontsize=18)\n",
    "axis[0].set_xlabel('Issued Month', fontsize=18)\n",
    "axis[1].set_xlabel('Issued Month', fontsize=18)\n",
    "axis[0].set_title('Monthly Total Loan Volumn', fontsize=18)\n",
    "axis[1].set_title('Monthly Average Loan Size', fontsize=18)"
   ]
  },
  {
   "cell_type": "markdown",
   "metadata": {},
   "source": [
    "### Observation:\n",
    "Total loan volumn varies quite a lot with different months. Average loan size stays similar for each month. "
   ]
  },
  {
   "cell_type": "markdown",
   "metadata": {},
   "source": [
    "## 2.2. What are the default rates by Loan Grade?"
   ]
  },
  {
   "cell_type": "code",
   "execution_count": 21,
   "metadata": {},
   "outputs": [
    {
     "data": {
      "text/plain": [
       "Fully Paid            196814\n",
       "Current               151713\n",
       "Charged Off            63845\n",
       "Late (31-120 days)      4905\n",
       "In Grace Period         2757\n",
       "Late (16-30 days)       1052\n",
       "Default                    9\n",
       "Name: loan_status, dtype: int64"
      ]
     },
     "execution_count": 21,
     "metadata": {},
     "output_type": "execute_result"
    }
   ],
   "source": [
    "# Let's select two columns, loan_status and grade to answer this question \n",
    "data['loan_status'].value_counts()"
   ]
  },
  {
   "cell_type": "code",
   "execution_count": 22,
   "metadata": {},
   "outputs": [
    {
     "data": {
      "text/plain": [
       "A     73336\n",
       "B    117606\n",
       "C    120567\n",
       "D     62654\n",
       "E     34948\n",
       "F      9817\n",
       "G      2167\n",
       "Name: grade, dtype: int64"
      ]
     },
     "execution_count": 22,
     "metadata": {},
     "output_type": "execute_result"
    }
   ],
   "source": [
    "data['grade'].value_counts().sort_index()"
   ]
  },
  {
   "cell_type": "code",
   "execution_count": 23,
   "metadata": {},
   "outputs": [
    {
     "name": "stdout",
     "output_type": "stream",
     "text": [
      "2\n",
      "2\n"
     ]
    }
   ],
   "source": [
    "print(data['loan_status'].isnull().sum())\n",
    "print(data['grade'].isnull().sum())"
   ]
  },
  {
   "cell_type": "code",
   "execution_count": 24,
   "metadata": {},
   "outputs": [
    {
     "name": "stdout",
     "output_type": "stream",
     "text": [
      "(421097, 2)\n",
      "(421095, 2)\n"
     ]
    },
    {
     "data": {
      "text/plain": [
       "loan_status    0\n",
       "grade          0\n",
       "dtype: int64"
      ]
     },
     "execution_count": 24,
     "metadata": {},
     "output_type": "execute_result"
    }
   ],
   "source": [
    "# Copy these two columns into a new dataframe and drop the NaN values. \n",
    "\n",
    "data2 = data[['loan_status', 'grade']].copy()\n",
    "print(data2.shape)\n",
    "\n",
    "data2.dropna(axis=0, inplace=True)\n",
    "print(data2.shape)\n",
    "\n",
    "data2[['loan_status', 'grade']].isnull().sum()"
   ]
  },
  {
   "cell_type": "code",
   "execution_count": 25,
   "metadata": {},
   "outputs": [
    {
     "data": {
      "text/html": [
       "<div>\n",
       "<style scoped>\n",
       "    .dataframe tbody tr th:only-of-type {\n",
       "        vertical-align: middle;\n",
       "    }\n",
       "\n",
       "    .dataframe tbody tr th {\n",
       "        vertical-align: top;\n",
       "    }\n",
       "\n",
       "    .dataframe thead th {\n",
       "        text-align: right;\n",
       "    }\n",
       "</style>\n",
       "<table border=\"1\" class=\"dataframe\">\n",
       "  <thead>\n",
       "    <tr style=\"text-align: right;\">\n",
       "      <th></th>\n",
       "      <th>loan_status</th>\n",
       "      <th>grade</th>\n",
       "    </tr>\n",
       "  </thead>\n",
       "  <tbody>\n",
       "    <tr>\n",
       "      <th>0</th>\n",
       "      <td>Fully Paid</td>\n",
       "      <td>B</td>\n",
       "    </tr>\n",
       "    <tr>\n",
       "      <th>1</th>\n",
       "      <td>Current</td>\n",
       "      <td>A</td>\n",
       "    </tr>\n",
       "    <tr>\n",
       "      <th>2</th>\n",
       "      <td>Current</td>\n",
       "      <td>D</td>\n",
       "    </tr>\n",
       "    <tr>\n",
       "      <th>3</th>\n",
       "      <td>Fully Paid</td>\n",
       "      <td>D</td>\n",
       "    </tr>\n",
       "    <tr>\n",
       "      <th>4</th>\n",
       "      <td>Current</td>\n",
       "      <td>E</td>\n",
       "    </tr>\n",
       "  </tbody>\n",
       "</table>\n",
       "</div>"
      ],
      "text/plain": [
       "  loan_status grade\n",
       "0  Fully Paid     B\n",
       "1     Current     A\n",
       "2     Current     D\n",
       "3  Fully Paid     D\n",
       "4     Current     E"
      ]
     },
     "execution_count": 25,
     "metadata": {},
     "output_type": "execute_result"
    }
   ],
   "source": [
    "data2.head()"
   ]
  },
  {
   "cell_type": "markdown",
   "metadata": {},
   "source": [
    "### For loan status, let's only keep Fully Paid, and Charged Off for this analysis, as the other statuses represent ongoing loan that are not closed yet. "
   ]
  },
  {
   "cell_type": "code",
   "execution_count": 26,
   "metadata": {},
   "outputs": [
    {
     "name": "stdout",
     "output_type": "stream",
     "text": [
      "(260659, 2)\n"
     ]
    }
   ],
   "source": [
    "data2 = data2[data2['loan_status'].isin(['Fully Paid', 'Charged Off'])]\n",
    "print(data2.shape)"
   ]
  },
  {
   "cell_type": "code",
   "execution_count": 27,
   "metadata": {},
   "outputs": [
    {
     "data": {
      "text/html": [
       "<div>\n",
       "<style scoped>\n",
       "    .dataframe tbody tr th:only-of-type {\n",
       "        vertical-align: middle;\n",
       "    }\n",
       "\n",
       "    .dataframe tbody tr th {\n",
       "        vertical-align: top;\n",
       "    }\n",
       "\n",
       "    .dataframe thead th {\n",
       "        text-align: right;\n",
       "    }\n",
       "</style>\n",
       "<table border=\"1\" class=\"dataframe\">\n",
       "  <thead>\n",
       "    <tr style=\"text-align: right;\">\n",
       "      <th></th>\n",
       "      <th>loan_status</th>\n",
       "      <th>grade</th>\n",
       "      <th>default</th>\n",
       "    </tr>\n",
       "  </thead>\n",
       "  <tbody>\n",
       "    <tr>\n",
       "      <th>0</th>\n",
       "      <td>Fully Paid</td>\n",
       "      <td>B</td>\n",
       "      <td>0</td>\n",
       "    </tr>\n",
       "    <tr>\n",
       "      <th>3</th>\n",
       "      <td>Fully Paid</td>\n",
       "      <td>D</td>\n",
       "      <td>0</td>\n",
       "    </tr>\n",
       "    <tr>\n",
       "      <th>5</th>\n",
       "      <td>Fully Paid</td>\n",
       "      <td>B</td>\n",
       "      <td>0</td>\n",
       "    </tr>\n",
       "    <tr>\n",
       "      <th>6</th>\n",
       "      <td>Charged Off</td>\n",
       "      <td>D</td>\n",
       "      <td>1</td>\n",
       "    </tr>\n",
       "    <tr>\n",
       "      <th>7</th>\n",
       "      <td>Fully Paid</td>\n",
       "      <td>A</td>\n",
       "      <td>0</td>\n",
       "    </tr>\n",
       "  </tbody>\n",
       "</table>\n",
       "</div>"
      ],
      "text/plain": [
       "   loan_status grade  default\n",
       "0   Fully Paid     B        0\n",
       "3   Fully Paid     D        0\n",
       "5   Fully Paid     B        0\n",
       "6  Charged Off     D        1\n",
       "7   Fully Paid     A        0"
      ]
     },
     "execution_count": 27,
     "metadata": {},
     "output_type": "execute_result"
    }
   ],
   "source": [
    "# Create another column 'default', with value 1 meaning default, and 0 meaning paid off\n",
    "mapping_status = {'Fully Paid': 0, 'Charged Off': 1} \n",
    "data2['default'] = data2['loan_status'].map(mapping_status)\n",
    "data2.head()"
   ]
  },
  {
   "cell_type": "code",
   "execution_count": 28,
   "metadata": {},
   "outputs": [
    {
     "data": {
      "text/html": [
       "<div>\n",
       "<style scoped>\n",
       "    .dataframe tbody tr th:only-of-type {\n",
       "        vertical-align: middle;\n",
       "    }\n",
       "\n",
       "    .dataframe tbody tr th {\n",
       "        vertical-align: top;\n",
       "    }\n",
       "\n",
       "    .dataframe thead th {\n",
       "        text-align: right;\n",
       "    }\n",
       "</style>\n",
       "<table border=\"1\" class=\"dataframe\">\n",
       "  <thead>\n",
       "    <tr style=\"text-align: right;\">\n",
       "      <th></th>\n",
       "      <th>grade</th>\n",
       "      <th>number of loans</th>\n",
       "      <th>number of default</th>\n",
       "      <th>default perc</th>\n",
       "    </tr>\n",
       "  </thead>\n",
       "  <tbody>\n",
       "    <tr>\n",
       "      <th>0</th>\n",
       "      <td>A</td>\n",
       "      <td>45686</td>\n",
       "      <td>3303</td>\n",
       "      <td>7.23</td>\n",
       "    </tr>\n",
       "    <tr>\n",
       "      <th>1</th>\n",
       "      <td>B</td>\n",
       "      <td>70045</td>\n",
       "      <td>11469</td>\n",
       "      <td>16.37</td>\n",
       "    </tr>\n",
       "    <tr>\n",
       "      <th>2</th>\n",
       "      <td>C</td>\n",
       "      <td>73670</td>\n",
       "      <td>19554</td>\n",
       "      <td>26.54</td>\n",
       "    </tr>\n",
       "    <tr>\n",
       "      <th>3</th>\n",
       "      <td>D</td>\n",
       "      <td>40131</td>\n",
       "      <td>14733</td>\n",
       "      <td>36.71</td>\n",
       "    </tr>\n",
       "    <tr>\n",
       "      <th>4</th>\n",
       "      <td>E</td>\n",
       "      <td>22537</td>\n",
       "      <td>10162</td>\n",
       "      <td>45.09</td>\n",
       "    </tr>\n",
       "    <tr>\n",
       "      <th>5</th>\n",
       "      <td>F</td>\n",
       "      <td>6921</td>\n",
       "      <td>3691</td>\n",
       "      <td>53.33</td>\n",
       "    </tr>\n",
       "    <tr>\n",
       "      <th>6</th>\n",
       "      <td>G</td>\n",
       "      <td>1669</td>\n",
       "      <td>933</td>\n",
       "      <td>55.90</td>\n",
       "    </tr>\n",
       "  </tbody>\n",
       "</table>\n",
       "</div>"
      ],
      "text/plain": [
       "  grade  number of loans  number of default  default perc\n",
       "0     A            45686               3303          7.23\n",
       "1     B            70045              11469         16.37\n",
       "2     C            73670              19554         26.54\n",
       "3     D            40131              14733         36.71\n",
       "4     E            22537              10162         45.09\n",
       "5     F             6921               3691         53.33\n",
       "6     G             1669                933         55.90"
      ]
     },
     "execution_count": 28,
     "metadata": {},
     "output_type": "execute_result"
    }
   ],
   "source": [
    "# Count the total number of loans in each category\n",
    "data2_by_grade = data2.groupby(['grade']).count().reset_index()[['grade', 'default']]\n",
    "data2_by_grade.rename(columns={'default': 'number of loans'}, inplace=True)\n",
    "\n",
    "# Calculate the number of charged off in each grade category\n",
    "data2_by_grade['number of default'] = data2.groupby(['grade']).sum().reset_index()['default']\n",
    "\n",
    "# Calculate the default rate in each grade category\n",
    "data2_by_grade['default perc'] = round(data2_by_grade['number of default'] / data2_by_grade['number of loans'] * 100, 2)\n",
    "\n",
    "data2_by_grade"
   ]
  },
  {
   "cell_type": "code",
   "execution_count": 29,
   "metadata": {},
   "outputs": [
    {
     "data": {
      "text/plain": [
       "<Figure size 432x288 with 0 Axes>"
      ]
     },
     "metadata": {},
     "output_type": "display_data"
    },
    {
     "data": {
      "image/png": "[encoded data removed]",
      "text/plain": [
       "<Figure size 432x288 with 1 Axes>"
      ]
     },
     "metadata": {},
     "output_type": "display_data"
    }
   ],
   "source": [
    "# Plot the default rate by grade\n",
    "fig4 = plt.figure()\n",
    "data2_by_grade.plot.bar(x='grade', y='default perc', rot=45, color='blue', legend=False, fontsize=14)\n",
    "\n",
    "plt.ylabel('Default rate %', fontsize=18)\n",
    "plt.xlabel('Loan Grade', fontsize=18)\n",
    "plt.show()"
   ]
  },
  {
   "cell_type": "markdown",
   "metadata": {},
   "source": [
    "### Observation:\n",
    "Default rate rises significantly with loan grade"
   ]
  },
  {
   "cell_type": "markdown",
   "metadata": {},
   "source": [
    "## 2.3. Is Lending Club charging an appropriate interest rate for the risk?"
   ]
  },
  {
   "cell_type": "code",
   "execution_count": 30,
   "metadata": {},
   "outputs": [],
   "source": [
    "# Need to look at interest rate associated with each loan grade\n",
    "data3 = data[['int_rate', 'grade']].copy()\n",
    "data3.dropna(axis=0, inplace=True)"
   ]
  },
  {
   "cell_type": "code",
   "execution_count": 31,
   "metadata": {},
   "outputs": [],
   "source": [
    "# Convert interest rate to numeric\n",
    "data3['int_rate'] = data3['int_rate'].str.replace('%', '').str.strip().astype('float')"
   ]
  },
  {
   "cell_type": "code",
   "execution_count": 32,
   "metadata": {},
   "outputs": [
    {
     "data": {
      "text/html": [
       "<div>\n",
       "<style scoped>\n",
       "    .dataframe tbody tr th:only-of-type {\n",
       "        vertical-align: middle;\n",
       "    }\n",
       "\n",
       "    .dataframe tbody tr th {\n",
       "        vertical-align: top;\n",
       "    }\n",
       "\n",
       "    .dataframe thead th {\n",
       "        text-align: right;\n",
       "    }\n",
       "</style>\n",
       "<table border=\"1\" class=\"dataframe\">\n",
       "  <thead>\n",
       "    <tr style=\"text-align: right;\">\n",
       "      <th></th>\n",
       "      <th>int_rate</th>\n",
       "      <th>grade</th>\n",
       "    </tr>\n",
       "  </thead>\n",
       "  <tbody>\n",
       "    <tr>\n",
       "      <th>0</th>\n",
       "      <td>9.80</td>\n",
       "      <td>B</td>\n",
       "    </tr>\n",
       "    <tr>\n",
       "      <th>1</th>\n",
       "      <td>5.32</td>\n",
       "      <td>A</td>\n",
       "    </tr>\n",
       "    <tr>\n",
       "      <th>2</th>\n",
       "      <td>18.49</td>\n",
       "      <td>D</td>\n",
       "    </tr>\n",
       "    <tr>\n",
       "      <th>3</th>\n",
       "      <td>15.77</td>\n",
       "      <td>D</td>\n",
       "    </tr>\n",
       "    <tr>\n",
       "      <th>4</th>\n",
       "      <td>19.89</td>\n",
       "      <td>E</td>\n",
       "    </tr>\n",
       "  </tbody>\n",
       "</table>\n",
       "</div>"
      ],
      "text/plain": [
       "   int_rate grade\n",
       "0      9.80     B\n",
       "1      5.32     A\n",
       "2     18.49     D\n",
       "3     15.77     D\n",
       "4     19.89     E"
      ]
     },
     "execution_count": 32,
     "metadata": {},
     "output_type": "execute_result"
    }
   ],
   "source": [
    "data3.head()"
   ]
  },
  {
   "cell_type": "code",
   "execution_count": 33,
   "metadata": {},
   "outputs": [],
   "source": [
    "# Calculate average interest rate for each loan grade\n",
    "data3_by_grade = pd.pivot_table(data3, values='int_rate', index='grade', aggfunc=np.mean).reset_index()\n",
    "\n",
    "data3_by_grade['default perc'] = data2_by_grade['default perc']"
   ]
  },
  {
   "cell_type": "code",
   "execution_count": 34,
   "metadata": {},
   "outputs": [
    {
     "data": {
      "text/html": [
       "<div>\n",
       "<style scoped>\n",
       "    .dataframe tbody tr th:only-of-type {\n",
       "        vertical-align: middle;\n",
       "    }\n",
       "\n",
       "    .dataframe tbody tr th {\n",
       "        vertical-align: top;\n",
       "    }\n",
       "\n",
       "    .dataframe thead th {\n",
       "        text-align: right;\n",
       "    }\n",
       "</style>\n",
       "<table border=\"1\" class=\"dataframe\">\n",
       "  <thead>\n",
       "    <tr style=\"text-align: right;\">\n",
       "      <th></th>\n",
       "      <th>grade</th>\n",
       "      <th>int_rate</th>\n",
       "      <th>default perc</th>\n",
       "    </tr>\n",
       "  </thead>\n",
       "  <tbody>\n",
       "    <tr>\n",
       "      <th>0</th>\n",
       "      <td>A</td>\n",
       "      <td>6.941617</td>\n",
       "      <td>7.23</td>\n",
       "    </tr>\n",
       "    <tr>\n",
       "      <th>1</th>\n",
       "      <td>B</td>\n",
       "      <td>10.044305</td>\n",
       "      <td>16.37</td>\n",
       "    </tr>\n",
       "    <tr>\n",
       "      <th>2</th>\n",
       "      <td>C</td>\n",
       "      <td>13.298285</td>\n",
       "      <td>26.54</td>\n",
       "    </tr>\n",
       "    <tr>\n",
       "      <th>3</th>\n",
       "      <td>D</td>\n",
       "      <td>16.724470</td>\n",
       "      <td>36.71</td>\n",
       "    </tr>\n",
       "    <tr>\n",
       "      <th>4</th>\n",
       "      <td>E</td>\n",
       "      <td>19.290423</td>\n",
       "      <td>45.09</td>\n",
       "    </tr>\n",
       "    <tr>\n",
       "      <th>5</th>\n",
       "      <td>F</td>\n",
       "      <td>23.614716</td>\n",
       "      <td>53.33</td>\n",
       "    </tr>\n",
       "    <tr>\n",
       "      <th>6</th>\n",
       "      <td>G</td>\n",
       "      <td>26.835187</td>\n",
       "      <td>55.90</td>\n",
       "    </tr>\n",
       "  </tbody>\n",
       "</table>\n",
       "</div>"
      ],
      "text/plain": [
       "  grade   int_rate  default perc\n",
       "0     A   6.941617          7.23\n",
       "1     B  10.044305         16.37\n",
       "2     C  13.298285         26.54\n",
       "3     D  16.724470         36.71\n",
       "4     E  19.290423         45.09\n",
       "5     F  23.614716         53.33\n",
       "6     G  26.835187         55.90"
      ]
     },
     "execution_count": 34,
     "metadata": {},
     "output_type": "execute_result"
    }
   ],
   "source": [
    "data3_by_grade"
   ]
  },
  {
   "cell_type": "code",
   "execution_count": 35,
   "metadata": {},
   "outputs": [
    {
     "data": {
      "text/plain": [
       "<Figure size 720x360 with 0 Axes>"
      ]
     },
     "metadata": {},
     "output_type": "display_data"
    },
    {
     "data": {
      "image/png": "[encoded data removed]",
      "text/plain": [
       "<Figure size 432x288 with 1 Axes>"
      ]
     },
     "metadata": {},
     "output_type": "display_data"
    }
   ],
   "source": [
    "# Plot the default rate by grade against ave interest rate\n",
    "fig5 = plt.figure(figsize=(10,5))\n",
    "data3_by_grade.plot.bar(x='grade', y=['default perc', 'int_rate'], rot=45, legend=True, fontsize=18)\n",
    "plt.ylabel('Default rate %', fontsize=18)\n",
    "plt.xlabel('Loan Grade', fontsize=18)\n",
    "plt.show()"
   ]
  },
  {
   "cell_type": "markdown",
   "metadata": {},
   "source": [
    "### Lending club certainly charges a higher interest rate for higher grade of loans, which has higher default rate. However, purely based on these plot, it's difficult to conclude if the interest rate is high enough for the risk. \n",
    "\n",
    "### In order to get more accurate answers, we need to know not just how much the default rate is, but also the amounts of the default /charged off loans that are paid partially. "
   ]
  },
  {
   "cell_type": "markdown",
   "metadata": {},
   "source": [
    "# Part 3. Modeling"
   ]
  },
  {
   "cell_type": "markdown",
   "metadata": {},
   "source": [
    "## 3.1. Feature engineering"
   ]
  },
  {
   "cell_type": "code",
   "execution_count": 36,
   "metadata": {},
   "outputs": [
    {
     "data": {
      "text/plain": [
       "acc_now_delinq                         2\n",
       "acc_open_past_24mths                   2\n",
       "addr_state                             2\n",
       "all_util                          399725\n",
       "annual_inc                             2\n",
       "annual_inc_joint                  420586\n",
       "application_type                       2\n",
       "avg_cur_bal                            2\n",
       "bc_open_to_buy                      3965\n",
       "bc_util                             4229\n",
       "chargeoff_within_12_mths               2\n",
       "collections_12_mths_ex_med             2\n",
       "delinq_2yrs                            2\n",
       "delinq_amnt                            2\n",
       "desc                              421052\n",
       "dti                                    4\n",
       "dti_joint                         420588\n",
       "earliest_cr_line                       2\n",
       "emp_length                         23819\n",
       "emp_title                          23876\n",
       "funded_amnt                            2\n",
       "funded_amnt_inv                        2\n",
       "grade                                  2\n",
       "home_ownership                         2\n",
       "id                                421095\n",
       "il_util                           402480\n",
       "initial_list_status                    2\n",
       "inq_fi                            399725\n",
       "inq_last_12m                      399725\n",
       "inq_last_6mths                         2\n",
       "installment                            2\n",
       "int_rate                               2\n",
       "issue_d                                2\n",
       "loan_amnt                              2\n",
       "loan_status                            2\n",
       "max_bal_bc                        399725\n",
       "member_id                         421097\n",
       "mo_sin_old_il_acct                 12256\n",
       "mo_sin_old_rev_tl_op                   2\n",
       "mo_sin_rcnt_rev_tl_op                  2\n",
       "mo_sin_rcnt_tl                         2\n",
       "mort_acc                               2\n",
       "mths_since_last_delinq            203964\n",
       "mths_since_last_major_derog       298368\n",
       "mths_since_last_record            346682\n",
       "mths_since_rcnt_il                400287\n",
       "mths_since_recent_bc                3800\n",
       "mths_since_recent_bc_dlq          312497\n",
       "mths_since_recent_inq              44601\n",
       "mths_since_recent_revol_delinq    269360\n",
       "dtype: int64"
      ]
     },
     "execution_count": 36,
     "metadata": {},
     "output_type": "execute_result"
    }
   ],
   "source": [
    "# Look for missing data\n",
    "data.iloc[:,:50].isnull().sum()"
   ]
  },
  {
   "cell_type": "code",
   "execution_count": 37,
   "metadata": {},
   "outputs": [
    {
     "data": {
      "text/plain": [
       "num_accts_ever_120_pd                       2\n",
       "num_actv_bc_tl                              2\n",
       "num_actv_rev_tl                             2\n",
       "num_bc_sats                                 2\n",
       "num_bc_tl                                   2\n",
       "num_il_tl                                   2\n",
       "num_op_rev_tl                               2\n",
       "num_rev_accts                               3\n",
       "num_rev_tl_bal_gt_0                         2\n",
       "num_sats                                    2\n",
       "num_tl_120dpd_2m                        19232\n",
       "num_tl_30dpd                                2\n",
       "num_tl_90g_dpd_24m                          2\n",
       "num_tl_op_past_12m                          2\n",
       "open_acc                                    2\n",
       "open_acc_6m                            399725\n",
       "open_il_12m                            399725\n",
       "open_il_24m                            399725\n",
       "open_act_il                            399725\n",
       "open_rv_12m                            399725\n",
       "open_rv_24m                            399725\n",
       "pct_tl_nvr_dlq                              2\n",
       "percent_bc_gt_75                         4241\n",
       "policy_code                                 2\n",
       "pub_rec                                     2\n",
       "pub_rec_bankruptcies                        2\n",
       "purpose                                     2\n",
       "revol_bal                                   2\n",
       "revol_util                                164\n",
       "sub_grade                                   2\n",
       "tax_liens                                   2\n",
       "term                                        2\n",
       "title                                     134\n",
       "tot_cur_bal                                 2\n",
       "tot_hi_cred_lim                             2\n",
       "total_acc                                   2\n",
       "total_bal_ex_mort                           2\n",
       "total_bal_il                           399725\n",
       "total_bc_limit                              2\n",
       "total_cu_tl                            399725\n",
       "total_il_high_credit_limit                  2\n",
       "total_rev_hi_lim                            2\n",
       "verification_status                         2\n",
       "zip_code                                    2\n",
       "revol_bal_joint                        421097\n",
       "sec_app_earliest_cr_line               421097\n",
       "sec_app_inq_last_6mths                 421097\n",
       "sec_app_mort_acc                       421097\n",
       "sec_app_open_acc                       421097\n",
       "sec_app_revol_util                     421097\n",
       "sec_app_open_act_il                    421097\n",
       "sec_app_num_rev_accts                  421097\n",
       "sec_app_chargeoff_within_12_mths       421097\n",
       "sec_app_collections_12_mths_ex_med     421097\n",
       "sec_app_mths_since_last_major_derog    421097\n",
       "dtype: int64"
      ]
     },
     "execution_count": 37,
     "metadata": {},
     "output_type": "execute_result"
    }
   ],
   "source": [
    "data.iloc[:,50:].isnull().sum()"
   ]
  },
  {
   "cell_type": "code",
   "execution_count": 38,
   "metadata": {},
   "outputs": [
    {
     "name": "stdout",
     "output_type": "stream",
     "text": [
      "Total number of loans is 421097\n"
     ]
    }
   ],
   "source": [
    "print('Total number of loans is {}'.format(data.shape[0]))"
   ]
  },
  {
   "cell_type": "code",
   "execution_count": 39,
   "metadata": {},
   "outputs": [
    {
     "name": "stdout",
     "output_type": "stream",
     "text": [
      "Index(['all_util', 'annual_inc_joint', 'desc', 'dti_joint', 'emp_length',\n",
      "       'emp_title', 'id', 'il_util', 'inq_fi', 'inq_last_12m', 'max_bal_bc',\n",
      "       'member_id', 'mo_sin_old_il_acct', 'mths_since_last_delinq',\n",
      "       'mths_since_last_major_derog', 'mths_since_last_record',\n",
      "       'mths_since_rcnt_il', 'mths_since_recent_bc_dlq',\n",
      "       'mths_since_recent_inq', 'mths_since_recent_revol_delinq',\n",
      "       'num_tl_120dpd_2m', 'open_acc_6m', 'open_il_12m', 'open_il_24m',\n",
      "       'open_act_il', 'open_rv_12m', 'open_rv_24m', 'total_bal_il',\n",
      "       'total_cu_tl', 'revol_bal_joint', 'sec_app_earliest_cr_line',\n",
      "       'sec_app_inq_last_6mths', 'sec_app_mort_acc', 'sec_app_open_acc',\n",
      "       'sec_app_revol_util', 'sec_app_open_act_il', 'sec_app_num_rev_accts',\n",
      "       'sec_app_chargeoff_within_12_mths',\n",
      "       'sec_app_collections_12_mths_ex_med',\n",
      "       'sec_app_mths_since_last_major_derog'],\n",
      "      dtype='object')\n"
     ]
    }
   ],
   "source": [
    "# List columns with more than 100000 missing data, and the best option is to drop these columns\n",
    "cols_missing_over100k = data.columns[data.isnull().sum() > 10000]\n",
    "print(cols_missing_over100k)"
   ]
  },
  {
   "cell_type": "code",
   "execution_count": 40,
   "metadata": {},
   "outputs": [],
   "source": [
    "data_drop1 = data.copy()\n",
    "data_drop1.drop(cols_missing_over100k, axis=1, inplace=True)"
   ]
  },
  {
   "cell_type": "code",
   "execution_count": 41,
   "metadata": {},
   "outputs": [
    {
     "data": {
      "text/plain": [
       "(421097, 65)"
      ]
     },
     "execution_count": 41,
     "metadata": {},
     "output_type": "execute_result"
    }
   ],
   "source": [
    "data_drop1.shape"
   ]
  },
  {
   "cell_type": "code",
   "execution_count": 42,
   "metadata": {},
   "outputs": [
    {
     "data": {
      "text/plain": [
       "acc_now_delinq                   2\n",
       "acc_open_past_24mths             2\n",
       "addr_state                       2\n",
       "annual_inc                       2\n",
       "application_type                 2\n",
       "avg_cur_bal                      2\n",
       "bc_open_to_buy                3965\n",
       "bc_util                       4229\n",
       "chargeoff_within_12_mths         2\n",
       "collections_12_mths_ex_med       2\n",
       "delinq_2yrs                      2\n",
       "delinq_amnt                      2\n",
       "dti                              4\n",
       "earliest_cr_line                 2\n",
       "funded_amnt                      2\n",
       "funded_amnt_inv                  2\n",
       "grade                            2\n",
       "home_ownership                   2\n",
       "initial_list_status              2\n",
       "inq_last_6mths                   2\n",
       "installment                      2\n",
       "int_rate                         2\n",
       "issue_d                          2\n",
       "loan_amnt                        2\n",
       "loan_status                      2\n",
       "mo_sin_old_rev_tl_op             2\n",
       "mo_sin_rcnt_rev_tl_op            2\n",
       "mo_sin_rcnt_tl                   2\n",
       "mort_acc                         2\n",
       "mths_since_recent_bc          3800\n",
       "dtype: int64"
      ]
     },
     "execution_count": 42,
     "metadata": {},
     "output_type": "execute_result"
    }
   ],
   "source": [
    "data_drop1.isnull().sum()[:30]"
   ]
  },
  {
   "cell_type": "code",
   "execution_count": 43,
   "metadata": {},
   "outputs": [
    {
     "data": {
      "text/plain": [
       "num_accts_ever_120_pd            2\n",
       "num_actv_bc_tl                   2\n",
       "num_actv_rev_tl                  2\n",
       "num_bc_sats                      2\n",
       "num_bc_tl                        2\n",
       "num_il_tl                        2\n",
       "num_op_rev_tl                    2\n",
       "num_rev_accts                    3\n",
       "num_rev_tl_bal_gt_0              2\n",
       "num_sats                         2\n",
       "num_tl_30dpd                     2\n",
       "num_tl_90g_dpd_24m               2\n",
       "num_tl_op_past_12m               2\n",
       "open_acc                         2\n",
       "pct_tl_nvr_dlq                   2\n",
       "percent_bc_gt_75              4241\n",
       "policy_code                      2\n",
       "pub_rec                          2\n",
       "pub_rec_bankruptcies             2\n",
       "purpose                          2\n",
       "revol_bal                        2\n",
       "revol_util                     164\n",
       "sub_grade                        2\n",
       "tax_liens                        2\n",
       "term                             2\n",
       "title                          134\n",
       "tot_cur_bal                      2\n",
       "tot_hi_cred_lim                  2\n",
       "total_acc                        2\n",
       "total_bal_ex_mort                2\n",
       "total_bc_limit                   2\n",
       "total_il_high_credit_limit       2\n",
       "total_rev_hi_lim                 2\n",
       "verification_status              2\n",
       "zip_code                         2\n",
       "dtype: int64"
      ]
     },
     "execution_count": 43,
     "metadata": {},
     "output_type": "execute_result"
    }
   ],
   "source": [
    "data_drop1.isnull().sum()[30:]"
   ]
  },
  {
   "cell_type": "code",
   "execution_count": 44,
   "metadata": {},
   "outputs": [
    {
     "data": {
      "text/plain": [
       "Index(['bc_open_to_buy', 'bc_util', 'dti', 'mths_since_recent_bc',\n",
       "       'num_rev_accts', 'percent_bc_gt_75', 'revol_util', 'title'],\n",
       "      dtype='object')"
      ]
     },
     "execution_count": 44,
     "metadata": {},
     "output_type": "execute_result"
    }
   ],
   "source": [
    "# Next, select the columns with more than 2 but less than 100000 missing data, and investigate them to find out the reason\n",
    "cols_missing_2to100k = data_drop1.columns[data_drop1.isnull().sum() > 2]\n",
    "cols_missing_2to100k"
   ]
  },
  {
   "cell_type": "markdown",
   "metadata": {},
   "source": [
    "### Here are the rest of the missing columns  \n",
    "bc_open_to_buy:\t        Total open to buy on revolving bankcards.\n",
    "\n",
    "bc_util:\t            Ratio of total current balance to high credit/credit limit for all bankcard accounts.\n",
    "\n",
    "dti:           \t        A ratio calculated using the borrower’s total monthly debt payments on the total debt obligations, excluding mortgage and the requested LC loan, divided by the borrower’s self-reported monthly income.\n",
    "\n",
    "mths_since_recent_bc: \tMonths since most recent bankcard account opened.\n",
    "\n",
    "num_rev_accts:       \tNumber of revolving accounts\n",
    "\n",
    "percent_bc_gt_75:    \tPercentage of all bankcard accounts > 75% of limit.\n",
    "\n",
    "revol_util:          \tRevolving line utilization rate, or the amount of credit the borrower is using relative to all available revolving credit.\t\n",
    "\n",
    "title:               \tThe loan title provided by the borrower\n",
    "\n",
    "\n",
    "\n"
   ]
  },
  {
   "cell_type": "code",
   "execution_count": 45,
   "metadata": {},
   "outputs": [
    {
     "name": "stdout",
     "output_type": "stream",
     "text": [
      "<class 'pandas.core.frame.DataFrame'>\n",
      "RangeIndex: 421097 entries, 0 to 421096\n",
      "Data columns (total 8 columns):\n",
      "bc_open_to_buy          417132 non-null float64\n",
      "bc_util                 416868 non-null float64\n",
      "dti                     421093 non-null float64\n",
      "mths_since_recent_bc    417297 non-null float64\n",
      "num_rev_accts           421094 non-null float64\n",
      "percent_bc_gt_75        416856 non-null float64\n",
      "revol_util              420933 non-null object\n",
      "title                   420963 non-null object\n",
      "dtypes: float64(6), object(2)\n",
      "memory usage: 25.7+ MB\n"
     ]
    }
   ],
   "source": [
    "data_drop1[cols_missing_2to100k].info()"
   ]
  },
  {
   "cell_type": "markdown",
   "metadata": {},
   "source": [
    "### There are multiple ways to impute the missing data. Here I choose to fill with mean value of each column for the numeric columns, and most common category for the non-numeric column 'title'"
   ]
  },
  {
   "cell_type": "code",
   "execution_count": 46,
   "metadata": {},
   "outputs": [],
   "source": [
    "# Impute the numeric columns from the columns with missing data of 2 to 100k, and save it as a subset\n",
    "# revol_until needs to be converted from string to numeric first\n",
    "\n",
    "data_drop1['revol_util'] = data_drop1['revol_util'].str.replace('%', '').str.strip().astype('float')\n",
    "data_drop1[cols_missing_2to100k[:-1]] = data_drop1[cols_missing_2to100k[:-1]].fillna(np.mean)"
   ]
  },
  {
   "cell_type": "code",
   "execution_count": 47,
   "metadata": {},
   "outputs": [],
   "source": [
    "# For the title column, replace NaN with the most common category\n",
    "data_drop1['title'].fillna(data_drop1['title'].value_counts().index[0], inplace=True)"
   ]
  },
  {
   "cell_type": "code",
   "execution_count": 48,
   "metadata": {},
   "outputs": [
    {
     "data": {
      "text/plain": [
       "acc_now_delinq                2\n",
       "acc_open_past_24mths          2\n",
       "addr_state                    2\n",
       "annual_inc                    2\n",
       "application_type              2\n",
       "avg_cur_bal                   2\n",
       "bc_open_to_buy                0\n",
       "bc_util                       0\n",
       "chargeoff_within_12_mths      2\n",
       "collections_12_mths_ex_med    2\n",
       "delinq_2yrs                   2\n",
       "delinq_amnt                   2\n",
       "dti                           0\n",
       "earliest_cr_line              2\n",
       "funded_amnt                   2\n",
       "funded_amnt_inv               2\n",
       "grade                         2\n",
       "home_ownership                2\n",
       "initial_list_status           2\n",
       "inq_last_6mths                2\n",
       "installment                   2\n",
       "int_rate                      2\n",
       "issue_d                       2\n",
       "loan_amnt                     2\n",
       "loan_status                   2\n",
       "mo_sin_old_rev_tl_op          2\n",
       "mo_sin_rcnt_rev_tl_op         2\n",
       "mo_sin_rcnt_tl                2\n",
       "mort_acc                      2\n",
       "mths_since_recent_bc          0\n",
       "                             ..\n",
       "num_il_tl                     2\n",
       "num_op_rev_tl                 2\n",
       "num_rev_accts                 0\n",
       "num_rev_tl_bal_gt_0           2\n",
       "num_sats                      2\n",
       "num_tl_30dpd                  2\n",
       "num_tl_90g_dpd_24m            2\n",
       "num_tl_op_past_12m            2\n",
       "open_acc                      2\n",
       "pct_tl_nvr_dlq                2\n",
       "percent_bc_gt_75              0\n",
       "policy_code                   2\n",
       "pub_rec                       2\n",
       "pub_rec_bankruptcies          2\n",
       "purpose                       2\n",
       "revol_bal                     2\n",
       "revol_util                    0\n",
       "sub_grade                     2\n",
       "tax_liens                     2\n",
       "term                          2\n",
       "title                         0\n",
       "tot_cur_bal                   2\n",
       "tot_hi_cred_lim               2\n",
       "total_acc                     2\n",
       "total_bal_ex_mort             2\n",
       "total_bc_limit                2\n",
       "total_il_high_credit_limit    2\n",
       "total_rev_hi_lim              2\n",
       "verification_status           2\n",
       "zip_code                      2\n",
       "Length: 65, dtype: int64"
      ]
     },
     "execution_count": 48,
     "metadata": {},
     "output_type": "execute_result"
    }
   ],
   "source": [
    "data_drop1.isnull().sum()"
   ]
  },
  {
   "cell_type": "code",
   "execution_count": 49,
   "metadata": {},
   "outputs": [],
   "source": [
    "# At last, remove rows with the rest of the null values\n",
    "data_drop1.dropna(axis=0, inplace=True)"
   ]
  },
  {
   "cell_type": "code",
   "execution_count": 50,
   "metadata": {},
   "outputs": [
    {
     "name": "stdout",
     "output_type": "stream",
     "text": [
      "<class 'pandas.core.frame.DataFrame'>\n",
      "Int64Index: 421095 entries, 0 to 421094\n",
      "Data columns (total 65 columns):\n",
      "acc_now_delinq                421095 non-null float64\n",
      "acc_open_past_24mths          421095 non-null float64\n",
      "addr_state                    421095 non-null object\n",
      "annual_inc                    421095 non-null float64\n",
      "application_type              421095 non-null object\n",
      "avg_cur_bal                   421095 non-null float64\n",
      "bc_open_to_buy                421095 non-null object\n",
      "bc_util                       421095 non-null object\n",
      "chargeoff_within_12_mths      421095 non-null float64\n",
      "collections_12_mths_ex_med    421095 non-null float64\n",
      "delinq_2yrs                   421095 non-null float64\n",
      "delinq_amnt                   421095 non-null float64\n",
      "dti                           421095 non-null object\n",
      "earliest_cr_line              421095 non-null object\n",
      "funded_amnt                   421095 non-null float64\n",
      "funded_amnt_inv               421095 non-null float64\n",
      "grade                         421095 non-null object\n",
      "home_ownership                421095 non-null object\n",
      "initial_list_status           421095 non-null object\n",
      "inq_last_6mths                421095 non-null float64\n",
      "installment                   421095 non-null float64\n",
      "int_rate                      421095 non-null object\n",
      "issue_d                       421095 non-null object\n",
      "loan_amnt                     421095 non-null float64\n",
      "loan_status                   421095 non-null object\n",
      "mo_sin_old_rev_tl_op          421095 non-null float64\n",
      "mo_sin_rcnt_rev_tl_op         421095 non-null float64\n",
      "mo_sin_rcnt_tl                421095 non-null float64\n",
      "mort_acc                      421095 non-null float64\n",
      "mths_since_recent_bc          421095 non-null object\n",
      "num_accts_ever_120_pd         421095 non-null float64\n",
      "num_actv_bc_tl                421095 non-null float64\n",
      "num_actv_rev_tl               421095 non-null float64\n",
      "num_bc_sats                   421095 non-null float64\n",
      "num_bc_tl                     421095 non-null float64\n",
      "num_il_tl                     421095 non-null float64\n",
      "num_op_rev_tl                 421095 non-null float64\n",
      "num_rev_accts                 421095 non-null object\n",
      "num_rev_tl_bal_gt_0           421095 non-null float64\n",
      "num_sats                      421095 non-null float64\n",
      "num_tl_30dpd                  421095 non-null float64\n",
      "num_tl_90g_dpd_24m            421095 non-null float64\n",
      "num_tl_op_past_12m            421095 non-null float64\n",
      "open_acc                      421095 non-null float64\n",
      "pct_tl_nvr_dlq                421095 non-null float64\n",
      "percent_bc_gt_75              421095 non-null object\n",
      "policy_code                   421095 non-null float64\n",
      "pub_rec                       421095 non-null float64\n",
      "pub_rec_bankruptcies          421095 non-null float64\n",
      "purpose                       421095 non-null object\n",
      "revol_bal                     421095 non-null float64\n",
      "revol_util                    421095 non-null object\n",
      "sub_grade                     421095 non-null object\n",
      "tax_liens                     421095 non-null float64\n",
      "term                          421095 non-null object\n",
      "title                         421095 non-null object\n",
      "tot_cur_bal                   421095 non-null float64\n",
      "tot_hi_cred_lim               421095 non-null float64\n",
      "total_acc                     421095 non-null float64\n",
      "total_bal_ex_mort             421095 non-null float64\n",
      "total_bc_limit                421095 non-null float64\n",
      "total_il_high_credit_limit    421095 non-null float64\n",
      "total_rev_hi_lim              421095 non-null float64\n",
      "verification_status           421095 non-null object\n",
      "zip_code                      421095 non-null object\n",
      "dtypes: float64(43), object(22)\n",
      "memory usage: 212.0+ MB\n"
     ]
    }
   ],
   "source": [
    "data_drop1.info()"
   ]
  },
  {
   "cell_type": "markdown",
   "metadata": {},
   "source": [
    "### Let's examine the non-numeric columns"
   ]
  },
  {
   "cell_type": "code",
   "execution_count": 51,
   "metadata": {},
   "outputs": [
    {
     "data": {
      "text/plain": [
       "Index(['addr_state', 'application_type', 'bc_open_to_buy', 'bc_util', 'dti',\n",
       "       'earliest_cr_line', 'grade', 'home_ownership', 'initial_list_status',\n",
       "       'int_rate', 'issue_d', 'loan_status', 'mths_since_recent_bc',\n",
       "       'num_rev_accts', 'percent_bc_gt_75', 'purpose', 'revol_util',\n",
       "       'sub_grade', 'term', 'title', 'verification_status', 'zip_code'],\n",
       "      dtype='object')"
      ]
     },
     "execution_count": 51,
     "metadata": {},
     "output_type": "execute_result"
    }
   ],
   "source": [
    "data_drop1.select_dtypes(include='object').columns"
   ]
  },
  {
   "cell_type": "code",
   "execution_count": 52,
   "metadata": {},
   "outputs": [
    {
     "data": {
      "text/plain": [
       "debt_consolidation    250020\n",
       "credit_card           102025\n",
       "home_improvement       25293\n",
       "other                  19204\n",
       "major_purchase          7449\n",
       "medical                 3938\n",
       "car                     3466\n",
       "small_business          3364\n",
       "moving                  2420\n",
       "vacation                2249\n",
       "house                   1438\n",
       "renewable_energy         224\n",
       "wedding                    4\n",
       "educational                1\n",
       "Name: purpose, dtype: int64"
      ]
     },
     "execution_count": 52,
     "metadata": {},
     "output_type": "execute_result"
    }
   ],
   "source": [
    "data_drop1['purpose'].value_counts()"
   ]
  },
  {
   "cell_type": "code",
   "execution_count": 53,
   "metadata": {},
   "outputs": [
    {
     "data": {
      "text/plain": [
       "Debt consolidation                         250058\n",
       "Credit card refinancing                    102056\n",
       "Home improvement                            25264\n",
       "Other                                       19179\n",
       "Major purchase                               7434\n",
       "Medical expenses                             3926\n",
       "Car financing                                3475\n",
       "Business                                     3357\n",
       "Moving and relocation                        2422\n",
       "Vacation                                     2246\n",
       "Home buying                                  1440\n",
       "Green loan                                    223\n",
       "Trying to come back to reality!                 1\n",
       "DebtC                                           1\n",
       "Learning and training                           1\n",
       "Credit Card/Auto Repair                         1\n",
       "new day                                         1\n",
       "New Baby and New House (CC Consolidate)         1\n",
       "Student Loan                                    1\n",
       "new kitchen for momma!                          1\n",
       "considerate                                     1\n",
       "odymeds                                         1\n",
       "Simple Loan Until Contract Is Completed         1\n",
       "Paying off higher interest cards & auto         1\n",
       "Pay off Lowes Card                              1\n",
       "SAVE                                            1\n",
       "Prescription Drug and Medical Costs             1\n",
       "Name: title, dtype: int64"
      ]
     },
     "execution_count": 53,
     "metadata": {},
     "output_type": "execute_result"
    }
   ],
   "source": [
    "data_drop1['title'].value_counts()"
   ]
  },
  {
   "cell_type": "code",
   "execution_count": 54,
   "metadata": {},
   "outputs": [
    {
     "data": {
      "text/plain": [
       "MORTGAGE    207683\n",
       "RENT        167644\n",
       "OWN          45766\n",
       "ANY              2\n",
       "Name: home_ownership, dtype: int64"
      ]
     },
     "execution_count": 54,
     "metadata": {},
     "output_type": "execute_result"
    }
   ],
   "source": [
    "data_drop1['home_ownership'].value_counts()"
   ]
  },
  {
   "cell_type": "code",
   "execution_count": 55,
   "metadata": {},
   "outputs": [
    {
     "data": {
      "text/plain": [
       "Individual    420584\n",
       "Joint App        511\n",
       "Name: application_type, dtype: int64"
      ]
     },
     "execution_count": 55,
     "metadata": {},
     "output_type": "execute_result"
    }
   ],
   "source": [
    "data_drop1['application_type'].value_counts()"
   ]
  },
  {
   "cell_type": "code",
   "execution_count": 56,
   "metadata": {},
   "outputs": [
    {
     "data": {
      "text/plain": [
       "CA    58067\n",
       "TX    34699\n",
       "NY    33844\n",
       "FL    29298\n",
       "IL    16864\n",
       "NJ    15195\n",
       "PA    14969\n",
       "OH    14394\n",
       "GA    14111\n",
       "NC    12038\n",
       "VA    12033\n",
       "MI    11436\n",
       "MD    10057\n",
       "AZ     9700\n",
       "MA     9521\n",
       "CO     9068\n",
       "WA     8917\n",
       "MN     7799\n",
       "IN     7264\n",
       "TN     6903\n",
       "MO     6699\n",
       "CT     6327\n",
       "NV     5924\n",
       "WI     5663\n",
       "AL     5347\n",
       "LA     5098\n",
       "SC     5056\n",
       "OR     4944\n",
       "KY     4112\n",
       "OK     3968\n",
       "KS     3736\n",
       "AR     3152\n",
       "UT     2836\n",
       "MS     2593\n",
       "NM     2351\n",
       "HI     2083\n",
       "NH     2062\n",
       "WV     1974\n",
       "RI     1843\n",
       "DE     1239\n",
       "MT     1162\n",
       "NE     1162\n",
       "DC     1006\n",
       "AK      954\n",
       "WY      900\n",
       "VT      892\n",
       "SD      835\n",
       "ME      521\n",
       "ND      479\n",
       "Name: addr_state, dtype: int64"
      ]
     },
     "execution_count": 56,
     "metadata": {},
     "output_type": "execute_result"
    }
   ],
   "source": [
    "data_drop1['addr_state'].value_counts()"
   ]
  },
  {
   "cell_type": "markdown",
   "metadata": {},
   "source": [
    "### For non-numeric columns, let's only keep the following, and convert them to dummy variables\n",
    "addr_state, grade, purpose, term\n"
   ]
  },
  {
   "cell_type": "code",
   "execution_count": 57,
   "metadata": {},
   "outputs": [],
   "source": [
    "data_drop1_cat_dummy = pd.get_dummies(data_drop1[['addr_state', 'grade', 'purpose', 'term']])"
   ]
  },
  {
   "cell_type": "markdown",
   "metadata": {},
   "source": [
    "### Let's then examine the rest of the numeric columns"
   ]
  },
  {
   "cell_type": "code",
   "execution_count": 58,
   "metadata": {},
   "outputs": [
    {
     "data": {
      "text/plain": [
       "Index(['acc_now_delinq', 'acc_open_past_24mths', 'annual_inc', 'avg_cur_bal',\n",
       "       'chargeoff_within_12_mths', 'collections_12_mths_ex_med', 'delinq_2yrs',\n",
       "       'delinq_amnt', 'funded_amnt', 'funded_amnt_inv', 'inq_last_6mths',\n",
       "       'installment', 'loan_amnt', 'mo_sin_old_rev_tl_op',\n",
       "       'mo_sin_rcnt_rev_tl_op', 'mo_sin_rcnt_tl', 'mort_acc',\n",
       "       'num_accts_ever_120_pd', 'num_actv_bc_tl', 'num_actv_rev_tl',\n",
       "       'num_bc_sats', 'num_bc_tl', 'num_il_tl', 'num_op_rev_tl',\n",
       "       'num_rev_tl_bal_gt_0', 'num_sats', 'num_tl_30dpd', 'num_tl_90g_dpd_24m',\n",
       "       'num_tl_op_past_12m', 'open_acc', 'pct_tl_nvr_dlq', 'policy_code',\n",
       "       'pub_rec', 'pub_rec_bankruptcies', 'revol_bal', 'tax_liens',\n",
       "       'tot_cur_bal', 'tot_hi_cred_lim', 'total_acc', 'total_bal_ex_mort',\n",
       "       'total_bc_limit', 'total_il_high_credit_limit', 'total_rev_hi_lim'],\n",
       "      dtype='object')"
      ]
     },
     "execution_count": 58,
     "metadata": {},
     "output_type": "execute_result"
    }
   ],
   "source": [
    "data_drop1.select_dtypes(exclude='object').columns"
   ]
  },
  {
   "cell_type": "markdown",
   "metadata": {},
   "source": [
    "### Let's drop the following columns as they are leaking information about the loan payment, or \n",
    "'delinq_amnt', 'funded_amnt', 'funded_amnt_inv', 'chargeoff_within_12_mths', 'collections_12_mths_ex_med'"
   ]
  },
  {
   "cell_type": "code",
   "execution_count": 59,
   "metadata": {},
   "outputs": [],
   "source": [
    "data_drop1_numeric = data_drop1.select_dtypes(exclude='object').drop(['delinq_amnt', 'funded_amnt', 'funded_amnt_inv', 'chargeoff_within_12_mths', 'collections_12_mths_ex_med'], axis=1)"
   ]
  },
  {
   "cell_type": "code",
   "execution_count": 60,
   "metadata": {},
   "outputs": [
    {
     "data": {
      "text/html": [
       "<div>\n",
       "<style scoped>\n",
       "    .dataframe tbody tr th:only-of-type {\n",
       "        vertical-align: middle;\n",
       "    }\n",
       "\n",
       "    .dataframe tbody tr th {\n",
       "        vertical-align: top;\n",
       "    }\n",
       "\n",
       "    .dataframe thead th {\n",
       "        text-align: right;\n",
       "    }\n",
       "</style>\n",
       "<table border=\"1\" class=\"dataframe\">\n",
       "  <thead>\n",
       "    <tr style=\"text-align: right;\">\n",
       "      <th></th>\n",
       "      <th>acc_now_delinq</th>\n",
       "      <th>acc_open_past_24mths</th>\n",
       "      <th>annual_inc</th>\n",
       "      <th>avg_cur_bal</th>\n",
       "      <th>delinq_2yrs</th>\n",
       "      <th>inq_last_6mths</th>\n",
       "      <th>installment</th>\n",
       "      <th>loan_amnt</th>\n",
       "      <th>mo_sin_old_rev_tl_op</th>\n",
       "      <th>mo_sin_rcnt_rev_tl_op</th>\n",
       "      <th>mo_sin_rcnt_tl</th>\n",
       "      <th>mort_acc</th>\n",
       "      <th>num_accts_ever_120_pd</th>\n",
       "      <th>num_actv_bc_tl</th>\n",
       "      <th>num_actv_rev_tl</th>\n",
       "      <th>num_bc_sats</th>\n",
       "      <th>num_bc_tl</th>\n",
       "      <th>num_il_tl</th>\n",
       "      <th>num_op_rev_tl</th>\n",
       "      <th>num_rev_tl_bal_gt_0</th>\n",
       "    </tr>\n",
       "  </thead>\n",
       "  <tbody>\n",
       "    <tr>\n",
       "      <th>count</th>\n",
       "      <td>421095.000000</td>\n",
       "      <td>421095.00000</td>\n",
       "      <td>4.210950e+05</td>\n",
       "      <td>421095.000000</td>\n",
       "      <td>421095.000000</td>\n",
       "      <td>421095.000000</td>\n",
       "      <td>421095.000000</td>\n",
       "      <td>421095.000000</td>\n",
       "      <td>421095.000000</td>\n",
       "      <td>421095.000000</td>\n",
       "      <td>421095.000000</td>\n",
       "      <td>421095.000000</td>\n",
       "      <td>421095.000000</td>\n",
       "      <td>421095.000000</td>\n",
       "      <td>421095.000000</td>\n",
       "      <td>421095.000000</td>\n",
       "      <td>421095.000000</td>\n",
       "      <td>421095.000000</td>\n",
       "      <td>421095.000000</td>\n",
       "      <td>421095.000000</td>\n",
       "    </tr>\n",
       "    <tr>\n",
       "      <th>mean</th>\n",
       "      <td>0.006087</td>\n",
       "      <td>4.66500</td>\n",
       "      <td>7.696561e+04</td>\n",
       "      <td>13104.784721</td>\n",
       "      <td>0.347397</td>\n",
       "      <td>0.572690</td>\n",
       "      <td>441.849432</td>\n",
       "      <td>15240.285862</td>\n",
       "      <td>186.586697</td>\n",
       "      <td>13.451247</td>\n",
       "      <td>8.013204</td>\n",
       "      <td>1.685261</td>\n",
       "      <td>0.527054</td>\n",
       "      <td>3.740966</td>\n",
       "      <td>5.860832</td>\n",
       "      <td>4.799879</td>\n",
       "      <td>8.137138</td>\n",
       "      <td>8.649001</td>\n",
       "      <td>8.431786</td>\n",
       "      <td>5.809238</td>\n",
       "    </tr>\n",
       "    <tr>\n",
       "      <th>std</th>\n",
       "      <td>0.086482</td>\n",
       "      <td>3.19538</td>\n",
       "      <td>7.394996e+04</td>\n",
       "      <td>15671.803897</td>\n",
       "      <td>0.927695</td>\n",
       "      <td>0.867776</td>\n",
       "      <td>244.849082</td>\n",
       "      <td>8571.325901</td>\n",
       "      <td>95.374931</td>\n",
       "      <td>17.156985</td>\n",
       "      <td>9.189312</td>\n",
       "      <td>1.990160</td>\n",
       "      <td>1.332797</td>\n",
       "      <td>2.304542</td>\n",
       "      <td>3.439764</td>\n",
       "      <td>3.036184</td>\n",
       "      <td>4.822698</td>\n",
       "      <td>7.471041</td>\n",
       "      <td>4.664381</td>\n",
       "      <td>3.346698</td>\n",
       "    </tr>\n",
       "    <tr>\n",
       "      <th>min</th>\n",
       "      <td>0.000000</td>\n",
       "      <td>0.00000</td>\n",
       "      <td>0.000000e+00</td>\n",
       "      <td>0.000000</td>\n",
       "      <td>0.000000</td>\n",
       "      <td>0.000000</td>\n",
       "      <td>14.010000</td>\n",
       "      <td>1000.000000</td>\n",
       "      <td>3.000000</td>\n",
       "      <td>0.000000</td>\n",
       "      <td>0.000000</td>\n",
       "      <td>0.000000</td>\n",
       "      <td>0.000000</td>\n",
       "      <td>0.000000</td>\n",
       "      <td>0.000000</td>\n",
       "      <td>0.000000</td>\n",
       "      <td>0.000000</td>\n",
       "      <td>0.000000</td>\n",
       "      <td>0.000000</td>\n",
       "      <td>0.000000</td>\n",
       "    </tr>\n",
       "    <tr>\n",
       "      <th>25%</th>\n",
       "      <td>0.000000</td>\n",
       "      <td>2.00000</td>\n",
       "      <td>4.600000e+04</td>\n",
       "      <td>3199.000000</td>\n",
       "      <td>0.000000</td>\n",
       "      <td>0.000000</td>\n",
       "      <td>263.930000</td>\n",
       "      <td>8500.000000</td>\n",
       "      <td>120.000000</td>\n",
       "      <td>4.000000</td>\n",
       "      <td>3.000000</td>\n",
       "      <td>0.000000</td>\n",
       "      <td>0.000000</td>\n",
       "      <td>2.000000</td>\n",
       "      <td>3.000000</td>\n",
       "      <td>3.000000</td>\n",
       "      <td>5.000000</td>\n",
       "      <td>4.000000</td>\n",
       "      <td>5.000000</td>\n",
       "      <td>3.000000</td>\n",
       "    </tr>\n",
       "    <tr>\n",
       "      <th>50%</th>\n",
       "      <td>0.000000</td>\n",
       "      <td>4.00000</td>\n",
       "      <td>6.500000e+04</td>\n",
       "      <td>7262.000000</td>\n",
       "      <td>0.000000</td>\n",
       "      <td>0.000000</td>\n",
       "      <td>385.410000</td>\n",
       "      <td>14000.000000</td>\n",
       "      <td>170.000000</td>\n",
       "      <td>8.000000</td>\n",
       "      <td>5.000000</td>\n",
       "      <td>1.000000</td>\n",
       "      <td>0.000000</td>\n",
       "      <td>3.000000</td>\n",
       "      <td>5.000000</td>\n",
       "      <td>4.000000</td>\n",
       "      <td>7.000000</td>\n",
       "      <td>7.000000</td>\n",
       "      <td>8.000000</td>\n",
       "      <td>5.000000</td>\n",
       "    </tr>\n",
       "    <tr>\n",
       "      <th>75%</th>\n",
       "      <td>0.000000</td>\n",
       "      <td>6.00000</td>\n",
       "      <td>9.169050e+04</td>\n",
       "      <td>17974.500000</td>\n",
       "      <td>0.000000</td>\n",
       "      <td>1.000000</td>\n",
       "      <td>578.790000</td>\n",
       "      <td>20000.000000</td>\n",
       "      <td>237.000000</td>\n",
       "      <td>16.000000</td>\n",
       "      <td>10.000000</td>\n",
       "      <td>3.000000</td>\n",
       "      <td>0.000000</td>\n",
       "      <td>5.000000</td>\n",
       "      <td>7.000000</td>\n",
       "      <td>6.000000</td>\n",
       "      <td>11.000000</td>\n",
       "      <td>11.000000</td>\n",
       "      <td>11.000000</td>\n",
       "      <td>7.000000</td>\n",
       "    </tr>\n",
       "    <tr>\n",
       "      <th>max</th>\n",
       "      <td>14.000000</td>\n",
       "      <td>64.00000</td>\n",
       "      <td>9.500000e+06</td>\n",
       "      <td>555925.000000</td>\n",
       "      <td>39.000000</td>\n",
       "      <td>6.000000</td>\n",
       "      <td>1445.460000</td>\n",
       "      <td>35000.000000</td>\n",
       "      <td>851.000000</td>\n",
       "      <td>324.000000</td>\n",
       "      <td>263.000000</td>\n",
       "      <td>52.000000</td>\n",
       "      <td>39.000000</td>\n",
       "      <td>32.000000</td>\n",
       "      <td>52.000000</td>\n",
       "      <td>63.000000</td>\n",
       "      <td>70.000000</td>\n",
       "      <td>132.000000</td>\n",
       "      <td>83.000000</td>\n",
       "      <td>45.000000</td>\n",
       "    </tr>\n",
       "  </tbody>\n",
       "</table>\n",
       "</div>"
      ],
      "text/plain": [
       "       acc_now_delinq  acc_open_past_24mths    annual_inc    avg_cur_bal  \\\n",
       "count   421095.000000          421095.00000  4.210950e+05  421095.000000   \n",
       "mean         0.006087               4.66500  7.696561e+04   13104.784721   \n",
       "std          0.086482               3.19538  7.394996e+04   15671.803897   \n",
       "min          0.000000               0.00000  0.000000e+00       0.000000   \n",
       "25%          0.000000               2.00000  4.600000e+04    3199.000000   \n",
       "50%          0.000000               4.00000  6.500000e+04    7262.000000   \n",
       "75%          0.000000               6.00000  9.169050e+04   17974.500000   \n",
       "max         14.000000              64.00000  9.500000e+06  555925.000000   \n",
       "\n",
       "         delinq_2yrs  inq_last_6mths    installment      loan_amnt  \\\n",
       "count  421095.000000   421095.000000  421095.000000  421095.000000   \n",
       "mean        0.347397        0.572690     441.849432   15240.285862   \n",
       "std         0.927695        0.867776     244.849082    8571.325901   \n",
       "min         0.000000        0.000000      14.010000    1000.000000   \n",
       "25%         0.000000        0.000000     263.930000    8500.000000   \n",
       "50%         0.000000        0.000000     385.410000   14000.000000   \n",
       "75%         0.000000        1.000000     578.790000   20000.000000   \n",
       "max        39.000000        6.000000    1445.460000   35000.000000   \n",
       "\n",
       "       mo_sin_old_rev_tl_op  mo_sin_rcnt_rev_tl_op  mo_sin_rcnt_tl  \\\n",
       "count         421095.000000          421095.000000   421095.000000   \n",
       "mean             186.586697              13.451247        8.013204   \n",
       "std               95.374931              17.156985        9.189312   \n",
       "min                3.000000               0.000000        0.000000   \n",
       "25%              120.000000               4.000000        3.000000   \n",
       "50%              170.000000               8.000000        5.000000   \n",
       "75%              237.000000              16.000000       10.000000   \n",
       "max              851.000000             324.000000      263.000000   \n",
       "\n",
       "            mort_acc  num_accts_ever_120_pd  num_actv_bc_tl  num_actv_rev_tl  \\\n",
       "count  421095.000000          421095.000000   421095.000000    421095.000000   \n",
       "mean        1.685261               0.527054        3.740966         5.860832   \n",
       "std         1.990160               1.332797        2.304542         3.439764   \n",
       "min         0.000000               0.000000        0.000000         0.000000   \n",
       "25%         0.000000               0.000000        2.000000         3.000000   \n",
       "50%         1.000000               0.000000        3.000000         5.000000   \n",
       "75%         3.000000               0.000000        5.000000         7.000000   \n",
       "max        52.000000              39.000000       32.000000        52.000000   \n",
       "\n",
       "         num_bc_sats      num_bc_tl      num_il_tl  num_op_rev_tl  \\\n",
       "count  421095.000000  421095.000000  421095.000000  421095.000000   \n",
       "mean        4.799879       8.137138       8.649001       8.431786   \n",
       "std         3.036184       4.822698       7.471041       4.664381   \n",
       "min         0.000000       0.000000       0.000000       0.000000   \n",
       "25%         3.000000       5.000000       4.000000       5.000000   \n",
       "50%         4.000000       7.000000       7.000000       8.000000   \n",
       "75%         6.000000      11.000000      11.000000      11.000000   \n",
       "max        63.000000      70.000000     132.000000      83.000000   \n",
       "\n",
       "       num_rev_tl_bal_gt_0  \n",
       "count        421095.000000  \n",
       "mean              5.809238  \n",
       "std               3.346698  \n",
       "min               0.000000  \n",
       "25%               3.000000  \n",
       "50%               5.000000  \n",
       "75%               7.000000  \n",
       "max              45.000000  "
      ]
     },
     "execution_count": 60,
     "metadata": {},
     "output_type": "execute_result"
    }
   ],
   "source": [
    "data_drop1_numeric.iloc[:,:20].describe()"
   ]
  },
  {
   "cell_type": "code",
   "execution_count": 61,
   "metadata": {},
   "outputs": [
    {
     "data": {
      "text/html": [
       "<div>\n",
       "<style scoped>\n",
       "    .dataframe tbody tr th:only-of-type {\n",
       "        vertical-align: middle;\n",
       "    }\n",
       "\n",
       "    .dataframe tbody tr th {\n",
       "        vertical-align: top;\n",
       "    }\n",
       "\n",
       "    .dataframe thead th {\n",
       "        text-align: right;\n",
       "    }\n",
       "</style>\n",
       "<table border=\"1\" class=\"dataframe\">\n",
       "  <thead>\n",
       "    <tr style=\"text-align: right;\">\n",
       "      <th></th>\n",
       "      <th>num_sats</th>\n",
       "      <th>num_tl_30dpd</th>\n",
       "      <th>num_tl_90g_dpd_24m</th>\n",
       "      <th>num_tl_op_past_12m</th>\n",
       "      <th>open_acc</th>\n",
       "      <th>pct_tl_nvr_dlq</th>\n",
       "      <th>policy_code</th>\n",
       "      <th>pub_rec</th>\n",
       "      <th>pub_rec_bankruptcies</th>\n",
       "      <th>revol_bal</th>\n",
       "      <th>tax_liens</th>\n",
       "      <th>tot_cur_bal</th>\n",
       "      <th>tot_hi_cred_lim</th>\n",
       "      <th>total_acc</th>\n",
       "      <th>total_bal_ex_mort</th>\n",
       "      <th>total_bc_limit</th>\n",
       "      <th>total_il_high_credit_limit</th>\n",
       "      <th>total_rev_hi_lim</th>\n",
       "    </tr>\n",
       "  </thead>\n",
       "  <tbody>\n",
       "    <tr>\n",
       "      <th>count</th>\n",
       "      <td>421095.000000</td>\n",
       "      <td>421095.000000</td>\n",
       "      <td>421095.000000</td>\n",
       "      <td>421095.000000</td>\n",
       "      <td>421095.000000</td>\n",
       "      <td>421095.000000</td>\n",
       "      <td>421095.0</td>\n",
       "      <td>421095.000000</td>\n",
       "      <td>421095.000000</td>\n",
       "      <td>4.210950e+05</td>\n",
       "      <td>421095.000000</td>\n",
       "      <td>4.210950e+05</td>\n",
       "      <td>4.210950e+05</td>\n",
       "      <td>421095.000000</td>\n",
       "      <td>4.210950e+05</td>\n",
       "      <td>421095.000000</td>\n",
       "      <td>4.210950e+05</td>\n",
       "      <td>4.210950e+05</td>\n",
       "    </tr>\n",
       "    <tr>\n",
       "      <th>mean</th>\n",
       "      <td>11.894537</td>\n",
       "      <td>0.004042</td>\n",
       "      <td>0.094318</td>\n",
       "      <td>2.170947</td>\n",
       "      <td>11.948643</td>\n",
       "      <td>93.924313</td>\n",
       "      <td>1.0</td>\n",
       "      <td>0.233776</td>\n",
       "      <td>0.133188</td>\n",
       "      <td>1.768548e+04</td>\n",
       "      <td>0.064556</td>\n",
       "      <td>1.400755e+05</td>\n",
       "      <td>1.734070e+05</td>\n",
       "      <td>25.493468</td>\n",
       "      <td>5.222199e+04</td>\n",
       "      <td>21958.208958</td>\n",
       "      <td>4.347865e+04</td>\n",
       "      <td>3.365771e+04</td>\n",
       "    </tr>\n",
       "    <tr>\n",
       "      <th>std</th>\n",
       "      <td>5.615119</td>\n",
       "      <td>0.067965</td>\n",
       "      <td>0.522758</td>\n",
       "      <td>1.853858</td>\n",
       "      <td>5.633119</td>\n",
       "      <td>8.875399</td>\n",
       "      <td>0.0</td>\n",
       "      <td>0.649778</td>\n",
       "      <td>0.385975</td>\n",
       "      <td>2.419503e+04</td>\n",
       "      <td>0.444231</td>\n",
       "      <td>1.552696e+05</td>\n",
       "      <td>1.756722e+05</td>\n",
       "      <td>12.097200</td>\n",
       "      <td>4.907494e+04</td>\n",
       "      <td>21840.371112</td>\n",
       "      <td>4.394271e+04</td>\n",
       "      <td>3.766404e+04</td>\n",
       "    </tr>\n",
       "    <tr>\n",
       "      <th>min</th>\n",
       "      <td>0.000000</td>\n",
       "      <td>0.000000</td>\n",
       "      <td>0.000000</td>\n",
       "      <td>0.000000</td>\n",
       "      <td>1.000000</td>\n",
       "      <td>0.000000</td>\n",
       "      <td>1.0</td>\n",
       "      <td>0.000000</td>\n",
       "      <td>0.000000</td>\n",
       "      <td>0.000000e+00</td>\n",
       "      <td>0.000000</td>\n",
       "      <td>0.000000e+00</td>\n",
       "      <td>2.500000e+03</td>\n",
       "      <td>4.000000</td>\n",
       "      <td>0.000000e+00</td>\n",
       "      <td>0.000000</td>\n",
       "      <td>0.000000e+00</td>\n",
       "      <td>0.000000e+00</td>\n",
       "    </tr>\n",
       "    <tr>\n",
       "      <th>25%</th>\n",
       "      <td>8.000000</td>\n",
       "      <td>0.000000</td>\n",
       "      <td>0.000000</td>\n",
       "      <td>1.000000</td>\n",
       "      <td>8.000000</td>\n",
       "      <td>90.900000</td>\n",
       "      <td>1.0</td>\n",
       "      <td>0.000000</td>\n",
       "      <td>0.000000</td>\n",
       "      <td>6.480000e+03</td>\n",
       "      <td>0.000000</td>\n",
       "      <td>3.103900e+04</td>\n",
       "      <td>5.090900e+04</td>\n",
       "      <td>17.000000</td>\n",
       "      <td>2.259850e+04</td>\n",
       "      <td>7800.000000</td>\n",
       "      <td>1.548150e+04</td>\n",
       "      <td>1.440000e+04</td>\n",
       "    </tr>\n",
       "    <tr>\n",
       "      <th>50%</th>\n",
       "      <td>11.000000</td>\n",
       "      <td>0.000000</td>\n",
       "      <td>0.000000</td>\n",
       "      <td>2.000000</td>\n",
       "      <td>11.000000</td>\n",
       "      <td>97.400000</td>\n",
       "      <td>1.0</td>\n",
       "      <td>0.000000</td>\n",
       "      <td>0.000000</td>\n",
       "      <td>1.199600e+04</td>\n",
       "      <td>0.000000</td>\n",
       "      <td>7.972900e+04</td>\n",
       "      <td>1.114050e+05</td>\n",
       "      <td>24.000000</td>\n",
       "      <td>3.959600e+04</td>\n",
       "      <td>15200.000000</td>\n",
       "      <td>3.297000e+04</td>\n",
       "      <td>2.460000e+04</td>\n",
       "    </tr>\n",
       "    <tr>\n",
       "      <th>75%</th>\n",
       "      <td>15.000000</td>\n",
       "      <td>0.000000</td>\n",
       "      <td>0.000000</td>\n",
       "      <td>3.000000</td>\n",
       "      <td>15.000000</td>\n",
       "      <td>100.000000</td>\n",
       "      <td>1.0</td>\n",
       "      <td>0.000000</td>\n",
       "      <td>0.000000</td>\n",
       "      <td>2.142800e+04</td>\n",
       "      <td>0.000000</td>\n",
       "      <td>2.074750e+05</td>\n",
       "      <td>2.496290e+05</td>\n",
       "      <td>32.000000</td>\n",
       "      <td>6.565100e+04</td>\n",
       "      <td>28600.000000</td>\n",
       "      <td>5.829900e+04</td>\n",
       "      <td>4.168850e+04</td>\n",
       "    </tr>\n",
       "    <tr>\n",
       "      <th>max</th>\n",
       "      <td>90.000000</td>\n",
       "      <td>4.000000</td>\n",
       "      <td>39.000000</td>\n",
       "      <td>30.000000</td>\n",
       "      <td>90.000000</td>\n",
       "      <td>100.000000</td>\n",
       "      <td>1.0</td>\n",
       "      <td>86.000000</td>\n",
       "      <td>11.000000</td>\n",
       "      <td>2.904836e+06</td>\n",
       "      <td>85.000000</td>\n",
       "      <td>4.447397e+06</td>\n",
       "      <td>9.999999e+06</td>\n",
       "      <td>169.000000</td>\n",
       "      <td>2.921551e+06</td>\n",
       "      <td>834300.000000</td>\n",
       "      <td>2.101913e+06</td>\n",
       "      <td>9.999999e+06</td>\n",
       "    </tr>\n",
       "  </tbody>\n",
       "</table>\n",
       "</div>"
      ],
      "text/plain": [
       "            num_sats   num_tl_30dpd  num_tl_90g_dpd_24m  num_tl_op_past_12m  \\\n",
       "count  421095.000000  421095.000000       421095.000000       421095.000000   \n",
       "mean       11.894537       0.004042            0.094318            2.170947   \n",
       "std         5.615119       0.067965            0.522758            1.853858   \n",
       "min         0.000000       0.000000            0.000000            0.000000   \n",
       "25%         8.000000       0.000000            0.000000            1.000000   \n",
       "50%        11.000000       0.000000            0.000000            2.000000   \n",
       "75%        15.000000       0.000000            0.000000            3.000000   \n",
       "max        90.000000       4.000000           39.000000           30.000000   \n",
       "\n",
       "            open_acc  pct_tl_nvr_dlq  policy_code        pub_rec  \\\n",
       "count  421095.000000   421095.000000     421095.0  421095.000000   \n",
       "mean       11.948643       93.924313          1.0       0.233776   \n",
       "std         5.633119        8.875399          0.0       0.649778   \n",
       "min         1.000000        0.000000          1.0       0.000000   \n",
       "25%         8.000000       90.900000          1.0       0.000000   \n",
       "50%        11.000000       97.400000          1.0       0.000000   \n",
       "75%        15.000000      100.000000          1.0       0.000000   \n",
       "max        90.000000      100.000000          1.0      86.000000   \n",
       "\n",
       "       pub_rec_bankruptcies     revol_bal      tax_liens   tot_cur_bal  \\\n",
       "count         421095.000000  4.210950e+05  421095.000000  4.210950e+05   \n",
       "mean               0.133188  1.768548e+04       0.064556  1.400755e+05   \n",
       "std                0.385975  2.419503e+04       0.444231  1.552696e+05   \n",
       "min                0.000000  0.000000e+00       0.000000  0.000000e+00   \n",
       "25%                0.000000  6.480000e+03       0.000000  3.103900e+04   \n",
       "50%                0.000000  1.199600e+04       0.000000  7.972900e+04   \n",
       "75%                0.000000  2.142800e+04       0.000000  2.074750e+05   \n",
       "max               11.000000  2.904836e+06      85.000000  4.447397e+06   \n",
       "\n",
       "       tot_hi_cred_lim      total_acc  total_bal_ex_mort  total_bc_limit  \\\n",
       "count     4.210950e+05  421095.000000       4.210950e+05   421095.000000   \n",
       "mean      1.734070e+05      25.493468       5.222199e+04    21958.208958   \n",
       "std       1.756722e+05      12.097200       4.907494e+04    21840.371112   \n",
       "min       2.500000e+03       4.000000       0.000000e+00        0.000000   \n",
       "25%       5.090900e+04      17.000000       2.259850e+04     7800.000000   \n",
       "50%       1.114050e+05      24.000000       3.959600e+04    15200.000000   \n",
       "75%       2.496290e+05      32.000000       6.565100e+04    28600.000000   \n",
       "max       9.999999e+06     169.000000       2.921551e+06   834300.000000   \n",
       "\n",
       "       total_il_high_credit_limit  total_rev_hi_lim  \n",
       "count                4.210950e+05      4.210950e+05  \n",
       "mean                 4.347865e+04      3.365771e+04  \n",
       "std                  4.394271e+04      3.766404e+04  \n",
       "min                  0.000000e+00      0.000000e+00  \n",
       "25%                  1.548150e+04      1.440000e+04  \n",
       "50%                  3.297000e+04      2.460000e+04  \n",
       "75%                  5.829900e+04      4.168850e+04  \n",
       "max                  2.101913e+06      9.999999e+06  "
      ]
     },
     "execution_count": 61,
     "metadata": {},
     "output_type": "execute_result"
    }
   ],
   "source": [
    "data_drop1_numeric.iloc[:,20:].describe()"
   ]
  },
  {
   "cell_type": "code",
   "execution_count": 62,
   "metadata": {},
   "outputs": [
    {
     "data": {
      "text/html": [
       "<div>\n",
       "<style scoped>\n",
       "    .dataframe tbody tr th:only-of-type {\n",
       "        vertical-align: middle;\n",
       "    }\n",
       "\n",
       "    .dataframe tbody tr th {\n",
       "        vertical-align: top;\n",
       "    }\n",
       "\n",
       "    .dataframe thead th {\n",
       "        text-align: right;\n",
       "    }\n",
       "</style>\n",
       "<table border=\"1\" class=\"dataframe\">\n",
       "  <thead>\n",
       "    <tr style=\"text-align: right;\">\n",
       "      <th></th>\n",
       "      <th>acc_now_delinq</th>\n",
       "      <th>acc_open_past_24mths</th>\n",
       "      <th>annual_inc</th>\n",
       "      <th>avg_cur_bal</th>\n",
       "      <th>delinq_2yrs</th>\n",
       "      <th>inq_last_6mths</th>\n",
       "      <th>installment</th>\n",
       "      <th>loan_amnt</th>\n",
       "      <th>mo_sin_old_rev_tl_op</th>\n",
       "      <th>mo_sin_rcnt_rev_tl_op</th>\n",
       "      <th>...</th>\n",
       "      <th>pub_rec_bankruptcies</th>\n",
       "      <th>revol_bal</th>\n",
       "      <th>tax_liens</th>\n",
       "      <th>tot_cur_bal</th>\n",
       "      <th>tot_hi_cred_lim</th>\n",
       "      <th>total_acc</th>\n",
       "      <th>total_bal_ex_mort</th>\n",
       "      <th>total_bc_limit</th>\n",
       "      <th>total_il_high_credit_limit</th>\n",
       "      <th>total_rev_hi_lim</th>\n",
       "    </tr>\n",
       "  </thead>\n",
       "  <tbody>\n",
       "    <tr>\n",
       "      <th>68370</th>\n",
       "      <td>0.0</td>\n",
       "      <td>6.0</td>\n",
       "      <td>38000.0</td>\n",
       "      <td>4723.0</td>\n",
       "      <td>0.0</td>\n",
       "      <td>3.0</td>\n",
       "      <td>216.2</td>\n",
       "      <td>6400.0</td>\n",
       "      <td>81.0</td>\n",
       "      <td>3.0</td>\n",
       "      <td>...</td>\n",
       "      <td>1.0</td>\n",
       "      <td>7788.0</td>\n",
       "      <td>85.0</td>\n",
       "      <td>61402.0</td>\n",
       "      <td>72880.0</td>\n",
       "      <td>19.0</td>\n",
       "      <td>61402.0</td>\n",
       "      <td>3700.0</td>\n",
       "      <td>62980.0</td>\n",
       "      <td>9900.0</td>\n",
       "    </tr>\n",
       "  </tbody>\n",
       "</table>\n",
       "<p>1 rows × 38 columns</p>\n",
       "</div>"
      ],
      "text/plain": [
       "       acc_now_delinq  acc_open_past_24mths  annual_inc  avg_cur_bal  \\\n",
       "68370             0.0                   6.0     38000.0       4723.0   \n",
       "\n",
       "       delinq_2yrs  inq_last_6mths  installment  loan_amnt  \\\n",
       "68370          0.0             3.0        216.2     6400.0   \n",
       "\n",
       "       mo_sin_old_rev_tl_op  mo_sin_rcnt_rev_tl_op        ...         \\\n",
       "68370                  81.0                    3.0        ...          \n",
       "\n",
       "       pub_rec_bankruptcies  revol_bal  tax_liens  tot_cur_bal  \\\n",
       "68370                   1.0     7788.0       85.0      61402.0   \n",
       "\n",
       "       tot_hi_cred_lim  total_acc  total_bal_ex_mort  total_bc_limit  \\\n",
       "68370          72880.0       19.0            61402.0          3700.0   \n",
       "\n",
       "       total_il_high_credit_limit  total_rev_hi_lim  \n",
       "68370                     62980.0            9900.0  \n",
       "\n",
       "[1 rows x 38 columns]"
      ]
     },
     "execution_count": 62,
     "metadata": {},
     "output_type": "execute_result"
    }
   ],
   "source": [
    "data_drop1_numeric[data_drop1_numeric['pub_rec']==86]"
   ]
  },
  {
   "cell_type": "markdown",
   "metadata": {},
   "source": [
    "### There are quite a number of columns with max value significantly larger than the 75% quantile, suggesting possible outlier/wrong values. \n",
    "\n",
    "### Among them, I found one record with both pub_rec and tax_liens being extremely large values. I dedice to delete this record.\n",
    "\n",
    "### For other records with possible extreme values, I decide to take no action as there's no evidence to prove that they are wrong records. "
   ]
  },
  {
   "cell_type": "code",
   "execution_count": 63,
   "metadata": {},
   "outputs": [
    {
     "name": "stdout",
     "output_type": "stream",
     "text": [
      "1.0    421095\n",
      "Name: policy_code, dtype: int64\n"
     ]
    }
   ],
   "source": [
    "print(data_drop1['policy_code'].value_counts())\n",
    "data_drop1_numeric = data_drop1_numeric.drop('policy_code', axis=1)"
   ]
  },
  {
   "cell_type": "markdown",
   "metadata": {},
   "source": [
    "### Policy code is a nominal value, and only has one value. It can be dropped. "
   ]
  },
  {
   "cell_type": "code",
   "execution_count": 64,
   "metadata": {},
   "outputs": [
    {
     "name": "stdout",
     "output_type": "stream",
     "text": [
      "(421095, 109)\n",
      "(421094, 109)\n"
     ]
    }
   ],
   "source": [
    "# Concatenate the dummy category columns and the remaining numeric columns, then remove the one record with wrong pub_rec and tax_liens \n",
    "data_drop2 = pd.concat([data_drop1_cat_dummy, data_drop1_numeric], axis=1)\n",
    "print(data_drop2.shape)\n",
    "data_drop2 = data_drop2[data_drop2['pub_rec']!=86]\n",
    "print(data_drop2.shape)"
   ]
  },
  {
   "cell_type": "markdown",
   "metadata": {},
   "source": [
    "### Rescale all the numeric columns using (x-min)/(max-min)"
   ]
  },
  {
   "cell_type": "code",
   "execution_count": 65,
   "metadata": {},
   "outputs": [],
   "source": [
    "data_drop2_rescale = (data_drop2 - np.min(data_drop2))/(np.max(data_drop2) - np.min(data_drop2))"
   ]
  },
  {
   "cell_type": "code",
   "execution_count": 66,
   "metadata": {},
   "outputs": [
    {
     "data": {
      "text/html": [
       "<div>\n",
       "<style scoped>\n",
       "    .dataframe tbody tr th:only-of-type {\n",
       "        vertical-align: middle;\n",
       "    }\n",
       "\n",
       "    .dataframe tbody tr th {\n",
       "        vertical-align: top;\n",
       "    }\n",
       "\n",
       "    .dataframe thead th {\n",
       "        text-align: right;\n",
       "    }\n",
       "</style>\n",
       "<table border=\"1\" class=\"dataframe\">\n",
       "  <thead>\n",
       "    <tr style=\"text-align: right;\">\n",
       "      <th></th>\n",
       "      <th>addr_state_AK</th>\n",
       "      <th>addr_state_AL</th>\n",
       "      <th>addr_state_AR</th>\n",
       "      <th>addr_state_AZ</th>\n",
       "      <th>addr_state_CA</th>\n",
       "      <th>addr_state_CO</th>\n",
       "      <th>addr_state_CT</th>\n",
       "      <th>addr_state_DC</th>\n",
       "      <th>addr_state_DE</th>\n",
       "      <th>addr_state_FL</th>\n",
       "      <th>...</th>\n",
       "      <th>pub_rec_bankruptcies</th>\n",
       "      <th>revol_bal</th>\n",
       "      <th>tax_liens</th>\n",
       "      <th>tot_cur_bal</th>\n",
       "      <th>tot_hi_cred_lim</th>\n",
       "      <th>total_acc</th>\n",
       "      <th>total_bal_ex_mort</th>\n",
       "      <th>total_bc_limit</th>\n",
       "      <th>total_il_high_credit_limit</th>\n",
       "      <th>total_rev_hi_lim</th>\n",
       "    </tr>\n",
       "  </thead>\n",
       "  <tbody>\n",
       "    <tr>\n",
       "      <th>count</th>\n",
       "      <td>421094.000000</td>\n",
       "      <td>421094.000000</td>\n",
       "      <td>421094.000000</td>\n",
       "      <td>421094.000000</td>\n",
       "      <td>421094.000000</td>\n",
       "      <td>421094.000000</td>\n",
       "      <td>421094.000000</td>\n",
       "      <td>421094.000000</td>\n",
       "      <td>421094.000000</td>\n",
       "      <td>421094.000000</td>\n",
       "      <td>...</td>\n",
       "      <td>421094.000000</td>\n",
       "      <td>421094.000000</td>\n",
       "      <td>421094.000000</td>\n",
       "      <td>421094.000000</td>\n",
       "      <td>421094.000000</td>\n",
       "      <td>421094.000000</td>\n",
       "      <td>421094.000000</td>\n",
       "      <td>421094.000000</td>\n",
       "      <td>421094.000000</td>\n",
       "      <td>421094.000000</td>\n",
       "    </tr>\n",
       "    <tr>\n",
       "      <th>mean</th>\n",
       "      <td>0.002266</td>\n",
       "      <td>0.012698</td>\n",
       "      <td>0.007485</td>\n",
       "      <td>0.023035</td>\n",
       "      <td>0.137896</td>\n",
       "      <td>0.021534</td>\n",
       "      <td>0.015025</td>\n",
       "      <td>0.002389</td>\n",
       "      <td>0.002942</td>\n",
       "      <td>0.069576</td>\n",
       "      <td>...</td>\n",
       "      <td>0.012108</td>\n",
       "      <td>0.006088</td>\n",
       "      <td>0.001399</td>\n",
       "      <td>0.031496</td>\n",
       "      <td>0.017095</td>\n",
       "      <td>0.130264</td>\n",
       "      <td>0.017875</td>\n",
       "      <td>0.026319</td>\n",
       "      <td>0.020685</td>\n",
       "      <td>0.003366</td>\n",
       "    </tr>\n",
       "    <tr>\n",
       "      <th>std</th>\n",
       "      <td>0.047544</td>\n",
       "      <td>0.111967</td>\n",
       "      <td>0.086193</td>\n",
       "      <td>0.150016</td>\n",
       "      <td>0.344791</td>\n",
       "      <td>0.145158</td>\n",
       "      <td>0.121653</td>\n",
       "      <td>0.048819</td>\n",
       "      <td>0.054164</td>\n",
       "      <td>0.254431</td>\n",
       "      <td>...</td>\n",
       "      <td>0.035088</td>\n",
       "      <td>0.008329</td>\n",
       "      <td>0.009229</td>\n",
       "      <td>0.034912</td>\n",
       "      <td>0.017572</td>\n",
       "      <td>0.073316</td>\n",
       "      <td>0.016798</td>\n",
       "      <td>0.026178</td>\n",
       "      <td>0.020906</td>\n",
       "      <td>0.003766</td>\n",
       "    </tr>\n",
       "    <tr>\n",
       "      <th>min</th>\n",
       "      <td>0.000000</td>\n",
       "      <td>0.000000</td>\n",
       "      <td>0.000000</td>\n",
       "      <td>0.000000</td>\n",
       "      <td>0.000000</td>\n",
       "      <td>0.000000</td>\n",
       "      <td>0.000000</td>\n",
       "      <td>0.000000</td>\n",
       "      <td>0.000000</td>\n",
       "      <td>0.000000</td>\n",
       "      <td>...</td>\n",
       "      <td>0.000000</td>\n",
       "      <td>0.000000</td>\n",
       "      <td>0.000000</td>\n",
       "      <td>0.000000</td>\n",
       "      <td>0.000000</td>\n",
       "      <td>0.000000</td>\n",
       "      <td>0.000000</td>\n",
       "      <td>0.000000</td>\n",
       "      <td>0.000000</td>\n",
       "      <td>0.000000</td>\n",
       "    </tr>\n",
       "    <tr>\n",
       "      <th>25%</th>\n",
       "      <td>0.000000</td>\n",
       "      <td>0.000000</td>\n",
       "      <td>0.000000</td>\n",
       "      <td>0.000000</td>\n",
       "      <td>0.000000</td>\n",
       "      <td>0.000000</td>\n",
       "      <td>0.000000</td>\n",
       "      <td>0.000000</td>\n",
       "      <td>0.000000</td>\n",
       "      <td>0.000000</td>\n",
       "      <td>...</td>\n",
       "      <td>0.000000</td>\n",
       "      <td>0.002231</td>\n",
       "      <td>0.000000</td>\n",
       "      <td>0.006979</td>\n",
       "      <td>0.004842</td>\n",
       "      <td>0.078788</td>\n",
       "      <td>0.007735</td>\n",
       "      <td>0.009349</td>\n",
       "      <td>0.007365</td>\n",
       "      <td>0.001440</td>\n",
       "    </tr>\n",
       "    <tr>\n",
       "      <th>50%</th>\n",
       "      <td>0.000000</td>\n",
       "      <td>0.000000</td>\n",
       "      <td>0.000000</td>\n",
       "      <td>0.000000</td>\n",
       "      <td>0.000000</td>\n",
       "      <td>0.000000</td>\n",
       "      <td>0.000000</td>\n",
       "      <td>0.000000</td>\n",
       "      <td>0.000000</td>\n",
       "      <td>0.000000</td>\n",
       "      <td>...</td>\n",
       "      <td>0.000000</td>\n",
       "      <td>0.004130</td>\n",
       "      <td>0.000000</td>\n",
       "      <td>0.017927</td>\n",
       "      <td>0.010893</td>\n",
       "      <td>0.121212</td>\n",
       "      <td>0.013553</td>\n",
       "      <td>0.018219</td>\n",
       "      <td>0.015685</td>\n",
       "      <td>0.002460</td>\n",
       "    </tr>\n",
       "    <tr>\n",
       "      <th>75%</th>\n",
       "      <td>0.000000</td>\n",
       "      <td>0.000000</td>\n",
       "      <td>0.000000</td>\n",
       "      <td>0.000000</td>\n",
       "      <td>0.000000</td>\n",
       "      <td>0.000000</td>\n",
       "      <td>0.000000</td>\n",
       "      <td>0.000000</td>\n",
       "      <td>0.000000</td>\n",
       "      <td>0.000000</td>\n",
       "      <td>...</td>\n",
       "      <td>0.000000</td>\n",
       "      <td>0.007377</td>\n",
       "      <td>0.000000</td>\n",
       "      <td>0.046651</td>\n",
       "      <td>0.024719</td>\n",
       "      <td>0.169697</td>\n",
       "      <td>0.022471</td>\n",
       "      <td>0.034280</td>\n",
       "      <td>0.027736</td>\n",
       "      <td>0.004169</td>\n",
       "    </tr>\n",
       "    <tr>\n",
       "      <th>max</th>\n",
       "      <td>1.000000</td>\n",
       "      <td>1.000000</td>\n",
       "      <td>1.000000</td>\n",
       "      <td>1.000000</td>\n",
       "      <td>1.000000</td>\n",
       "      <td>1.000000</td>\n",
       "      <td>1.000000</td>\n",
       "      <td>1.000000</td>\n",
       "      <td>1.000000</td>\n",
       "      <td>1.000000</td>\n",
       "      <td>...</td>\n",
       "      <td>1.000000</td>\n",
       "      <td>1.000000</td>\n",
       "      <td>1.000000</td>\n",
       "      <td>1.000000</td>\n",
       "      <td>1.000000</td>\n",
       "      <td>1.000000</td>\n",
       "      <td>1.000000</td>\n",
       "      <td>1.000000</td>\n",
       "      <td>1.000000</td>\n",
       "      <td>1.000000</td>\n",
       "    </tr>\n",
       "  </tbody>\n",
       "</table>\n",
       "<p>8 rows × 109 columns</p>\n",
       "</div>"
      ],
      "text/plain": [
       "       addr_state_AK  addr_state_AL  addr_state_AR  addr_state_AZ  \\\n",
       "count  421094.000000  421094.000000  421094.000000  421094.000000   \n",
       "mean        0.002266       0.012698       0.007485       0.023035   \n",
       "std         0.047544       0.111967       0.086193       0.150016   \n",
       "min         0.000000       0.000000       0.000000       0.000000   \n",
       "25%         0.000000       0.000000       0.000000       0.000000   \n",
       "50%         0.000000       0.000000       0.000000       0.000000   \n",
       "75%         0.000000       0.000000       0.000000       0.000000   \n",
       "max         1.000000       1.000000       1.000000       1.000000   \n",
       "\n",
       "       addr_state_CA  addr_state_CO  addr_state_CT  addr_state_DC  \\\n",
       "count  421094.000000  421094.000000  421094.000000  421094.000000   \n",
       "mean        0.137896       0.021534       0.015025       0.002389   \n",
       "std         0.344791       0.145158       0.121653       0.048819   \n",
       "min         0.000000       0.000000       0.000000       0.000000   \n",
       "25%         0.000000       0.000000       0.000000       0.000000   \n",
       "50%         0.000000       0.000000       0.000000       0.000000   \n",
       "75%         0.000000       0.000000       0.000000       0.000000   \n",
       "max         1.000000       1.000000       1.000000       1.000000   \n",
       "\n",
       "       addr_state_DE  addr_state_FL        ...         pub_rec_bankruptcies  \\\n",
       "count  421094.000000  421094.000000        ...                421094.000000   \n",
       "mean        0.002942       0.069576        ...                     0.012108   \n",
       "std         0.054164       0.254431        ...                     0.035088   \n",
       "min         0.000000       0.000000        ...                     0.000000   \n",
       "25%         0.000000       0.000000        ...                     0.000000   \n",
       "50%         0.000000       0.000000        ...                     0.000000   \n",
       "75%         0.000000       0.000000        ...                     0.000000   \n",
       "max         1.000000       1.000000        ...                     1.000000   \n",
       "\n",
       "           revol_bal      tax_liens    tot_cur_bal  tot_hi_cred_lim  \\\n",
       "count  421094.000000  421094.000000  421094.000000    421094.000000   \n",
       "mean        0.006088       0.001399       0.031496         0.017095   \n",
       "std         0.008329       0.009229       0.034912         0.017572   \n",
       "min         0.000000       0.000000       0.000000         0.000000   \n",
       "25%         0.002231       0.000000       0.006979         0.004842   \n",
       "50%         0.004130       0.000000       0.017927         0.010893   \n",
       "75%         0.007377       0.000000       0.046651         0.024719   \n",
       "max         1.000000       1.000000       1.000000         1.000000   \n",
       "\n",
       "           total_acc  total_bal_ex_mort  total_bc_limit  \\\n",
       "count  421094.000000      421094.000000   421094.000000   \n",
       "mean        0.130264           0.017875        0.026319   \n",
       "std         0.073316           0.016798        0.026178   \n",
       "min         0.000000           0.000000        0.000000   \n",
       "25%         0.078788           0.007735        0.009349   \n",
       "50%         0.121212           0.013553        0.018219   \n",
       "75%         0.169697           0.022471        0.034280   \n",
       "max         1.000000           1.000000        1.000000   \n",
       "\n",
       "       total_il_high_credit_limit  total_rev_hi_lim  \n",
       "count               421094.000000     421094.000000  \n",
       "mean                     0.020685          0.003366  \n",
       "std                      0.020906          0.003766  \n",
       "min                      0.000000          0.000000  \n",
       "25%                      0.007365          0.001440  \n",
       "50%                      0.015685          0.002460  \n",
       "75%                      0.027736          0.004169  \n",
       "max                      1.000000          1.000000  \n",
       "\n",
       "[8 rows x 109 columns]"
      ]
     },
     "execution_count": 66,
     "metadata": {},
     "output_type": "execute_result"
    }
   ],
   "source": [
    "data_drop2_rescale.describe()"
   ]
  },
  {
   "cell_type": "markdown",
   "metadata": {},
   "source": [
    "### Create the target column default (1) or not (0)"
   ]
  },
  {
   "cell_type": "code",
   "execution_count": 67,
   "metadata": {},
   "outputs": [],
   "source": [
    "# Create another column 'default', with value 1 meaning default, and 0 meaning paid off\n",
    "mapping_status = {'Fully Paid': 0, 'Charged Off': 1} \n",
    "data_drop2_rescale['default'] = data_drop1[data_drop1['pub_rec']!=86]['loan_status'].map(mapping_status)\n",
    "data_drop2_rescale.dropna(axis=0, inplace=True)"
   ]
  },
  {
   "cell_type": "code",
   "execution_count": 68,
   "metadata": {},
   "outputs": [
    {
     "data": {
      "text/plain": [
       "(260658, 110)"
      ]
     },
     "execution_count": 68,
     "metadata": {},
     "output_type": "execute_result"
    }
   ],
   "source": [
    "data_drop2_rescale.shape"
   ]
  },
  {
   "cell_type": "markdown",
   "metadata": {},
   "source": [
    "### Now we have the cleaned DataFrame data_drop2_rescale, including 109 feature columns, and 1 target column"
   ]
  },
  {
   "cell_type": "markdown",
   "metadata": {},
   "source": [
    "## 3.2. Modeling: \n",
    "\n",
    "### Class imbalance in the target, much more 0 (paid off) than 1 (default). We can try \n",
    "1. Add class weight to punish the misclassification of minority class (1)\n",
    "2. Use stratified sampling when we split train-test, and K-Fold cross validation. (StratifiedKfold option in most of the models)\n",
    "3. Choose appropriate error metrics, such as precision, recall, F1 score, etc.\n",
    "\n",
    "### For modeling algorithms, we can try \n",
    "1. Logistic Regression\n",
    "2. Decision Tree/Random Forest\n",
    "3. Neural Networks"
   ]
  },
  {
   "cell_type": "markdown",
   "metadata": {},
   "source": [
    "### 3.2.1. Use RFECV (recursive feature elimination with cross-validation) to select the important features"
   ]
  },
  {
   "cell_type": "code",
   "execution_count": 69,
   "metadata": {},
   "outputs": [
    {
     "name": "stdout",
     "output_type": "stream",
     "text": [
      "Index(['term_ 60 months', 'acc_open_past_24mths', 'annual_inc', 'avg_cur_bal',\n",
      "       'delinq_2yrs', 'installment', 'loan_amnt', 'mort_acc', 'num_op_rev_tl',\n",
      "       'num_rev_tl_bal_gt_0', 'revol_bal', 'tot_hi_cred_lim', 'total_acc',\n",
      "       'total_bal_ex_mort', 'total_bc_limit', 'total_rev_hi_lim'],\n",
      "      dtype='object')\n"
     ]
    }
   ],
   "source": [
    "# Use automated method RFECV to select the best features for prediction \n",
    "from sklearn.linear_model import LogisticRegression \n",
    "from sklearn.feature_selection import RFECV\n",
    "\n",
    "lr = LogisticRegression(class_weight='balanced')\n",
    "selector = RFECV(lr, cv=10)\n",
    "X = data_drop2_rescale.iloc[:,:-1]\n",
    "y = data_drop2_rescale.iloc[:,-1]\n",
    "selector.fit(X, y)\n",
    "optimized_cols = X.columns[selector.support_]\n",
    "print(optimized_cols)"
   ]
  },
  {
   "cell_type": "code",
   "execution_count": 70,
   "metadata": {},
   "outputs": [
    {
     "data": {
      "image/png": "[encoded data removed]",
      "text/plain": [
       "<Figure size 792x648 with 2 Axes>"
      ]
     },
     "metadata": {},
     "output_type": "display_data"
    }
   ],
   "source": [
    "# Plot heatmap of the optimized columns: correlations with target\n",
    "\n",
    "import seaborn as sns\n",
    "def plot_correlation_heatmap(df):\n",
    "    corr = df.corr()\n",
    "    \n",
    "    sns.set(style=\"white\")\n",
    "    mask = np.zeros_like(corr, dtype=np.bool)\n",
    "    mask[np.triu_indices_from(mask)] = True\n",
    "\n",
    "    f, ax = plt.subplots(figsize=(11, 9))\n",
    "    cmap = sns.diverging_palette(220, 10, as_cmap=True)\n",
    "\n",
    "\n",
    "    sns.heatmap(corr, mask=mask, cmap=cmap, vmax=.3, center=0,\n",
    "            square=True, linewidths=.5, cbar_kws={\"shrink\": .5})\n",
    "    plt.show()\n",
    "    \n",
    "plot_correlation_heatmap(pd.concat([X[optimized_cols], y], axis=1))"
   ]
  },
  {
   "cell_type": "markdown",
   "metadata": {},
   "source": [
    "### Observations:\n",
    "By using RFECV feature selection methods, we can narrow down to 16 feature columns from the origional 109."
   ]
  },
  {
   "cell_type": "markdown",
   "metadata": {},
   "source": [
    "### 3.2.2. Logistic Regression \n",
    "\n",
    "### 3.2.2.1. Use 16 optimized features, and 80-20 train-test split\n"
   ]
  },
  {
   "cell_type": "code",
   "execution_count": 71,
   "metadata": {},
   "outputs": [
    {
     "name": "stdout",
     "output_type": "stream",
     "text": [
      "accuracy = 0.6753, f1_score = 0.4744, precision = 0.3947, recall = 0.5944, auc = 0.6481\n"
     ]
    }
   ],
   "source": [
    "# Use a simple 80-20 train-test split.  \n",
    "\n",
    "from sklearn.model_selection import train_test_split\n",
    "from sklearn.linear_model import LogisticRegression \n",
    "\n",
    "train_X, test_X, train_y, test_y = train_test_split(X, y, test_size=0.2, random_state=0)\n",
    "lr = LogisticRegression(class_weight='balanced')\n",
    "lr.fit(train_X[optimized_cols], train_y)\n",
    "test_pred = lr.predict(test_X[optimized_cols])\n",
    "\n",
    "from sklearn.metrics import accuracy_score, auc, f1_score, precision_score, recall_score, roc_auc_score\n",
    "\n",
    "accuracy = round(accuracy_score(test_y, test_pred),4)\n",
    "f1 = round(f1_score(test_y, test_pred),4)\n",
    "precision = round(precision_score(test_y, test_pred),4)\n",
    "recall = round(recall_score(test_y, test_pred),4)\n",
    "auc = round(roc_auc_score(test_y, test_pred), 4)\n",
    "\n",
    "print('accuracy = {}, f1_score = {}, precision = {}, recall = {}, auc = {}'.format(accuracy, f1, precision, recall, auc))\n",
    "\n"
   ]
  },
  {
   "cell_type": "markdown",
   "metadata": {},
   "source": [
    "### 3.2.2.2. Use 16 features, 80-20 train-test split, and stratified sampling option to deal with class imblance"
   ]
  },
  {
   "cell_type": "code",
   "execution_count": 72,
   "metadata": {},
   "outputs": [
    {
     "name": "stdout",
     "output_type": "stream",
     "text": [
      "accuracy = 0.6745, f1_score = 0.4721, precision = 0.3917, recall = 0.5943, auc = 0.6474\n"
     ]
    }
   ],
   "source": [
    "# Use a simple 80-20 train-test split, and use stratified option due to the class imbalance  \n",
    "\n",
    "train_X, test_X, train_y, test_y = train_test_split(X, y, test_size=0.2, random_state=0, shuffle=True, stratify=y)\n",
    "lr = LogisticRegression(class_weight='balanced')\n",
    "lr.fit(train_X[optimized_cols], train_y)\n",
    "test_pred = lr.predict(test_X[optimized_cols])\n",
    "\n",
    "\n",
    "accuracy = round(accuracy_score(test_y, test_pred),4)\n",
    "f1 = round(f1_score(test_y, test_pred),4)\n",
    "precision = round(precision_score(test_y, test_pred),4)\n",
    "recall = round(recall_score(test_y, test_pred),4)\n",
    "auc = round(roc_auc_score(test_y, test_pred), 4)\n",
    "\n",
    "print('accuracy = {}, f1_score = {}, precision = {}, recall = {}, auc = {}'.format(accuracy, f1, precision, recall, auc))\n"
   ]
  },
  {
   "cell_type": "markdown",
   "metadata": {},
   "source": [
    "\n",
    "### 3.2.2.3. Use 16 features, and stratified 5-fold cross validation"
   ]
  },
  {
   "cell_type": "code",
   "execution_count": 73,
   "metadata": {},
   "outputs": [
    {
     "name": "stdout",
     "output_type": "stream",
     "text": [
      "accuracy = 0.6703, f1_score = 0.6893, precision = 0.7293, recall = 0.6703, auc = 0.7017\n"
     ]
    }
   ],
   "source": [
    "from sklearn.model_selection import KFold, cross_val_score\n",
    "\n",
    "#kf = KFold(5, shuffle=True, random_state=1)\n",
    "\n",
    "lr = LogisticRegression(class_weight='balanced')\n",
    "\n",
    "accuracy = round(np.mean(cross_val_score(lr, X[optimized_cols], y, scoring='accuracy', cv=5)),4)\n",
    "f1 = round(np.mean(cross_val_score(lr, X[optimized_cols], y, scoring='f1_weighted', cv=5)),4)\n",
    "precision = round(np.mean(cross_val_score(lr, X[optimized_cols], y, scoring='precision_weighted', cv=5)),4)\n",
    "recall = round(np.mean(cross_val_score(lr, X[optimized_cols], y, scoring='recall_weighted', cv=5)),4)\n",
    "auc = round(np.mean(cross_val_score(lr, X[optimized_cols], y, scoring='roc_auc', cv=5)),4)\n",
    "\n",
    "print('accuracy = {}, f1_score = {}, precision = {}, recall = {}, auc = {}'.format(accuracy, f1, precision, recall, auc))\n"
   ]
  },
  {
   "cell_type": "markdown",
   "metadata": {},
   "source": [
    "### 3.2.2.4. Use 16 features, and stratified 10-fold cross validation"
   ]
  },
  {
   "cell_type": "code",
   "execution_count": 74,
   "metadata": {},
   "outputs": [
    {
     "name": "stdout",
     "output_type": "stream",
     "text": [
      "accuracy = 0.6709, f1_score = 0.6898, precision = 0.7297, recall = 0.6709, auc = 0.7021\n"
     ]
    }
   ],
   "source": [
    "lr = LogisticRegression(class_weight='balanced')\n",
    "\n",
    "accuracy = round(np.mean(cross_val_score(lr, X[optimized_cols], y, scoring='accuracy', cv=10)),4)\n",
    "f1 = round(np.mean(cross_val_score(lr, X[optimized_cols], y, scoring='f1_weighted', cv=10)),4)\n",
    "precision = round(np.mean(cross_val_score(lr, X[optimized_cols], y, scoring='precision_weighted', cv=10)),4)\n",
    "recall = round(np.mean(cross_val_score(lr, X[optimized_cols], y, scoring='recall_weighted', cv=10)),4)\n",
    "auc = round(np.mean(cross_val_score(lr, X[optimized_cols], y, scoring='roc_auc', cv=10)),4)\n",
    "\n",
    "\n",
    "print('accuracy = {}, f1_score = {}, precision = {}, recall = {}, auc = {}'.format(accuracy, f1, precision, recall, auc))"
   ]
  },
  {
   "cell_type": "markdown",
   "metadata": {},
   "source": [
    "### 3.2.2.5. Use all 109 features, and stratified 10-fold cross validation"
   ]
  },
  {
   "cell_type": "code",
   "execution_count": 75,
   "metadata": {},
   "outputs": [
    {
     "name": "stdout",
     "output_type": "stream",
     "text": [
      "accuracy = 0.6497, f1_score = 0.6735, precision = 0.7426, recall = 0.6497, auc = 0.7199\n"
     ]
    }
   ],
   "source": [
    "lr = LogisticRegression(class_weight='balanced')\n",
    "\n",
    "accuracy = round(np.mean(cross_val_score(lr, X, y, scoring='accuracy', cv=5)),4)\n",
    "f1 = round(np.mean(cross_val_score(lr, X, y, scoring='f1_weighted', cv=5)),4)\n",
    "precision = round(np.mean(cross_val_score(lr, X, y, scoring='precision_weighted', cv=5)),4)\n",
    "recall = round(np.mean(cross_val_score(lr, X, y, scoring='recall_weighted', cv=5)),4)\n",
    "auc = round(np.mean(cross_val_score(lr, X, y, scoring='roc_auc', cv=5)),4)\n",
    "\n",
    "print('accuracy = {}, f1_score = {}, precision = {}, recall = {}, auc = {}'.format(accuracy, f1, precision, recall, auc))\n"
   ]
  },
  {
   "cell_type": "markdown",
   "metadata": {},
   "source": [
    "### Observations:\n",
    "Switching to K-Fold cross validation, we can significantly improve the prediction. Going from k=5 to k=10 doesn't really make a difference. Let's stick to 5-fold cross validation for the rest of the modeling as well."
   ]
  },
  {
   "cell_type": "markdown",
   "metadata": {},
   "source": [
    "### 3.2.3. Random Forests"
   ]
  },
  {
   "cell_type": "markdown",
   "metadata": {},
   "source": [
    "### 3.2.3.1. Use 16 optimized features, 5 trees, 5 minimum samples at each leaf"
   ]
  },
  {
   "cell_type": "code",
   "execution_count": 76,
   "metadata": {},
   "outputs": [
    {
     "name": "stdout",
     "output_type": "stream",
     "text": [
      "accuracy = 0.7013, f1_score = 0.701, precision = 0.7008, recall = 0.7013, auc = 0.6516\n"
     ]
    }
   ],
   "source": [
    "from sklearn.ensemble import RandomForestClassifier\n",
    "rf = RandomForestClassifier(n_estimators=5, random_state=0, min_samples_leaf=5, bootstrap=True, class_weight='balanced')\n",
    "\n",
    "accuracy = round(np.mean(cross_val_score(rf, X[optimized_cols], y, scoring='accuracy', cv=5)),4)\n",
    "f1 = round(np.mean(cross_val_score(rf, X[optimized_cols], y, scoring='f1_weighted', cv=5)),4)\n",
    "precision = round(np.mean(cross_val_score(rf, X[optimized_cols], y, scoring='precision_weighted', cv=5)),4)\n",
    "recall = round(np.mean(cross_val_score(rf, X[optimized_cols], y, scoring='recall_weighted', cv=5)),4)\n",
    "auc = round(np.mean(cross_val_score(rf, X[optimized_cols], y, scoring='roc_auc', cv=5)),4)\n",
    "\n",
    "print('accuracy = {}, f1_score = {}, precision = {}, recall = {}, auc = {}'.format(accuracy, f1, precision, recall, auc))\n"
   ]
  },
  {
   "cell_type": "markdown",
   "metadata": {},
   "source": [
    "### 3.2.3.2. Use 16 optimized features, 10 trees, 5 minimum samples at each leaf"
   ]
  },
  {
   "cell_type": "code",
   "execution_count": 77,
   "metadata": {},
   "outputs": [
    {
     "name": "stdout",
     "output_type": "stream",
     "text": [
      "accuracy = 0.7216, f1_score = 0.7149, precision = 0.7096, recall = 0.7216, auc = 0.6728\n"
     ]
    }
   ],
   "source": [
    "rf = RandomForestClassifier(n_estimators=10, random_state=0, min_samples_leaf=5, bootstrap=True, class_weight='balanced')\n",
    "\n",
    "accuracy = round(np.mean(cross_val_score(rf, X[optimized_cols], y, scoring='accuracy', cv=5)),4)\n",
    "f1 = round(np.mean(cross_val_score(rf, X[optimized_cols], y, scoring='f1_weighted', cv=5)),4)\n",
    "precision = round(np.mean(cross_val_score(rf, X[optimized_cols], y, scoring='precision_weighted', cv=5)),4)\n",
    "recall = round(np.mean(cross_val_score(rf, X[optimized_cols], y, scoring='recall_weighted', cv=5)),4)\n",
    "auc = round(np.mean(cross_val_score(rf, X[optimized_cols], y, scoring='roc_auc', cv=5)),4)\n",
    "\n",
    "print('accuracy = {}, f1_score = {}, precision = {}, recall = {}, auc = {}'.format(accuracy, f1, precision, recall, auc))\n"
   ]
  },
  {
   "cell_type": "markdown",
   "metadata": {},
   "source": [
    "### 3.2.3.3. Use all 109 features, 10 trees, 5 minimum samples at each leaf"
   ]
  },
  {
   "cell_type": "code",
   "execution_count": 78,
   "metadata": {},
   "outputs": [
    {
     "name": "stdout",
     "output_type": "stream",
     "text": [
      "accuracy = 0.7192, f1_score = 0.7176, precision = 0.7161, recall = 0.7192, auc = 0.6878\n"
     ]
    }
   ],
   "source": [
    "rf = RandomForestClassifier(n_estimators=10, random_state=0, min_samples_leaf=5, bootstrap=True, class_weight='balanced')\n",
    "\n",
    "accuracy = round(np.mean(cross_val_score(rf, X, y, scoring='accuracy', cv=5)),4)\n",
    "f1 = round(np.mean(cross_val_score(rf, X, y, scoring='f1_weighted', cv=5)),4)\n",
    "precision = round(np.mean(cross_val_score(rf, X, y, scoring='precision_weighted', cv=5)),4)\n",
    "recall = round(np.mean(cross_val_score(rf, X, y, scoring='recall_weighted', cv=5)),4)\n",
    "auc = round(np.mean(cross_val_score(rf, X, y, scoring='roc_auc', cv=5)),4)\n",
    "\n",
    "\n",
    "print('accuracy = {}, f1_score = {}, precision = {}, recall = {}, auc = {}'.format(accuracy, f1, precision, recall, auc))\n"
   ]
  },
  {
   "cell_type": "markdown",
   "metadata": {},
   "source": [
    "### Observations:\n",
    "Using all 109 features, 10 trees, 5 minimum samples at each leaf provide the best results. "
   ]
  },
  {
   "cell_type": "markdown",
   "metadata": {},
   "source": [
    "### 3.2.4. Neural Networks\n",
    "\n",
    "### 3.2.4.1. Use 16 optimized features, 2 hidden layers with 32 nodes each"
   ]
  },
  {
   "cell_type": "code",
   "execution_count": 79,
   "metadata": {},
   "outputs": [
    {
     "name": "stdout",
     "output_type": "stream",
     "text": [
      "accuracy = 0.7645, f1_score = 0.7085, precision = 0.728, recall = 0.7645, auc = 0.7079\n"
     ]
    }
   ],
   "source": [
    "from sklearn.neural_network import MLPClassifier\n",
    "\n",
    "nn = MLPClassifier(hidden_layer_sizes = (32,32), early_stopping=True)\n",
    "\n",
    "accuracy = round(np.mean(cross_val_score(nn, X[optimized_cols], y, scoring='accuracy', cv=5)),4)\n",
    "f1 = round(np.mean(cross_val_score(nn, X[optimized_cols], y, scoring='f1_weighted', cv=5)),4)\n",
    "precision = round(np.mean(cross_val_score(nn, X[optimized_cols], y, scoring='precision_weighted', cv=5)),4)\n",
    "recall = round(np.mean(cross_val_score(nn, X[optimized_cols], y, scoring='recall_weighted', cv=5)),4)\n",
    "auc = round(np.mean(cross_val_score(nn, X[optimized_cols], y, scoring='roc_auc', cv=5)),4)\n",
    "\n",
    "print('accuracy = {}, f1_score = {}, precision = {}, recall = {}, auc = {}'.format(accuracy, f1, precision, recall, auc))\n"
   ]
  },
  {
   "cell_type": "markdown",
   "metadata": {},
   "source": [
    "### 3.2.4.2. Use all 109 features, 2 hidden layers with 32 nodes each"
   ]
  },
  {
   "cell_type": "code",
   "execution_count": 81,
   "metadata": {},
   "outputs": [
    {
     "name": "stdout",
     "output_type": "stream",
     "text": [
      "accuracy = 0.7631, f1_score = 0.7092, precision = 0.7241, recall = 0.7632, auc = 0.7182\n"
     ]
    }
   ],
   "source": [
    "nn = MLPClassifier(hidden_layer_sizes = (32,32), activation='logistic', early_stopping=True)\n",
    "\n",
    "accuracy = round(np.mean(cross_val_score(nn, X, y, scoring='accuracy', cv=5)),4)\n",
    "f1 = round(np.mean(cross_val_score(nn, X, y, scoring='f1_weighted', cv=5)),4)\n",
    "precision = round(np.mean(cross_val_score(nn, X, y, scoring='precision_weighted', cv=5)),4)\n",
    "recall = round(np.mean(cross_val_score(nn, X, y, scoring='recall_weighted', cv=5)),4)\n",
    "auc = round(np.mean(cross_val_score(nn, X, y, scoring='roc_auc', cv=5)),4)\n",
    "\n",
    "print('accuracy = {}, f1_score = {}, precision = {}, recall = {}, auc = {}'.format(accuracy, f1, precision, recall, auc))\n"
   ]
  },
  {
   "cell_type": "markdown",
   "metadata": {},
   "source": [
    "### 3.2.4.3. Use all 109 features, 2 hidden layers with 100 nodes each, use ReLu activation function, Adam solver, and 0.0001 for regularization"
   ]
  },
  {
   "cell_type": "code",
   "execution_count": 82,
   "metadata": {},
   "outputs": [
    {
     "name": "stdout",
     "output_type": "stream",
     "text": [
      "accuracy = 0.7641, f1_score = 0.7092, precision = 0.7264, recall = 0.7646, auc = 0.7199\n"
     ]
    }
   ],
   "source": [
    "nn = MLPClassifier(hidden_layer_sizes = (100,100), solver='adam', alpha=0.0001, activation='relu', shuffle=True, early_stopping=True)\n",
    "\n",
    "accuracy = round(np.mean(cross_val_score(nn, X, y, scoring='accuracy', cv=5)),4)\n",
    "f1 = round(np.mean(cross_val_score(nn, X, y, scoring='f1_weighted', cv=5)),4)\n",
    "precision = round(np.mean(cross_val_score(nn, X, y, scoring='precision_weighted', cv=5)),4)\n",
    "recall = round(np.mean(cross_val_score(nn, X, y, scoring='recall_weighted', cv=5)),4)\n",
    "auc = round(np.mean(cross_val_score(nn, X, y, scoring='roc_auc', cv=5)),4)\n",
    "\n",
    "print('accuracy = {}, f1_score = {}, precision = {}, recall = {}, auc = {}'.format(accuracy, f1, precision, recall, auc))\n"
   ]
  },
  {
   "cell_type": "markdown",
   "metadata": {},
   "source": [
    "### 3.2.5. Learning curve\n",
    "\n",
    "### 3.2.5.1. Logistic regression learning curve, use 16 optimized features"
   ]
  },
  {
   "cell_type": "code",
   "execution_count": 84,
   "metadata": {},
   "outputs": [
    {
     "data": {
      "image/png": "[encoded data removed]",
      "text/plain": [
       "<Figure size 432x288 with 1 Axes>"
      ]
     },
     "metadata": {},
     "output_type": "display_data"
    }
   ],
   "source": [
    "# Plot learning curve for a simple logistic regression model with the optimized 16 features\n",
    "from sklearn.model_selection import learning_curve\n",
    "\n",
    "lr = LogisticRegression(class_weight='balanced')\n",
    "\n",
    "# Percentage of input observations\n",
    "size_obs = np.linspace(0.1, 1.0, 10)\n",
    "\n",
    "train_sizes, train_scores, valid_scores = learning_curve(lr, X[optimized_cols], y, train_sizes=size_obs, scoring='roc_auc', shuffle=True, cv=5)\n",
    "\n",
    "\n",
    "fig4a = plt.figure()\n",
    "train_score = np.mean(np.asarray(train_scores),axis=1)\n",
    "valid_score = np.mean(np.asarray(valid_scores),axis=1)\n",
    "\n",
    "\n",
    "plt.plot(size_obs, train_score, color='blue', label='train_error')\n",
    "plt.plot(size_obs, valid_score, color='orange', label='test_error')\n",
    "plt.legend(fontsize=18)\n",
    "plt.xlabel('Portion of observations',fontsize=18)\n",
    "plt.ylabel('ROC-AUC',fontsize=18)\n",
    "plt.ylim(0.7,0.74)\n",
    "plt.title('Learning Curve of a Simple Logistic Regression Model',fontsize=18)\n",
    "plt.show()"
   ]
  },
  {
   "cell_type": "markdown",
   "metadata": {},
   "source": [
    "### 3.2.5.2. Logistic regression learning curve, use all 109 features"
   ]
  },
  {
   "cell_type": "code",
   "execution_count": 85,
   "metadata": {},
   "outputs": [
    {
     "data": {
      "image/png": "[encoded data removed]",
      "text/plain": [
       "<Figure size 432x288 with 1 Axes>"
      ]
     },
     "metadata": {},
     "output_type": "display_data"
    }
   ],
   "source": [
    "# Learning curve with all 109 features\n",
    "lr = LogisticRegression(class_weight='balanced')\n",
    "\n",
    "# Percentage of input observations \n",
    "size_obs = np.linspace(0.1, 1.0, 10)\n",
    "\n",
    "train_sizes, train_scores, valid_scores = learning_curve(lr, X, y, train_sizes=size_obs, scoring='roc_auc', shuffle=True, cv=5)\n",
    "\n",
    "\n",
    "fig4a1 = plt.figure()\n",
    "train_score = np.mean(np.asarray(train_scores),axis=1)\n",
    "valid_score = np.mean(np.asarray(valid_scores),axis=1)\n",
    "\n",
    "\n",
    "plt.plot(size_obs, train_score, color='blue', label='train_error')\n",
    "plt.plot(size_obs, valid_score, color='orange', label='test_error')\n",
    "plt.legend(fontsize=18)\n",
    "plt.xlabel('Portion of observations',fontsize=18)\n",
    "plt.ylabel('ROC-AUC',fontsize=18)\n",
    "plt.ylim(0.7, 0.74)\n",
    "plt.title('Learning Curve of a Simple Logistic Regression Model',fontsize=18)\n",
    "plt.show()"
   ]
  },
  {
   "cell_type": "markdown",
   "metadata": {},
   "source": [
    "### 3.2.5.3. A simple Neural Network model learning curve, use 16 optimized features, 1 hidder layer with 10 nodes"
   ]
  },
  {
   "cell_type": "code",
   "execution_count": 86,
   "metadata": {},
   "outputs": [
    {
     "data": {
      "image/png": "[encoded data removed]",
      "text/plain": [
       "<Figure size 432x288 with 1 Axes>"
      ]
     },
     "metadata": {},
     "output_type": "display_data"
    }
   ],
   "source": [
    "# Plot learning curve for a neural network model with the optimized 16 features\n",
    "\n",
    "#lr = LogisticRegression(class_weight='balanced')\n",
    "nn = MLPClassifier(hidden_layer_sizes = (10), solver='adam', alpha=0.0001, activation='relu', shuffle=True, early_stopping=True)\n",
    "\n",
    "\n",
    "train_sizes, train_scores, valid_scores = learning_curve(nn, X[optimized_cols], y, train_sizes=size_obs, scoring='roc_auc', cv=5)\n",
    "\n",
    "train_score = np.mean(np.asarray(train_scores),axis=1)\n",
    "valid_score = np.mean(np.asarray(valid_scores),axis=1)\n",
    "fig4b = plt.figure()\n",
    "plt.plot(size_obs, train_score, color='blue', label='train_error')\n",
    "plt.plot(size_obs, valid_score, color='orange', label='test_error')\n",
    "plt.legend(fontsize=18)\n",
    "plt.xlabel('Portion of observations',fontsize=18)\n",
    "plt.ylabel('ROC-AUC',fontsize=18)\n",
    "plt.ylim(0.7, 0.74)\n",
    "plt.title('Learning Curve of a Neural Network Model',fontsize=18)\n",
    "plt.show()"
   ]
  },
  {
   "cell_type": "markdown",
   "metadata": {},
   "source": [
    "### 3.2.5.4. A more complidated Neural Network model learning curve, use all 109 features, 2 hidden layers and 100 nodes each"
   ]
  },
  {
   "cell_type": "code",
   "execution_count": 87,
   "metadata": {},
   "outputs": [
    {
     "data": {
      "image/png": "[encoded data removed]",
      "text/plain": [
       "<Figure size 432x288 with 1 Axes>"
      ]
     },
     "metadata": {},
     "output_type": "display_data"
    }
   ],
   "source": [
    "# Plot learning curve for a neural network model with all 109 features\n",
    "nn = MLPClassifier(hidden_layer_sizes = (100,100), solver='adam', alpha=0.0001, activation='relu', shuffle=True, early_stopping=True)\n",
    "\n",
    "train_sizes, train_scores, valid_scores = learning_curve(nn, X, y, train_sizes=size_obs, scoring='roc_auc', cv=5)\n",
    "\n",
    "\n",
    "train_score = np.mean(np.asarray(train_scores),axis=1)\n",
    "valid_score = np.mean(np.asarray(valid_scores),axis=1)\n",
    "fig4b1 = plt.figure()\n",
    "plt.plot(size_obs, train_score, color='blue', label='train_error')\n",
    "plt.plot(size_obs, valid_score, color='orange', label='test_error')\n",
    "plt.legend(fontsize=18)\n",
    "plt.xlabel('Portion of observations',fontsize=18)\n",
    "plt.ylabel('ROC-AUC',fontsize=18)\n",
    "plt.ylim(0.7, 0.74)\n",
    "plt.title('Learning Curve of a Neural Network Model',fontsize=18)\n",
    "plt.show()"
   ]
  },
  {
   "cell_type": "markdown",
   "metadata": {},
   "source": [
    "### Observations:\n",
    "For the simple Neural Network model, even train set was not able to predict well with less number of observations. \n",
    "For the more complicated Neural Network model, I can see the learning curve of train set and test (cross-validation) set converging, but there's still a gap in between, suggesting larger variance. More number of observations might help bring the two curves closer. "
   ]
  },
  {
   "cell_type": "markdown",
   "metadata": {},
   "source": [
    "### 3.2.5.4. For the more complidated Neural Network model, test different regularization parameters (alpha). "
   ]
  },
  {
   "cell_type": "code",
   "execution_count": 88,
   "metadata": {},
   "outputs": [
    {
     "data": {
      "image/png": "[encoded data removed]",
      "text/plain": [
       "<Figure size 432x288 with 1 Axes>"
      ]
     },
     "metadata": {},
     "output_type": "display_data"
    }
   ],
   "source": [
    "from sklearn.model_selection import validation_curve\n",
    "\n",
    "nn = MLPClassifier(hidden_layer_sizes = (100,100), solver='adam', activation='relu', shuffle=True, early_stopping=True)\n",
    "\n",
    "alpha_range = np.logspace(-7, -4, 5) \n",
    "\n",
    "train_scores, valid_scores = validation_curve(nn, X, y, 'alpha', alpha_range, scoring='roc_auc', cv=5)\n",
    "\n",
    "\n",
    "train_score = np.mean(np.asarray(train_scores),axis=1)\n",
    "valid_score = np.mean(np.asarray(valid_scores),axis=1)\n",
    "fig5 = plt.figure()\n",
    "plt.plot(alpha_range, train_score, color='blue', label='train_error')\n",
    "plt.plot(alpha_range, valid_score, color='orange', label='test_error')\n",
    "plt.legend(fontsize=18)\n",
    "plt.xlabel('Regularization Parameter',fontsize=18)\n",
    "plt.ylabel('ROC-AUC',fontsize=18)\n",
    "plt.title('Validation Curve of a Neural Network Model',fontsize=18)\n",
    "plt.show()"
   ]
  },
  {
   "cell_type": "markdown",
   "metadata": {},
   "source": [
    "### Observation:\n",
    "I was hoping to see that with a larger regularization parameter, the more complicated Neural Network model could perform better and avoid overfitting. But the plot above shows inconclusive results."
   ]
  }
 ],
 "metadata": {
  "kernelspec": {
   "display_name": "Python 3",
   "language": "python",
   "name": "python3"
  },
  "language_info": {
   "codemirror_mode": {
    "name": "ipython",
    "version": 3
   },
   "file_extension": ".py",
   "mimetype": "text/x-python",
   "name": "python",
   "nbconvert_exporter": "python",
   "pygments_lexer": "ipython3",
   "version": "3.6.5"
  }
 },
 "nbformat": 4,
 "nbformat_minor": 2
}
